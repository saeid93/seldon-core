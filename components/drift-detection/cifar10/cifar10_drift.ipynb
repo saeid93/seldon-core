{
 "cells": [
  {
   "cell_type": "markdown",
   "metadata": {},
   "source": [
    "# Cifar10 Drift Detection\n",
    "\n",
    "In this example we will deploy an image classification model along with a drift detector trained on the same dataset. For in depth details on creating a drift detection model for your own dataset see the [alibi-detect project](https://github.com/SeldonIO/alibi-detect) and associated [documentation](https://docs.seldon.io/projects/alibi-detect/en/latest/). You can find details for this [CIFAR10 example in their documentation](https://docs.seldon.io/projects/alibi-detect/en/latest/examples/cd_ks_cifar10.html) as well.\n",
    "\n",
    "\n",
    "Prequisites:\n",
    "\n",
    " * [Knative eventing installed](https://knative.dev/docs/install/)\n",
    "     * Ensure the istio-ingressgateway is exposed as a loadbalancer (no auth in this demo)\n",
    " * [Seldon Core installed](https://docs.seldon.io/projects/seldon-core/en/latest/workflow/install.html) \n",
    "    * Ensure you install for istio, e.g. for the helm chart `--set istio.enabled=true`\n",
    " \n",
    " Tested on GKE and Kind with Knative 0.18 and Istio 1.7.3"
   ]
  },
  {
   "cell_type": "code",
   "execution_count": 3,
   "metadata": {},
   "outputs": [],
   "source": [
    "!pip install -r requirements_notebook.txt"
   ]
  },
  {
   "cell_type": "markdown",
   "metadata": {},
   "source": [
    "Ensure gateway installed"
   ]
  },
  {
   "cell_type": "code",
   "execution_count": 4,
   "metadata": {},
   "outputs": [
    {
     "name": "stdout",
     "output_type": "stream",
     "text": [
      "gateway.networking.istio.io/seldon-gateway unchanged\n"
     ]
    }
   ],
   "source": [
    "!kubectl apply -f ../../../notebooks/resources/seldon-gateway.yaml"
   ]
  },
  {
   "cell_type": "markdown",
   "metadata": {},
   "source": [
    "## Setup Resources"
   ]
  },
  {
   "cell_type": "code",
   "execution_count": 5,
   "metadata": {},
   "outputs": [
    {
     "name": "stdout",
     "output_type": "stream",
     "text": [
      "Error from server (AlreadyExists): namespaces \"cifar10drift\" already exists\n"
     ]
    }
   ],
   "source": [
    "!kubectl create namespace cifar10drift"
   ]
  },
  {
   "cell_type": "code",
   "execution_count": 6,
   "metadata": {},
   "outputs": [
    {
     "name": "stdout",
     "output_type": "stream",
     "text": [
      "Overwriting broker.yaml\n"
     ]
    }
   ],
   "source": [
    "%%writefile broker.yaml\n",
    "apiVersion: eventing.knative.dev/v1\n",
    "kind: broker\n",
    "metadata:\n",
    " name: default\n",
    " namespace: cifar10drift"
   ]
  },
  {
   "cell_type": "code",
   "execution_count": 7,
   "metadata": {},
   "outputs": [
    {
     "name": "stdout",
     "output_type": "stream",
     "text": [
      "Error from server (AlreadyExists): error when creating \"broker.yaml\": brokers.eventing.knative.dev \"default\" already exists\n"
     ]
    }
   ],
   "source": [
    "!kubectl create -f broker.yaml"
   ]
  },
  {
   "cell_type": "code",
   "execution_count": 8,
   "metadata": {},
   "outputs": [
    {
     "name": "stdout",
     "output_type": "stream",
     "text": [
      "Overwriting event-display.yaml\n"
     ]
    }
   ],
   "source": [
    "%%writefile event-display.yaml\n",
    "apiVersion: apps/v1\n",
    "kind: Deployment\n",
    "metadata:\n",
    "  name: hello-display\n",
    "  namespace: cifar10drift\n",
    "spec:\n",
    "  replicas: 1\n",
    "  selector:\n",
    "    matchLabels: &labels\n",
    "      app: hello-display\n",
    "  template:\n",
    "    metadata:\n",
    "      labels: *labels\n",
    "    spec:\n",
    "      containers:\n",
    "        - name: event-display\n",
    "          image: gcr.io/knative-releases/knative.dev/eventing-contrib/cmd/event_display\n",
    "\n",
    "---\n",
    "\n",
    "kind: Service\n",
    "apiVersion: v1\n",
    "metadata:\n",
    "  name: hello-display\n",
    "  namespace: cifar10drift\n",
    "spec:\n",
    "  selector:\n",
    "    app: hello-display\n",
    "  ports:\n",
    "  - protocol: TCP\n",
    "    port: 80\n",
    "    targetPort: 8080"
   ]
  },
  {
   "cell_type": "code",
   "execution_count": 9,
   "metadata": {},
   "outputs": [
    {
     "name": "stdout",
     "output_type": "stream",
     "text": [
      "deployment.apps/hello-display unchanged\n",
      "service/hello-display unchanged\n"
     ]
    }
   ],
   "source": [
    "!kubectl apply -f event-display.yaml"
   ]
  },
  {
   "cell_type": "markdown",
   "metadata": {},
   "source": [
    "Create the SeldonDeployment image classification model for Cifar10. We add in a `logger` for requests - the default destination is the namespace Knative Broker."
   ]
  },
  {
   "cell_type": "code",
   "execution_count": 10,
   "metadata": {},
   "outputs": [
    {
     "name": "stdout",
     "output_type": "stream",
     "text": [
      "Overwriting cifar10.yaml\n"
     ]
    }
   ],
   "source": [
    "%%writefile cifar10.yaml\n",
    "apiVersion: machinelearning.seldon.io/v1\n",
    "kind: SeldonDeployment\n",
    "metadata:\n",
    "  name: tfserving-cifar10\n",
    "  namespace: cifar10drift\n",
    "spec:\n",
    "  protocol: tensorflow\n",
    "  transport: rest\n",
    "  predictors:\n",
    "  - componentSpecs:\n",
    "    - spec:\n",
    "        containers:\n",
    "        - args: \n",
    "          - --port=8500\n",
    "          - --rest_api_port=8501\n",
    "          - --model_name=resnet32\n",
    "          - --model_base_path=gs://seldon-models/tfserving/cifar10/resnet32\n",
    "          image: tensorflow/serving\n",
    "          name: resnet32\n",
    "          ports:\n",
    "          - containerPort: 8501\n",
    "            name: http\n",
    "            protocol: TCP\n",
    "    graph:\n",
    "      name: resnet32\n",
    "      type: MODEL\n",
    "      endpoint:\n",
    "        service_port: 8501\n",
    "      logger:\n",
    "        mode: all\n",
    "        url: http://broker-ingress.knative-eventing.svc.cluster.local/cifar10drift/default\n",
    "    name: model\n",
    "    replicas: 1\n"
   ]
  },
  {
   "cell_type": "code",
   "execution_count": 11,
   "metadata": {},
   "outputs": [
    {
     "name": "stdout",
     "output_type": "stream",
     "text": [
      "seldondeployment.machinelearning.seldon.io/tfserving-cifar10 unchanged\n"
     ]
    }
   ],
   "source": [
    "!kubectl apply -f cifar10.yaml"
   ]
  },
  {
   "cell_type": "markdown",
   "metadata": {},
   "source": [
    "Create the pretrained Drift Detector. We forward replies to the message-dumper we started. Notice the `drift_batch_size`. The drift detector will wait until `drify_batch_size` number of requests are received before making a drift prediction."
   ]
  },
  {
   "cell_type": "markdown",
   "metadata": {},
   "source": [
    "Here we configure `seldonio/alibi-detect-server` to use rclone for downloading the artifact. \n",
    "If `RCLONE_ENABLED=true` environmental variable is set or any of the enviromental variables contain `RCLONE_CONFIG` in their name then rclone\n",
    "will be used to download the artifacts. If `RCLONE_ENABLED=false` or no `RCLONE_CONFIG` variables are present then kfserving storage.py logic will be used to download the artifacts."
   ]
  },
  {
   "cell_type": "code",
   "execution_count": 42,
   "metadata": {},
   "outputs": [
    {
     "name": "stdout",
     "output_type": "stream",
     "text": [
      "Overwriting cifar10cd.yaml\n"
     ]
    }
   ],
   "source": [
    "%%writefile cifar10cd.yaml\n",
    "\n",
    "apiVersion: v1\n",
    "kind: Secret\n",
    "metadata:\n",
    "  name: seldon-rclone-secret\n",
    "  namespace: cifar10drift    \n",
    "type: Opaque\n",
    "stringData:\n",
    "  RCLONE_CONFIG_GS_TYPE: google cloud storage\n",
    "  RCLONE_CONFIG_GS_ANONYMOUS: \"true\"\n",
    "\n",
    "---            \n",
    "\n",
    "\n",
    "apiVersion: serving.knative.dev/v1\n",
    "kind: Service\n",
    "metadata:\n",
    "  name: drift-detector\n",
    "  namespace: cifar10drift\n",
    "spec:\n",
    "  template:\n",
    "    metadata:\n",
    "      annotations:\n",
    "        autoscaling.knative.dev/minScale: \"1\"\n",
    "    spec:\n",
    "      containers:\n",
    "      - image: seldonio/alibi-detect-server:1.8.0-dev\n",
    "        imagePullPolicy: IfNotPresent\n",
    "        args:\n",
    "        - --model_name\n",
    "        - cifar10cd\n",
    "        - --http_port\n",
    "        - '8080'\n",
    "        - --protocol\n",
    "        - tensorflow.http\n",
    "        - --storage_uri\n",
    "        - gs://seldon-models/alibi-detect/cd/ks/cifar10-0_4_4\n",
    "        - --reply_url\n",
    "        - http://hello-display.cifar10drift\n",
    "        - --event_type\n",
    "        - io.seldon.serving.inference.drift\n",
    "        - --event_source\n",
    "        - io.seldon.serving.cifar10cd\n",
    "        - DriftDetector\n",
    "        - --drift_batch_size\n",
    "        - '5000'\n",
    "        envFrom:\n",
    "        - secretRef:\n",
    "            name: seldon-rclone-secret        "
   ]
  },
  {
   "cell_type": "code",
   "execution_count": 43,
   "metadata": {},
   "outputs": [
    {
     "name": "stdout",
     "output_type": "stream",
     "text": [
      "secret/seldon-rclone-secret configured\n",
      "service.serving.knative.dev/drift-detector configured\n"
     ]
    }
   ],
   "source": [
    "!kubectl apply -f cifar10cd.yaml"
   ]
  },
  {
   "cell_type": "markdown",
   "metadata": {},
   "source": [
    "Create a Knative trigger to forward logging events to our Outlier Detector."
   ]
  },
  {
   "cell_type": "code",
   "execution_count": 44,
   "metadata": {},
   "outputs": [
    {
     "name": "stdout",
     "output_type": "stream",
     "text": [
      "Overwriting trigger.yaml\n"
     ]
    }
   ],
   "source": [
    "%%writefile trigger.yaml\n",
    "apiVersion: eventing.knative.dev/v1\n",
    "kind: Trigger\n",
    "metadata:\n",
    "  name: drift-trigger\n",
    "  namespace: cifar10drift\n",
    "spec:\n",
    "  broker: default\n",
    "  filter:\n",
    "    attributes:\n",
    "      type: io.seldon.serving.inference.request\n",
    "  subscriber:\n",
    "    ref:\n",
    "      apiVersion: serving.knative.dev/v1\n",
    "      kind: Service\n",
    "      name: drift-detector\n",
    "      namespace: cifar10drift\n"
   ]
  },
  {
   "cell_type": "code",
   "execution_count": 45,
   "metadata": {},
   "outputs": [
    {
     "name": "stdout",
     "output_type": "stream",
     "text": [
      "trigger.eventing.knative.dev/drift-trigger unchanged\n"
     ]
    }
   ],
   "source": [
    "!kubectl apply -f trigger.yaml"
   ]
  },
  {
   "cell_type": "markdown",
   "metadata": {},
   "source": [
    "Get the IP address of the Istio Ingress Gateway. This assumes you have installed istio with a LoadBalancer."
   ]
  },
  {
   "cell_type": "code",
   "execution_count": 46,
   "metadata": {},
   "outputs": [
    {
     "name": "stdout",
     "output_type": "stream",
     "text": [
      "172.18.255.1\n"
     ]
    }
   ],
   "source": [
    "CLUSTER_IPS=!(kubectl -n istio-system get service istio-ingressgateway -o jsonpath='{.status.loadBalancer.ingress[0].ip}')\n",
    "CLUSTER_IP=CLUSTER_IPS[0]\n",
    "print(CLUSTER_IP)"
   ]
  },
  {
   "cell_type": "markdown",
   "metadata": {},
   "source": [
    "If you are using Kind or Minikube you will need to port-forward to the istio ingressgateway and uncomment the following"
   ]
  },
  {
   "cell_type": "code",
   "execution_count": 47,
   "metadata": {},
   "outputs": [],
   "source": [
    "#CLUSTER_IP=\"localhost:8004\""
   ]
  },
  {
   "cell_type": "code",
   "execution_count": 48,
   "metadata": {},
   "outputs": [
    {
     "name": "stdout",
     "output_type": "stream",
     "text": [
      "drift-detector.cifar10drift.example.com\n"
     ]
    }
   ],
   "source": [
    "SERVICE_HOSTNAMES=!(kubectl get ksvc -n cifar10drift drift-detector -o jsonpath='{.status.url}' | cut -d \"/\" -f 3)\n",
    "SERVICE_HOSTNAME_CD=SERVICE_HOSTNAMES[0]\n",
    "print(SERVICE_HOSTNAME_CD)"
   ]
  },
  {
   "cell_type": "code",
   "execution_count": 49,
   "metadata": {},
   "outputs": [
    {
     "name": "stdout",
     "output_type": "stream",
     "text": [
      "(50000, 32, 32, 3) (50000, 1) (10000, 32, 32, 3) (10000, 1)\n"
     ]
    }
   ],
   "source": [
    "import matplotlib.pyplot as plt\n",
    "import numpy as np\n",
    "import requests\n",
    "import json\n",
    "import tensorflow as tf\n",
    "tf.keras.backend.clear_session()\n",
    "\n",
    "train, test = tf.keras.datasets.cifar10.load_data()\n",
    "X_train, y_train = train\n",
    "X_test, y_test = test\n",
    "\n",
    "X_train = X_train.astype('float32') / 255\n",
    "X_test = X_test.astype('float32') / 255\n",
    "print(X_train.shape, y_train.shape, X_test.shape, y_test.shape)\n",
    "classes = ('plane', 'car', 'bird', 'cat',\n",
    "           'deer', 'dog', 'frog', 'horse', 'ship', 'truck')\n",
    "\n",
    "def show(X):\n",
    "    plt.imshow(X.reshape(32, 32, 3))\n",
    "    plt.axis('off')\n",
    "    plt.show()\n",
    "\n",
    "def predict(X):\n",
    "    formData = {\n",
    "    'instances': X.tolist()\n",
    "    }\n",
    "    headers = {}\n",
    "    res = requests.post('http://'+CLUSTER_IP+'/seldon/cifar10drift/tfserving-cifar10/v1/models/resnet32/:predict', json=formData, headers=headers)\n",
    "    if res.status_code == 200:\n",
    "        j = res.json()\n",
    "        if len(j[\"predictions\"]) == 1:\n",
    "            return classes[np.array(j[\"predictions\"])[0].argmax()]\n",
    "    else:\n",
    "        print(\"Failed with \",res.status_code)\n",
    "        return []\n",
    "    \n",
    "def drift(X):\n",
    "    formData = {\n",
    "    'instances': X.tolist()\n",
    "    }\n",
    "    headers = {}\n",
    "    headers = { \"ce-namespace\": \"default\",\"ce-modelid\":\"cifar10drift\",\"ce-type\":\"io.seldon.serving.inference.request\", \\\n",
    "                \"ce-id\":\"1234\",\"ce-source\":\"localhost\",\"ce-specversion\":\"1.0\"}\n",
    "    headers[\"Host\"] = SERVICE_HOSTNAME_CD\n",
    "    res = requests.post('http://'+CLUSTER_IP+'/', json=formData, headers=headers)\n",
    "    if res.status_code == 200:\n",
    "        od = res.json()\n",
    "        return od\n",
    "    else:\n",
    "        print(\"Failed with \",res.status_code)\n",
    "        return []"
   ]
  },
  {
   "cell_type": "markdown",
   "metadata": {},
   "source": [
    "## Normal Prediction"
   ]
  },
  {
   "cell_type": "code",
   "execution_count": 50,
   "metadata": {
    "scrolled": true
   },
   "outputs": [
    {
     "data": {
      "image/png": "[encoded data removed]",
      "text/plain": [
       "<Figure size 432x288 with 1 Axes>"
      ]
     },
     "metadata": {
      "needs_background": "light"
     },
     "output_type": "display_data"
    },
    {
     "data": {
      "text/plain": [
       "'truck'"
      ]
     },
     "execution_count": 50,
     "metadata": {},
     "output_type": "execute_result"
    }
   ],
   "source": [
    "idx = 1\n",
    "X = X_train[idx:idx+1]\n",
    "show(X)\n",
    "predict(X)"
   ]
  },
  {
   "cell_type": "markdown",
   "metadata": {},
   "source": [
    "## Test Drift"
   ]
  },
  {
   "cell_type": "markdown",
   "metadata": {},
   "source": [
    "We need to accumulate a large enough batch size so no drift will be tested as yet."
   ]
  },
  {
   "cell_type": "code",
   "execution_count": 51,
   "metadata": {},
   "outputs": [
    {
     "name": "stdout",
     "output_type": "stream",
     "text": [
      "☁️  cloudevents.Event\n",
      "Validation: valid\n",
      "Context Attributes,\n",
      "  specversion: 1.0\n",
      "  type: io.seldon.serving.inference.drift\n",
      "  source: io.seldon.serving.cifar10cd\n",
      "  id: 2c10fbe2-f43d-4ca9-a13e-2fce016f0f76\n",
      "  datacontenttype: application/json\n",
      "Extensions,\n",
      "  datacontenttype: application/json\n",
      "  endpoint: model\n",
      "  inferenceservicename: tfserving-cifar10\n",
      "  knativearrivaltime: 2021-05-12T13:16:58.651766746Z\n",
      "  knativehistory: default-kne-trigger-kn-channel.cifar10drift.svc.cluster.local\n",
      "  modelid: resnet32\n",
      "  namespace: cifar10drift\n",
      "  requestid: 8ffc70d5-a672-4c93-bc14-25d2685a4407\n",
      "  traceparent: 00-c20604528630c8d71db5d6edde6075a3-e003ccb52bdfa884-00\n",
      "Data,\n",
      "  \"{\\\"data\\\": {\\\"is_drift\\\": 0, \\\"distance\\\": [0.02034001238644123, 0.015247910283505917, 0.01797136664390564, 0.020757608115673065, 0.015546650625765324, 0.020235512405633926, 0.0174444317817688, 0.02709726057946682, 0.017980124801397324, 0.01426214724779129, 0.021082984283566475, 0.02285262942314148, 0.02567242458462715, 0.02408074401319027, 0.012295660562813282, 0.01230973843485117, 0.01437152549624443, 0.023169726133346558, 0.019348571076989174, 0.019863108173012733, 0.020116576924920082, 0.02951645664870739, 0.013265427201986313, 0.013755128718912601, 0.020870545879006386, 0.021712416782975197, 0.014476824551820755, 0.018704859539866447, 0.022685622796416283, 0.02446802705526352, 0.017233233898878098, 0.022092580795288086], \\\"p_val\\\": [0.2488422989845276, 0.6008104085922241, 0.3901328146457672, 0.2284145951271057, 0.5759391784667969, 0.25415995717048645, 0.42737877368927, 0.04996078461408615, 0.38953083753585815, 0.6837745308876038, 0.21339522302150726, 0.14460472762584686, 0.07283377647399902, 0.108327716588974, 0.8394819498062134, 0.8384828567504883, 0.6745736002922058, 0.13440917432308197, 0.3026794493198395, 0.2737903594970703, 0.26031363010406494, 0.025144921615719795, 0.765920102596283, 0.7260689735412598, 0.22311334311962128, 0.1865001916885376, 0.6657025814056396, 0.34173062443733215, 0.15022000670433044, 0.0985845997929573, 0.44285809993743896, 0.17158570885658264], \\\"threshold\\\": 0.0015625}, \\\"meta\\\": {\\\"name\\\": \\\"KSDrift\\\", \\\"detector_type\\\": \\\"offline\\\", \\\"data_type\\\": null}}\"\n",
      "☁️  cloudevents.Event\n",
      "Validation: valid\n",
      "Context Attributes,\n",
      "  specversion: 1.0\n",
      "  type: io.seldon.serving.inference.drift\n",
      "  source: io.seldon.serving.cifar10cd\n",
      "  id: 78c8c780-5314-4602-ad95-08ec56950241\n",
      "  datacontenttype: application/json\n",
      "Extensions,\n",
      "  datacontenttype: application/json\n",
      "  endpoint: model\n",
      "  inferenceservicename: tfserving-cifar10\n",
      "  knativearrivaltime: 2021-05-12T13:19:58.146586917Z\n",
      "  knativehistory: default-kne-trigger-kn-channel.cifar10drift.svc.cluster.local\n",
      "  modelid: resnet32\n",
      "  namespace: cifar10drift\n",
      "  requestid: fd258cd0-addb-48e7-a262-5117eca90605\n",
      "  traceparent: 00-9adc8d40ccb026d81bf9f7b56e26731d-8ca43007e2ea438f-00\n",
      "Data,\n",
      "  \"{\\\"data\\\": {\\\"is_drift\\\": 0, \\\"distance\\\": [0.02534129098057747, 0.019455349072813988, 0.018564486876130104, 0.017164727672934532, 0.018880784511566162, 0.017182564362883568, 0.018239112570881844, 0.019043751060962677, 0.02446526661515236, 0.0168598685413599, 0.03348050266504288, 0.02682587504386902, 0.022839592769742012, 0.02329082228243351, 0.016494980081915855, 0.014509297907352448, 0.014447270892560482, 0.017970765009522438, 0.01854313164949417, 0.016967127099633217, 0.020245671272277832, 0.018110457807779312, 0.017264626920223236, 0.02135360985994339, 0.0264295544475317, 0.024911778047680855, 0.019677504897117615, 0.025282783433794975, 0.03149370104074478, 0.022254828363656998, 0.020830754190683365, 0.020097261294722557], \\\"p_val\\\": [0.07927045226097107, 0.2965146601200104, 0.3506747782230377, 0.44794410467147827, 0.33073702454566956, 0.44661688804626465, 0.37199002504348755, 0.3207682967185974, 0.09865134954452515, 0.47094887495040894, 0.007191904820501804, 0.053763918578624725, 0.14503692090511322, 0.13067291676998138, 0.4992358088493347, 0.6629649996757507, 0.6681933999061584, 0.3901740610599518, 0.3520488739013672, 0.4627872109413147, 0.2536394000053406, 0.38064056634902954, 0.4405378997325897, 0.20148807764053345, 0.05976467579603195, 0.08832921087741852, 0.2839736342430115, 0.08045630156993866, 0.013735480606555939, 0.16551445424556732, 0.22497043013572693, 0.2613232433795929], \\\"threshold\\\": 0.0015625}, \\\"meta\\\": {\\\"name\\\": \\\"KSDrift\\\", \\\"detector_type\\\": \\\"offline\\\", \\\"data_type\\\": null}}\"\n"
     ]
    }
   ],
   "source": [
    "!kubectl logs -n cifar10drift $(kubectl get pod -n cifar10drift -l app=hello-display -o jsonpath='{.items[0].metadata.name}') "
   ]
  },
  {
   "cell_type": "markdown",
   "metadata": {},
   "source": [
    "We will now send 5000 requests to the model in batches. The drift detector will run at the end of this as we set the `drift_batch_size` to 5000 in our yaml above."
   ]
  },
  {
   "cell_type": "code",
   "execution_count": 52,
   "metadata": {},
   "outputs": [
    {
     "name": "stderr",
     "output_type": "stream",
     "text": [
      "100%|██████████| 50/50 [00:36<00:00,  1.35it/s]\n"
     ]
    }
   ],
   "source": [
    "from tqdm import tqdm\n",
    "for i in tqdm(range(0,5000,100)):\n",
    "    X = X_train[i:i+100]\n",
    "    predict(X)"
   ]
  },
  {
   "cell_type": "markdown",
   "metadata": {},
   "source": [
    "Let's check the message dumper and extract the first drift result."
   ]
  },
  {
   "cell_type": "code",
   "execution_count": 53,
   "metadata": {},
   "outputs": [
    {
     "name": "stdout",
     "output_type": "stream",
     "text": [
      "Drift False\n"
     ]
    }
   ],
   "source": [
    "res=!kubectl logs -n cifar10drift $(kubectl get pod -n cifar10drift -l app=hello-display -o jsonpath='{.items[0].metadata.name}') \n",
    "data= []\n",
    "for i in range(0,len(res)):\n",
    "    if res[i] == 'Data,':\n",
    "        data.append(res[i+1])\n",
    "j = json.loads(json.loads(data[0]))\n",
    "print(\"Drift\",j[\"data\"][\"is_drift\"]==1)"
   ]
  },
  {
   "cell_type": "markdown",
   "metadata": {},
   "source": [
    "Now, let's create some CIFAR10 examples with motion blur."
   ]
  },
  {
   "cell_type": "code",
   "execution_count": 61,
   "metadata": {},
   "outputs": [],
   "source": [
    "from alibi_detect.datasets import fetch_cifar10c, corruption_types_cifar10c\n",
    "corruption = ['motion_blur']\n",
    "X_corr, y_corr = fetch_cifar10c(corruption=corruption, severity=5, return_X_y=True)\n",
    "X_corr = X_corr.astype('float32') / 255"
   ]
  },
  {
   "cell_type": "code",
   "execution_count": 62,
   "metadata": {},
   "outputs": [
    {
     "data": {
      "image/png": "[encoded data removed]",
      "text/plain": [
       "<Figure size 432x288 with 1 Axes>"
      ]
     },
     "metadata": {
      "needs_background": "light"
     },
     "output_type": "display_data"
    },
    {
     "data": {
      "image/png": "[encoded data removed]",
      "text/plain": [
       "<Figure size 432x288 with 1 Axes>"
      ]
     },
     "metadata": {
      "needs_background": "light"
     },
     "output_type": "display_data"
    },
    {
     "data": {
      "image/png": "[encoded data removed]",
      "text/plain": [
       "<Figure size 432x288 with 1 Axes>"
      ]
     },
     "metadata": {
      "needs_background": "light"
     },
     "output_type": "display_data"
    }
   ],
   "source": [
    "show(X_corr[0])\n",
    "show(X_corr[1])\n",
    "show(X_corr[2])"
   ]
  },
  {
   "cell_type": "markdown",
   "metadata": {},
   "source": [
    "Send these examples to the predictor."
   ]
  },
  {
   "cell_type": "code",
   "execution_count": 63,
   "metadata": {},
   "outputs": [
    {
     "name": "stderr",
     "output_type": "stream",
     "text": [
      "100%|██████████| 50/50 [00:37<00:00,  1.35it/s]\n"
     ]
    }
   ],
   "source": [
    "for i in tqdm(range(0,5000,100)):\n",
    "    X = X_corr[i:i+100]\n",
    "    predict(X)"
   ]
  },
  {
   "cell_type": "markdown",
   "metadata": {},
   "source": [
    "Now when we check the message dump we should find a new drift response."
   ]
  },
  {
   "cell_type": "code",
   "execution_count": 64,
   "metadata": {},
   "outputs": [
    {
     "name": "stdout",
     "output_type": "stream",
     "text": [
      "Drift True\n"
     ]
    }
   ],
   "source": [
    "res=!kubectl logs -n cifar10drift $(kubectl get pod -n cifar10drift -l app=hello-display -o jsonpath='{.items[0].metadata.name}') \n",
    "data= []\n",
    "for i in range(0,len(res)):\n",
    "    if res[i] == 'Data,':\n",
    "        data.append(res[i+1])\n",
    "j = json.loads(json.loads(data[-1]))\n",
    "print(\"Drift\",j[\"data\"][\"is_drift\"]==1)"
   ]
  },
  {
   "cell_type": "markdown",
   "metadata": {},
   "source": [
    "## Tear Down"
   ]
  },
  {
   "cell_type": "code",
   "execution_count": null,
   "metadata": {},
   "outputs": [
    {
     "name": "stdout",
     "output_type": "stream",
     "text": [
      "namespace \"cifar10drift\" deleted\n"
     ]
    }
   ],
   "source": [
    "!kubectl delete ns cifar10drift"
   ]
  }
 ],
 "metadata": {
  "kernelspec": {
   "display_name": "Python 3",
   "language": "python",
   "name": "python3"
  },
  "language_info": {
   "codemirror_mode": {
    "name": "ipython",
    "version": 3
   },
   "file_extension": ".py",
   "mimetype": "text/x-python",
   "name": "python",
   "nbconvert_exporter": "python",
   "pygments_lexer": "ipython3",
   "version": "3.7.10"
  }
 },
 "nbformat": 4,
 "nbformat_minor": 4
}
