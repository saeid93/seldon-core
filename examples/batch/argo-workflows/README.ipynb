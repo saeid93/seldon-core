{
 "cells": [
  {
   "cell_type": "markdown",
   "metadata": {},
   "source": [
    "## Batch processing with Argo Worfklows\n",
    "\n",
    "In this notebook we will dive into how you can run batch processing with Argo Workflows and Seldon Core.\n",
    "\n",
    "Dependencies:\n",
    "\n",
    "* Seldon core installed as per the docs with an ingress\n",
    "* Argo Workfklows installed in cluster (and argo CLI for commands)\n"
   ]
  },
  {
   "cell_type": "markdown",
   "metadata": {},
   "source": [
    "## Argo Workflows Example\n",
    "\n",
    "Let's try an argo workflows example to see intuitively how it works. \n",
    "\n",
    "In this case we will trigger a workflow with 3 steps (first one will execute and the other two jobs are dependent on that)"
   ]
  },
  {
   "cell_type": "code",
   "execution_count": 1,
   "metadata": {},
   "outputs": [],
   "source": [
    "mkdir -p assets"
   ]
  },
  {
   "cell_type": "code",
   "execution_count": 12,
   "metadata": {},
   "outputs": [
    {
     "name": "stdout",
     "output_type": "stream",
     "text": [
      "Overwriting assets/argo-example.yaml\n"
     ]
    }
   ],
   "source": [
    "%%writefile assets/argo-example.yaml\n",
    "---\n",
    "apiVersion: argoproj.io/v1alpha1\n",
    "kind: Workflow\n",
    "metadata:\n",
    "  generateName: steps-\n",
    "spec:\n",
    "  entrypoint: hello-hello-hello\n",
    "  # This spec contains two templates: hello-hello-hello and whalesay\n",
    "  templates:\n",
    "  - name: hello-hello-hello\n",
    "    # Instead of just running a container\n",
    "    # This template has a sequence of steps\n",
    "    steps:\n",
    "    - - name: hello1            # hello1 is run before the following steps\n",
    "        template: whalesay\n",
    "        arguments:\n",
    "          parameters:\n",
    "          - name: message\n",
    "            value: \"hello1\"\n",
    "    - - name: hello2a           # double dash => run after previous step\n",
    "        template: whalesay\n",
    "        arguments:\n",
    "          parameters:\n",
    "          - name: message\n",
    "            value: \"hello2a\"\n",
    "      - name: hello2b           # single dash => run in parallel with previous step\n",
    "        template: whalesay\n",
    "        arguments:\n",
    "          parameters:\n",
    "          - name: message\n",
    "            value: \"hello2b\"\n",
    "  # This is the same template as from the previous example\n",
    "  - name: whalesay\n",
    "    inputs:\n",
    "      parameters:\n",
    "      - name: message\n",
    "    container:\n",
    "      image: docker/whalesay\n",
    "      command: [cowsay]\n",
    "      args: [\"{{inputs.parameters.message}}\"]\n",
    "        "
   ]
  },
  {
   "cell_type": "code",
   "execution_count": 13,
   "metadata": {},
   "outputs": [
    {
     "name": "stdout",
     "output_type": "stream",
     "text": [
      "Name:                steps-9tgj9\r\n",
      "Namespace:           default\r\n",
      "ServiceAccount:      default\r\n",
      "Status:              Pending\r\n",
      "Created:             Fri Apr 17 08:27:14 +0100 (8 hours ago)\r\n"
     ]
    }
   ],
   "source": [
    "!argo submit assets/argo-example.yaml"
   ]
  },
  {
   "cell_type": "code",
   "execution_count": 14,
   "metadata": {},
   "outputs": [
    {
     "name": "stdout",
     "output_type": "stream",
     "text": [
      "NAME          STATUS      AGE   DURATION   PRIORITY\r\n",
      "steps-9tgj9   Succeeded   8h    3m         0\r\n"
     ]
    }
   ],
   "source": [
    "!argo list"
   ]
  },
  {
   "cell_type": "code",
   "execution_count": 20,
   "metadata": {},
   "outputs": [
    {
     "name": "stdout",
     "output_type": "stream",
     "text": [
      "steps-9tgj9\n"
     ]
    }
   ],
   "source": [
    "output=!argo list | grep steps\n",
    "WF_NAME=output[0].split()[0]\n",
    "print(WF_NAME)"
   ]
  },
  {
   "cell_type": "code",
   "execution_count": 23,
   "metadata": {},
   "outputs": [
    {
     "name": "stdout",
     "output_type": "stream",
     "text": [
      "Name:                steps-9tgj9\n",
      "Namespace:           default\n",
      "ServiceAccount:      default\n",
      "Status:              Succeeded\n",
      "Created:             Fri Apr 17 08:27:14 +0100 (8 hours ago)\n",
      "Started:             Fri Apr 17 08:27:14 +0100 (8 hours ago)\n",
      "Finished:            Fri Apr 17 08:30:48 +0100 (8 hours ago)\n",
      "Duration:            3 minutes 34 seconds\n",
      "\n",
      "\u001b[39mSTEP\u001b[0m                                PODNAME                 DURATION  MESSAGE\n",
      " \u001b[32m✔\u001b[0m steps-9tgj9 (hello-hello-hello)                                    \n",
      " ├---\u001b[32m✔\u001b[0m hello1 (whalesay)            steps-9tgj9-3240403473  3m        \n",
      " └-·-\u001b[32m✔\u001b[0m hello2a (whalesay)           steps-9tgj9-3510808138  3s        \n",
      "   └-\u001b[32m✔\u001b[0m hello2b (whalesay)           steps-9tgj9-3494030519  5s        \n"
     ]
    }
   ],
   "source": [
    "!argo get $WF_NAME"
   ]
  },
  {
   "cell_type": "code",
   "execution_count": 22,
   "metadata": {},
   "outputs": [
    {
     "name": "stdout",
     "output_type": "stream",
     "text": [
      "\u001b[37mhello1\u001b[0m:\t ________ \r\n",
      "\u001b[37mhello1\u001b[0m:\t< hello1 >\r\n",
      "\u001b[37mhello1\u001b[0m:\t -------- \r\n",
      "\u001b[37mhello1\u001b[0m:\t    \\\r\n",
      "\u001b[37mhello1\u001b[0m:\t     \\\r\n",
      "\u001b[37mhello1\u001b[0m:\t      \\     \r\n",
      "\u001b[37mhello1\u001b[0m:\t                    ##        .            \r\n",
      "\u001b[37mhello1\u001b[0m:\t              ## ## ##       ==            \r\n",
      "\u001b[37mhello1\u001b[0m:\t           ## ## ## ##      ===            \r\n",
      "\u001b[37mhello1\u001b[0m:\t       /\"\"\"\"\"\"\"\"\"\"\"\"\"\"\"\"___/ ===        \r\n",
      "\u001b[37mhello1\u001b[0m:\t  ~~~ {~~ ~~~~ ~~~ ~~~~ ~~ ~ /  ===- ~~~   \r\n",
      "\u001b[37mhello1\u001b[0m:\t       \\______ o          __/            \r\n",
      "\u001b[37mhello1\u001b[0m:\t        \\    \\        __/             \r\n",
      "\u001b[37mhello1\u001b[0m:\t          \\____\\______/   \r\n",
      "\u001b[37mhello2a\u001b[0m:\t _________ \r\n",
      "\u001b[37mhello2a\u001b[0m:\t< hello2a >\r\n",
      "\u001b[37mhello2a\u001b[0m:\t --------- \r\n",
      "\u001b[37mhello2a\u001b[0m:\t    \\\r\n",
      "\u001b[37mhello2a\u001b[0m:\t     \\\r\n",
      "\u001b[37mhello2a\u001b[0m:\t      \\     \r\n",
      "\u001b[37mhello2a\u001b[0m:\t                    ##        .            \r\n",
      "\u001b[37mhello2a\u001b[0m:\t              ## ## ##       ==            \r\n",
      "\u001b[37mhello2a\u001b[0m:\t           ## ## ## ##      ===            \r\n",
      "\u001b[37mhello2a\u001b[0m:\t       /\"\"\"\"\"\"\"\"\"\"\"\"\"\"\"\"___/ ===        \r\n",
      "\u001b[37mhello2a\u001b[0m:\t  ~~~ {~~ ~~~~ ~~~ ~~~~ ~~ ~ /  ===- ~~~   \r\n",
      "\u001b[37mhello2a\u001b[0m:\t       \\______ o          __/            \r\n",
      "\u001b[37mhello2a\u001b[0m:\t        \\    \\        __/             \r\n",
      "\u001b[37mhello2a\u001b[0m:\t          \\____\\______/   \r\n",
      "\u001b[34mhello2b\u001b[0m:\t _________ \r\n",
      "\u001b[34mhello2b\u001b[0m:\t< hello2b >\r\n",
      "\u001b[34mhello2b\u001b[0m:\t --------- \r\n",
      "\u001b[34mhello2b\u001b[0m:\t    \\\r\n",
      "\u001b[34mhello2b\u001b[0m:\t     \\\r\n",
      "\u001b[34mhello2b\u001b[0m:\t      \\     \r\n",
      "\u001b[34mhello2b\u001b[0m:\t                    ##        .            \r\n",
      "\u001b[34mhello2b\u001b[0m:\t              ## ## ##       ==            \r\n",
      "\u001b[34mhello2b\u001b[0m:\t           ## ## ## ##      ===            \r\n",
      "\u001b[34mhello2b\u001b[0m:\t       /\"\"\"\"\"\"\"\"\"\"\"\"\"\"\"\"___/ ===        \r\n",
      "\u001b[34mhello2b\u001b[0m:\t  ~~~ {~~ ~~~~ ~~~ ~~~~ ~~ ~ /  ===- ~~~   \r\n",
      "\u001b[34mhello2b\u001b[0m:\t       \\______ o          __/            \r\n",
      "\u001b[34mhello2b\u001b[0m:\t        \\    \\        __/             \r\n",
      "\u001b[34mhello2b\u001b[0m:\t          \\____\\______/   \r\n"
     ]
    }
   ],
   "source": [
    "!argo logs -w $WF_NAME"
   ]
  },
  {
   "cell_type": "code",
   "execution_count": 25,
   "metadata": {},
   "outputs": [
    {
     "name": "stdout",
     "output_type": "stream",
     "text": [
      "Workflow 'steps-9tgj9' deleted\r\n"
     ]
    }
   ],
   "source": [
    "!argo delete $WF_NAME"
   ]
  },
  {
   "cell_type": "markdown",
   "metadata": {},
   "source": [
    "## Seldon Core Batch \n",
    "Now we can leverage this functionality by using seldon core batch"
   ]
  },
  {
   "cell_type": "code",
   "execution_count": 482,
   "metadata": {},
   "outputs": [
    {
     "name": "stdout",
     "output_type": "stream",
     "text": [
      "Overwriting assets/seldon-batch.yaml\n"
     ]
    }
   ],
   "source": [
    "%%writefile assets/seldon-batch.yaml\n",
    "---\n",
    "apiVersion: argoproj.io/v1alpha1\n",
    "kind: Workflow\n",
    "metadata:\n",
    "  generateName: seldon-batch-\n",
    "spec:\n",
    "  entrypoint: seldon-batch-process\n",
    "  templates:\n",
    "  - name: seldon-batch-process\n",
    "    steps:\n",
    "    - - name: create-seldon-resource            \n",
    "        template: create-seldon-resource-template\n",
    "    - - name: wait-seldon-resource\n",
    "        template: wait-seldon-resource-template\n",
    "    - - name: process-batch-inputs\n",
    "        template: process-batch-inputs-template\n",
    "  - name: create-seldon-resource-template\n",
    "    resource:\n",
    "      action: create\n",
    "      manifest: |\n",
    "        apiVersion: machinelearning.seldon.io/v1\n",
    "        kind: SeldonDeployment\n",
    "        metadata:\n",
    "          name: \"sklearn-{{workflow.uid}}\"\n",
    "          ownerReferences:\n",
    "          - apiVersion: argoproj.io/v1alpha1\n",
    "            blockOwnerDeletion: true\n",
    "            kind: Workflow\n",
    "            name: \"{{workflow.name}}\"\n",
    "            uid: \"{{workflow.uid}}\"\n",
    "        spec:\n",
    "          name: \"sklearn-{{workflow.uid}}\"\n",
    "          predictors:\n",
    "            - graph:\n",
    "                children: []\n",
    "                implementation: SKLEARN_SERVER\n",
    "                modelUri: gs://seldon-models/sklearn/iris\n",
    "                name: classifier\n",
    "              name: default\n",
    "              replicas: 1\n",
    "  - name: wait-seldon-resource-template\n",
    "    script:\n",
    "      image: seldonio/core-builder:0.14\n",
    "      command: [bash]\n",
    "      source: |\n",
    "        kubectl rollout status deploy/$(kubectl get deploy -l seldon-deployment-id=sklearn -o jsonpath='{.items[0].metadata.name}')\n",
    "  - name: process-batch-inputs-template\n",
    "    script:\n",
    "      image: seldonio/seldon-core-s2i-python3:1.1.1-SNAPSHOT\n",
    "      command: [python]\n",
    "      source: |\n",
    "        from seldon_core.seldon_client import SeldonClient\n",
    "        import numpy as np\n",
    "        import time\n",
    "        time.sleep(10)\n",
    "        sc = SeldonClient(\n",
    "            gateway_endpoint=\"istio-ingressgateway.istio-system.svc.cluster.local\",\n",
    "            deployment_name=\"sklearn-{{workflow.name}}\",\n",
    "            namespace=\"default\")\n",
    "        for i in range(10):\n",
    "            data = np.array([[i, i, i, i]])\n",
    "            output = sc.predict(data=data)\n",
    "            print(output.response)\n",
    "            "
   ]
  },
  {
   "cell_type": "code",
   "execution_count": 483,
   "metadata": {},
   "outputs": [
    {
     "name": "stdout",
     "output_type": "stream",
     "text": [
      "Name:                seldon-batch-5jstp\r\n",
      "Namespace:           default\r\n",
      "ServiceAccount:      default\r\n",
      "Status:              Pending\r\n",
      "Created:             Fri Apr 17 18:56:48 +0100 (now)\r\n"
     ]
    }
   ],
   "source": [
    "!argo submit assets/seldon-batch.yaml"
   ]
  },
  {
   "cell_type": "code",
   "execution_count": 484,
   "metadata": {},
   "outputs": [
    {
     "name": "stdout",
     "output_type": "stream",
     "text": [
      "NAME                 STATUS    AGE   DURATION   PRIORITY\r\n",
      "seldon-batch-5jstp   Running   1s    1s         0\r\n"
     ]
    }
   ],
   "source": [
    "!argo list"
   ]
  },
  {
   "cell_type": "code",
   "execution_count": 485,
   "metadata": {},
   "outputs": [
    {
     "name": "stdout",
     "output_type": "stream",
     "text": [
      "seldon-batch-5jstp\n"
     ]
    }
   ],
   "source": [
    "output=!argo list | grep seldon-batch\n",
    "WF_NAME=output[0].split()[0]\n",
    "print(WF_NAME)"
   ]
  },
  {
   "cell_type": "code",
   "execution_count": 496,
   "metadata": {},
   "outputs": [
    {
     "name": "stdout",
     "output_type": "stream",
     "text": [
      "Name:                seldon-batch-5jstp\r\n",
      "Namespace:           default\r\n",
      "ServiceAccount:      default\r\n",
      "Status:              Failed\r\n",
      "Message:             child 'seldon-batch-5jstp-884301607' failed\r\n",
      "Created:             Fri Apr 17 18:56:48 +0100 (9 seconds ago)\r\n",
      "Started:             Fri Apr 17 18:56:48 +0100 (9 seconds ago)\r\n",
      "Finished:            Fri Apr 17 18:56:55 +0100 (2 seconds ago)\r\n",
      "Duration:            7 seconds\r\n",
      "\r\n",
      "\u001b[39mSTEP\u001b[0m                                                             PODNAME                        DURATION  MESSAGE\r\n",
      " \u001b[31m✖\u001b[0m seldon-batch-5jstp (seldon-batch-process)                                                              child 'seldon-batch-5jstp-884301607' failed\r\n",
      " ├---\u001b[32m✔\u001b[0m create-seldon-resource (create-seldon-resource-template)  seldon-batch-5jstp-4096744685  2s        \r\n",
      " └---\u001b[31m✖\u001b[0m wait-seldon-resource (wait-seldon-resource-template)      seldon-batch-5jstp-884301607   3s        failed with exit code 1\r\n"
     ]
    }
   ],
   "source": [
    "!argo get $WF_NAME"
   ]
  },
  {
   "cell_type": "code",
   "execution_count": 497,
   "metadata": {},
   "outputs": [
    {
     "name": "stdout",
     "output_type": "stream",
     "text": [
      "\u001b[35mcreate-seldon-resource\u001b[0m:\ttime=\"2020-04-17T17:56:49Z\" level=info msg=\"Starting Workflow Executor\" version=vv2.7.4+50b209c.dirty\r\n",
      "\u001b[35mcreate-seldon-resource\u001b[0m:\ttime=\"2020-04-17T17:56:49Z\" level=info msg=\"Creating a docker executor\"\r\n",
      "\u001b[35mcreate-seldon-resource\u001b[0m:\ttime=\"2020-04-17T17:56:49Z\" level=info msg=\"Executor (version: vv2.7.4+50b209c.dirty, build_date: 2020-04-16T16:37:57Z) initialized (pod: default/seldon-batch-5jstp-4096744685) with template:\\n{\\\"name\\\":\\\"create-seldon-resource-template\\\",\\\"arguments\\\":{},\\\"inputs\\\":{},\\\"outputs\\\":{},\\\"metadata\\\":{},\\\"resource\\\":{\\\"action\\\":\\\"create\\\",\\\"manifest\\\":\\\"apiVersion: machinelearning.seldon.io/v1\\\\nkind: SeldonDeployment\\\\nmetadata:\\\\n  name: \\\\\\\"sklearn-9b5a2d3b-619b-4ddb-b52d-3398b7d447be\\\\\\\"\\\\n  ownerReferences:\\\\n  - apiVersion: argoproj.io/v1alpha1\\\\n    blockOwnerDeletion: true\\\\n    kind: Workflow\\\\n    name: \\\\\\\"seldon-batch-5jstp\\\\\\\"\\\\n    uid: \\\\\\\"9b5a2d3b-619b-4ddb-b52d-3398b7d447be\\\\\\\"\\\\nspec:\\\\n  name: \\\\\\\"sklearn-9b5a2d3b-619b-4ddb-b52d-3398b7d447be\\\\\\\"\\\\n  predictors:\\\\n    - graph:\\\\n        children: []\\\\n        implementation: SKLEARN_SERVER\\\\n        modelUri: gs://seldon-models/sklearn/iris\\\\n        name: classifier\\\\n      name: default\\\\n      replicas: 1\\\\n\\\"}}\"\r\n",
      "\u001b[35mcreate-seldon-resource\u001b[0m:\ttime=\"2020-04-17T17:56:49Z\" level=info msg=\"Loading manifest to /tmp/manifest.yaml\"\r\n",
      "\u001b[35mcreate-seldon-resource\u001b[0m:\ttime=\"2020-04-17T17:56:49Z\" level=info msg=\"kubectl create -f /tmp/manifest.yaml -o json\"\r\n",
      "\u001b[35mcreate-seldon-resource\u001b[0m:\ttime=\"2020-04-17T17:56:50Z\" level=info msg=default/SeldonDeployment.machinelearning.seldon.io/sklearn-9b5a2d3b-619b-4ddb-b52d-3398b7d447be\r\n",
      "\u001b[35mcreate-seldon-resource\u001b[0m:\ttime=\"2020-04-17T17:56:50Z\" level=info msg=\"No output parameters\"\r\n",
      "\u001b[32mwait-seldon-resource\u001b[0m:\terror: error executing jsonpath \"{.items[0].metadata.name}\": Error executing template: array index out of bounds: index 0, length 0. Printing more information for debugging the template:\r\n",
      "\u001b[32mwait-seldon-resource\u001b[0m:\t\ttemplate was:\r\n",
      "\u001b[32mwait-seldon-resource\u001b[0m:\t\t\t{.items[0].metadata.name}\r\n",
      "\u001b[32mwait-seldon-resource\u001b[0m:\t\tobject given to jsonpath engine was:\r\n",
      "\u001b[32mwait-seldon-resource\u001b[0m:\t\t\tmap[string]interface {}{\"apiVersion\":\"v1\", \"items\":[]interface {}{}, \"kind\":\"List\", \"metadata\":map[string]interface {}{\"resourceVersion\":\"\", \"selfLink\":\"\"}}\r\n",
      "\u001b[32mwait-seldon-resource\u001b[0m:\terror: arguments in resource/name form must have a single resource and name\r\n"
     ]
    }
   ],
   "source": [
    "!argo logs -w $WF_NAME"
   ]
  },
  {
   "cell_type": "code",
   "execution_count": 468,
   "metadata": {},
   "outputs": [],
   "source": [
    "outputs = !(argo logs -w $WF_NAME --no-color | grep \"process-batch-inputs\" | cut -c 23-)\n",
    "for o in outputs:\n",
    "    print(o)"
   ]
  },
  {
   "cell_type": "code",
   "execution_count": 498,
   "metadata": {},
   "outputs": [
    {
     "name": "stdout",
     "output_type": "stream",
     "text": [
      "Workflow 'seldon-batch-5jstp' deleted\r\n"
     ]
    }
   ],
   "source": [
    "!argo delete $WF_NAME"
   ]
  },
  {
   "cell_type": "code",
   "execution_count": null,
   "metadata": {},
   "outputs": [],
   "source": []
  }
 ],
 "metadata": {
  "kernelspec": {
   "display_name": "Python 3",
   "language": "python",
   "name": "python3"
  },
  "language_info": {
   "codemirror_mode": {
    "name": "ipython",
    "version": 3
   },
   "file_extension": ".py",
   "mimetype": "text/x-python",
   "name": "python",
   "nbconvert_exporter": "python",
   "pygments_lexer": "ipython3",
   "version": "3.7.4"
  }
 },
 "nbformat": 4,
 "nbformat_minor": 2
}
