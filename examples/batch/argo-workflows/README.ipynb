{
 "cells": [
  {
   "cell_type": "markdown",
   "metadata": {},
   "source": [
    "## Batch processing with Argo Worfklows\n",
    "\n",
    "In this notebook we will dive into how you can run batch processing with Argo Workflows and Seldon Core.\n",
    "\n",
    "Dependencies:\n",
    "\n",
    "* Seldon core installed as per the docs with an ingress\n",
    "* Argo Workfklows installed in cluster (and argo CLI for commands)\n"
   ]
  },
  {
   "cell_type": "markdown",
   "metadata": {},
   "source": [
    "## Argo Workflows Example\n",
    "\n",
    "Let's try an argo workflows example to see intuitively how it works. \n",
    "\n",
    "In this case we will trigger a workflow with 3 steps (first one will execute and the other two jobs are dependent on that)"
   ]
  },
  {
   "cell_type": "code",
   "execution_count": 1,
   "metadata": {},
   "outputs": [],
   "source": [
    "mkdir -p assets"
   ]
  },
  {
   "cell_type": "code",
   "execution_count": 12,
   "metadata": {},
   "outputs": [
    {
     "name": "stdout",
     "output_type": "stream",
     "text": [
      "Overwriting assets/argo-example.yaml\n"
     ]
    }
   ],
   "source": [
    "%%writefile assets/argo-example.yaml\n",
    "---\n",
    "apiVersion: argoproj.io/v1alpha1\n",
    "kind: Workflow\n",
    "metadata:\n",
    "  generateName: steps-\n",
    "spec:\n",
    "  entrypoint: hello-hello-hello\n",
    "  # This spec contains two templates: hello-hello-hello and whalesay\n",
    "  templates:\n",
    "  - name: hello-hello-hello\n",
    "    # Instead of just running a container\n",
    "    # This template has a sequence of steps\n",
    "    steps:\n",
    "    - - name: hello1            # hello1 is run before the following steps\n",
    "        template: whalesay\n",
    "        arguments:\n",
    "          parameters:\n",
    "          - name: message\n",
    "            value: \"hello1\"\n",
    "    - - name: hello2a           # double dash => run after previous step\n",
    "        template: whalesay\n",
    "        arguments:\n",
    "          parameters:\n",
    "          - name: message\n",
    "            value: \"hello2a\"\n",
    "      - name: hello2b           # single dash => run in parallel with previous step\n",
    "        template: whalesay\n",
    "        arguments:\n",
    "          parameters:\n",
    "          - name: message\n",
    "            value: \"hello2b\"\n",
    "  # This is the same template as from the previous example\n",
    "  - name: whalesay\n",
    "    inputs:\n",
    "      parameters:\n",
    "      - name: message\n",
    "    container:\n",
    "      image: docker/whalesay\n",
    "      command: [cowsay]\n",
    "      args: [\"{{inputs.parameters.message}}\"]\n",
    "        "
   ]
  },
  {
   "cell_type": "code",
   "execution_count": 13,
   "metadata": {},
   "outputs": [
    {
     "name": "stdout",
     "output_type": "stream",
     "text": [
      "Name:                steps-9tgj9\r\n",
      "Namespace:           default\r\n",
      "ServiceAccount:      default\r\n",
      "Status:              Pending\r\n",
      "Created:             Fri Apr 17 08:27:14 +0100 (8 hours ago)\r\n"
     ]
    }
   ],
   "source": [
    "!argo submit assets/argo-example.yaml"
   ]
  },
  {
   "cell_type": "code",
   "execution_count": 14,
   "metadata": {},
   "outputs": [
    {
     "name": "stdout",
     "output_type": "stream",
     "text": [
      "NAME          STATUS      AGE   DURATION   PRIORITY\r\n",
      "steps-9tgj9   Succeeded   8h    3m         0\r\n"
     ]
    }
   ],
   "source": [
    "!argo list"
   ]
  },
  {
   "cell_type": "code",
   "execution_count": 20,
   "metadata": {},
   "outputs": [
    {
     "name": "stdout",
     "output_type": "stream",
     "text": [
      "steps-9tgj9\n"
     ]
    }
   ],
   "source": [
    "output=!argo list | grep steps\n",
    "WF_NAME=output[0].split()[0]\n",
    "print(WF_NAME)"
   ]
  },
  {
   "cell_type": "code",
   "execution_count": 23,
   "metadata": {},
   "outputs": [
    {
     "name": "stdout",
     "output_type": "stream",
     "text": [
      "Name:                steps-9tgj9\n",
      "Namespace:           default\n",
      "ServiceAccount:      default\n",
      "Status:              Succeeded\n",
      "Created:             Fri Apr 17 08:27:14 +0100 (8 hours ago)\n",
      "Started:             Fri Apr 17 08:27:14 +0100 (8 hours ago)\n",
      "Finished:            Fri Apr 17 08:30:48 +0100 (8 hours ago)\n",
      "Duration:            3 minutes 34 seconds\n",
      "\n",
      "\u001b[39mSTEP\u001b[0m                                PODNAME                 DURATION  MESSAGE\n",
      " \u001b[32m✔\u001b[0m steps-9tgj9 (hello-hello-hello)                                    \n",
      " ├---\u001b[32m✔\u001b[0m hello1 (whalesay)            steps-9tgj9-3240403473  3m        \n",
      " └-·-\u001b[32m✔\u001b[0m hello2a (whalesay)           steps-9tgj9-3510808138  3s        \n",
      "   └-\u001b[32m✔\u001b[0m hello2b (whalesay)           steps-9tgj9-3494030519  5s        \n"
     ]
    }
   ],
   "source": [
    "!argo get $WF_NAME"
   ]
  },
  {
   "cell_type": "code",
   "execution_count": 22,
   "metadata": {},
   "outputs": [
    {
     "name": "stdout",
     "output_type": "stream",
     "text": [
      "\u001b[37mhello1\u001b[0m:\t ________ \r\n",
      "\u001b[37mhello1\u001b[0m:\t< hello1 >\r\n",
      "\u001b[37mhello1\u001b[0m:\t -------- \r\n",
      "\u001b[37mhello1\u001b[0m:\t    \\\r\n",
      "\u001b[37mhello1\u001b[0m:\t     \\\r\n",
      "\u001b[37mhello1\u001b[0m:\t      \\     \r\n",
      "\u001b[37mhello1\u001b[0m:\t                    ##        .            \r\n",
      "\u001b[37mhello1\u001b[0m:\t              ## ## ##       ==            \r\n",
      "\u001b[37mhello1\u001b[0m:\t           ## ## ## ##      ===            \r\n",
      "\u001b[37mhello1\u001b[0m:\t       /\"\"\"\"\"\"\"\"\"\"\"\"\"\"\"\"___/ ===        \r\n",
      "\u001b[37mhello1\u001b[0m:\t  ~~~ {~~ ~~~~ ~~~ ~~~~ ~~ ~ /  ===- ~~~   \r\n",
      "\u001b[37mhello1\u001b[0m:\t       \\______ o          __/            \r\n",
      "\u001b[37mhello1\u001b[0m:\t        \\    \\        __/             \r\n",
      "\u001b[37mhello1\u001b[0m:\t          \\____\\______/   \r\n",
      "\u001b[37mhello2a\u001b[0m:\t _________ \r\n",
      "\u001b[37mhello2a\u001b[0m:\t< hello2a >\r\n",
      "\u001b[37mhello2a\u001b[0m:\t --------- \r\n",
      "\u001b[37mhello2a\u001b[0m:\t    \\\r\n",
      "\u001b[37mhello2a\u001b[0m:\t     \\\r\n",
      "\u001b[37mhello2a\u001b[0m:\t      \\     \r\n",
      "\u001b[37mhello2a\u001b[0m:\t                    ##        .            \r\n",
      "\u001b[37mhello2a\u001b[0m:\t              ## ## ##       ==            \r\n",
      "\u001b[37mhello2a\u001b[0m:\t           ## ## ## ##      ===            \r\n",
      "\u001b[37mhello2a\u001b[0m:\t       /\"\"\"\"\"\"\"\"\"\"\"\"\"\"\"\"___/ ===        \r\n",
      "\u001b[37mhello2a\u001b[0m:\t  ~~~ {~~ ~~~~ ~~~ ~~~~ ~~ ~ /  ===- ~~~   \r\n",
      "\u001b[37mhello2a\u001b[0m:\t       \\______ o          __/            \r\n",
      "\u001b[37mhello2a\u001b[0m:\t        \\    \\        __/             \r\n",
      "\u001b[37mhello2a\u001b[0m:\t          \\____\\______/   \r\n",
      "\u001b[34mhello2b\u001b[0m:\t _________ \r\n",
      "\u001b[34mhello2b\u001b[0m:\t< hello2b >\r\n",
      "\u001b[34mhello2b\u001b[0m:\t --------- \r\n",
      "\u001b[34mhello2b\u001b[0m:\t    \\\r\n",
      "\u001b[34mhello2b\u001b[0m:\t     \\\r\n",
      "\u001b[34mhello2b\u001b[0m:\t      \\     \r\n",
      "\u001b[34mhello2b\u001b[0m:\t                    ##        .            \r\n",
      "\u001b[34mhello2b\u001b[0m:\t              ## ## ##       ==            \r\n",
      "\u001b[34mhello2b\u001b[0m:\t           ## ## ## ##      ===            \r\n",
      "\u001b[34mhello2b\u001b[0m:\t       /\"\"\"\"\"\"\"\"\"\"\"\"\"\"\"\"___/ ===        \r\n",
      "\u001b[34mhello2b\u001b[0m:\t  ~~~ {~~ ~~~~ ~~~ ~~~~ ~~ ~ /  ===- ~~~   \r\n",
      "\u001b[34mhello2b\u001b[0m:\t       \\______ o          __/            \r\n",
      "\u001b[34mhello2b\u001b[0m:\t        \\    \\        __/             \r\n",
      "\u001b[34mhello2b\u001b[0m:\t          \\____\\______/   \r\n"
     ]
    }
   ],
   "source": [
    "!argo logs -w $WF_NAME"
   ]
  },
  {
   "cell_type": "code",
   "execution_count": 25,
   "metadata": {},
   "outputs": [
    {
     "name": "stdout",
     "output_type": "stream",
     "text": [
      "Workflow 'steps-9tgj9' deleted\r\n"
     ]
    }
   ],
   "source": [
    "!argo delete $WF_NAME"
   ]
  },
  {
   "cell_type": "markdown",
   "metadata": {},
   "source": [
    "## Seldon Core Batch \n",
    "Now we can leverage this functionality by using seldon core batch"
   ]
  },
  {
   "cell_type": "code",
   "execution_count": 47,
   "metadata": {},
   "outputs": [
    {
     "name": "stdout",
     "output_type": "stream",
     "text": [
      "Overwriting assets/seldon-batch.yaml\n"
     ]
    }
   ],
   "source": [
    "%%writefile assets/seldon-batch.yaml\n",
    "---\n",
    "apiVersion: argoproj.io/v1alpha1\n",
    "kind: Workflow\n",
    "metadata:\n",
    "  generateName: seldon-batch-\n",
    "spec:\n",
    "  entrypoint: seldon-batch-process\n",
    "  templates:\n",
    "  - name: seldon-batch-process\n",
    "    steps:\n",
    "    - - name: create-seldon-resource            \n",
    "        template: create-seldon-resource-template\n",
    "    - - name: wait-seldon-resource\n",
    "        template: wait-seldon-resource-template\n",
    "    - - name: process-batch-inputs\n",
    "        template: process-batch-inputs-template\n",
    "            \n",
    "  - name: create-seldon-resource-template\n",
    "    resource:\n",
    "      action: create\n",
    "      manifest: |\n",
    "        apiVersion: machinelearning.seldon.io/v1\n",
    "        kind: SeldonDeployment\n",
    "        metadata:\n",
    "          name: \"{{workflow.uid}}\"\n",
    "          ownerReferences:\n",
    "          - apiVersion: argoproj.io/v1alpha1\n",
    "            blockOwnerDeletion: true\n",
    "            kind: Workflow\n",
    "            name: \"{{workflow.name}}\"\n",
    "            uid: \"{{workflow.uid}}\"\n",
    "        spec:\n",
    "          name: \"{{workflow.uid}}\"\n",
    "          predictors:\n",
    "            - graph:\n",
    "                children: []\n",
    "                implementation: SKLEARN_SERVER\n",
    "                modelUri: gs://seldon-models/sklearn/iris\n",
    "                name: classifier\n",
    "              name: default\n",
    "              replicas: 1\n",
    "                \n",
    "  - name: wait-seldon-resource-template\n",
    "    script:\n",
    "      image: seldonio/core-builder:0.14\n",
    "      command: [bash]\n",
    "      source: |\n",
    "        kubectl rollout status deploy/$(kubectl get deploy -l seldon-deployment-id=\"{{workflow.uid}}\" -o jsonpath='{.items[0].metadata.name}')\n",
    "        \n",
    "  - name: process-batch-inputs-template\n",
    "    script:\n",
    "      image: seldonio/seldon-core-s2i-python3:1.1.1-SNAPSHOT\n",
    "      command: [python]\n",
    "      source: |\n",
    "        from seldon_core.seldon_client import SeldonClient\n",
    "        import numpy as np\n",
    "        import time\n",
    "        time.sleep(10)\n",
    "        sc = SeldonClient(\n",
    "            gateway_endpoint=\"istio-ingressgateway.istio-system.svc.cluster.local\",\n",
    "            deployment_name=\"{{workflow.uid}}\",\n",
    "            namespace=\"default\")\n",
    "        for i in range(10):\n",
    "            data = np.array([[i, i, i, i]])\n",
    "            output = sc.predict(data=data)\n",
    "            print(output.response)\n",
    "            "
   ]
  },
  {
   "cell_type": "code",
   "execution_count": 48,
   "metadata": {},
   "outputs": [
    {
     "name": "stdout",
     "output_type": "stream",
     "text": [
      "Name:                seldon-batch-wxbr5\r\n",
      "Namespace:           default\r\n",
      "ServiceAccount:      default\r\n",
      "Status:              Pending\r\n",
      "Created:             Sat Apr 18 12:36:57 +0100 (now)\r\n"
     ]
    }
   ],
   "source": [
    "!argo submit assets/seldon-batch.yaml"
   ]
  },
  {
   "cell_type": "code",
   "execution_count": 49,
   "metadata": {},
   "outputs": [
    {
     "name": "stdout",
     "output_type": "stream",
     "text": [
      "NAME                 STATUS      AGE   DURATION   PRIORITY\r\n",
      "seldon-batch-wxbr5   Running     2s    2s         0\r\n",
      "seldon-batch-kslgh   Succeeded   2m    42s        0\r\n"
     ]
    }
   ],
   "source": [
    "!argo list"
   ]
  },
  {
   "cell_type": "code",
   "execution_count": 50,
   "metadata": {},
   "outputs": [
    {
     "name": "stdout",
     "output_type": "stream",
     "text": [
      "seldon-batch-wxbr5\n"
     ]
    }
   ],
   "source": [
    "output=!argo list | grep seldon-batch\n",
    "WF_NAME=output[0].split()[0]\n",
    "print(WF_NAME)"
   ]
  },
  {
   "cell_type": "code",
   "execution_count": 51,
   "metadata": {},
   "outputs": [
    {
     "name": "stdout",
     "output_type": "stream",
     "text": [
      "Name:                seldon-batch-wxbr5\r\n",
      "Namespace:           default\r\n",
      "ServiceAccount:      default\r\n",
      "Status:              Running\r\n",
      "Created:             Sat Apr 18 12:36:57 +0100 (3 seconds ago)\r\n",
      "Started:             Sat Apr 18 12:36:57 +0100 (3 seconds ago)\r\n",
      "Duration:            3 seconds\r\n",
      "\r\n",
      "\u001b[39mSTEP\u001b[0m                                                             PODNAME                        DURATION  MESSAGE\r\n",
      " \u001b[36m●\u001b[0m seldon-batch-wxbr5 (seldon-batch-process)                                                              \r\n",
      " └---\u001b[36m●\u001b[0m create-seldon-resource (create-seldon-resource-template)  seldon-batch-wxbr5-2588046603  3s        \r\n"
     ]
    }
   ],
   "source": [
    "!argo get $WF_NAME"
   ]
  },
  {
   "cell_type": "code",
   "execution_count": 54,
   "metadata": {},
   "outputs": [
    {
     "name": "stdout",
     "output_type": "stream",
     "text": [
      "\u001b[35mcreate-seldon-resource\u001b[0m:\ttime=\"2020-04-18T11:36:58Z\" level=info msg=\"Starting Workflow Executor\" version=vv2.7.4+50b209c.dirty\r\n",
      "\u001b[35mcreate-seldon-resource\u001b[0m:\ttime=\"2020-04-18T11:36:58Z\" level=info msg=\"Creating a docker executor\"\r\n",
      "\u001b[35mcreate-seldon-resource\u001b[0m:\ttime=\"2020-04-18T11:36:58Z\" level=info msg=\"Executor (version: vv2.7.4+50b209c.dirty, build_date: 2020-04-16T16:37:57Z) initialized (pod: default/seldon-batch-wxbr5-2588046603) with template:\\n{\\\"name\\\":\\\"create-seldon-resource-template\\\",\\\"arguments\\\":{},\\\"inputs\\\":{},\\\"outputs\\\":{},\\\"metadata\\\":{},\\\"resource\\\":{\\\"action\\\":\\\"create\\\",\\\"manifest\\\":\\\"apiVersion: machinelearning.seldon.io/v1\\\\nkind: SeldonDeployment\\\\nmetadata:\\\\n  name: \\\\\\\"b83971e5-e0e9-488f-9bd0-4c57dc97c79c\\\\\\\"\\\\n  ownerReferences:\\\\n  - apiVersion: argoproj.io/v1alpha1\\\\n    blockOwnerDeletion: true\\\\n    kind: Workflow\\\\n    name: \\\\\\\"seldon-batch-wxbr5\\\\\\\"\\\\n    uid: \\\\\\\"b83971e5-e0e9-488f-9bd0-4c57dc97c79c\\\\\\\"\\\\nspec:\\\\n  name: \\\\\\\"b83971e5-e0e9-488f-9bd0-4c57dc97c79c\\\\\\\"\\\\n  predictors:\\\\n    - graph:\\\\n        children: []\\\\n        implementation: SKLEARN_SERVER\\\\n        modelUri: gs://seldon-models/sklearn/iris\\\\n        name: classifier\\\\n      name: default\\\\n      replicas: 1\\\\n\\\"}}\"\r\n",
      "\u001b[35mcreate-seldon-resource\u001b[0m:\ttime=\"2020-04-18T11:36:58Z\" level=info msg=\"Loading manifest to /tmp/manifest.yaml\"\r\n",
      "\u001b[35mcreate-seldon-resource\u001b[0m:\ttime=\"2020-04-18T11:36:58Z\" level=info msg=\"kubectl create -f /tmp/manifest.yaml -o json\"\r\n",
      "\u001b[35mcreate-seldon-resource\u001b[0m:\ttime=\"2020-04-18T11:36:59Z\" level=info msg=default/SeldonDeployment.machinelearning.seldon.io/b83971e5-e0e9-488f-9bd0-4c57dc97c79c\r\n",
      "\u001b[35mcreate-seldon-resource\u001b[0m:\ttime=\"2020-04-18T11:36:59Z\" level=info msg=\"No output parameters\"\r\n",
      "\u001b[32mwait-seldon-resource\u001b[0m:\tWaiting for deployment \"b83971e5-e0e9-488f-9bd0-4c57dc97c79c-default-0-classifier\" rollout to finish: 0 of 1 updated replicas are available...\r\n",
      "\u001b[32mwait-seldon-resource\u001b[0m:\tdeployment \"b83971e5-e0e9-488f-9bd0-4c57dc97c79c-default-0-classifier\" successfully rolled out\r\n",
      "\u001b[39mprocess-batch-inputs\u001b[0m:\t{'data': {'names': ['t:0', 't:1', 't:2'], 'tensor': {'shape': [1, 3], 'values': [0.3664487684438811, 0.48528762951761806, 0.14826360203850078]}}, 'meta': {}}\r\n",
      "\u001b[39mprocess-batch-inputs\u001b[0m:\t{'data': {'names': ['t:0', 't:1', 't:2'], 'tensor': {'shape': [1, 3], 'values': [0.2075509473561692, 0.2443463805811625, 0.5481026720626684]}}, 'meta': {}}\r\n",
      "\u001b[39mprocess-batch-inputs\u001b[0m:\t{'data': {'names': ['t:0', 't:1', 't:2'], 'tensor': {'shape': [1, 3], 'values': [0.06995304386311439, 0.04864300564562103, 0.8814039504912645]}}, 'meta': {}}\r\n",
      "\u001b[39mprocess-batch-inputs\u001b[0m:\t{'data': {'names': ['t:0', 't:1', 't:2'], 'tensor': {'shape': [1, 3], 'values': [0.01859472366015777, 0.006956450489196832, 0.9744488258506454]}}, 'meta': {}}\r\n",
      "\u001b[39mprocess-batch-inputs\u001b[0m:\t{'data': {'names': ['t:0', 't:1', 't:2'], 'tensor': {'shape': [1, 3], 'values': [0.004653433216061866, 0.0009398331072469446, 0.9944067336766912]}}, 'meta': {}}\r\n",
      "\u001b[39mprocess-batch-inputs\u001b[0m:\t{'data': {'names': ['t:0', 't:1', 't:2'], 'tensor': {'shape': [1, 3], 'values': [0.0011463235173706913, 0.0001256712307515923, 0.9987280052518777]}}, 'meta': {}}\r\n",
      "\u001b[39mprocess-batch-inputs\u001b[0m:\t{'data': {'names': ['t:0', 't:1', 't:2'], 'tensor': {'shape': [1, 3], 'values': [0.0002812079399700444, 1.6767055911301234e-05, 0.9997020250041186]}}, 'meta': {}}\r\n",
      "\u001b[39mprocess-batch-inputs\u001b[0m:\t{'data': {'names': ['t:0', 't:1', 't:2'], 'tensor': {'shape': [1, 3], 'values': [6.890870086562858e-05, 2.235872103887171e-06, 0.9999288554270304]}}, 'meta': {}}\r\n",
      "\u001b[39mprocess-batch-inputs\u001b[0m:\t{'data': {'names': ['t:0', 't:1', 't:2'], 'tensor': {'shape': [1, 3], 'values': [1.6881012306246608e-05, 2.981118341014688e-07, 0.9999828208758597]}}, 'meta': {}}\r\n",
      "\u001b[39mprocess-batch-inputs\u001b[0m:\t{'data': {'names': ['t:0', 't:1', 't:2'], 'tensor': {'shape': [1, 3], 'values': [4.135155685795574e-06, 3.974630518304911e-08, 0.9999958250980091]}}, 'meta': {}}\r\n"
     ]
    }
   ],
   "source": [
    "!argo logs -w $WF_NAME"
   ]
  },
  {
   "cell_type": "code",
   "execution_count": 55,
   "metadata": {},
   "outputs": [
    {
     "name": "stdout",
     "output_type": "stream",
     "text": [
      "{'data': {'names': ['t:0', 't:1', 't:2'], 'tensor': {'shape': [1, 3], 'values': [0.3664487684438811, 0.48528762951761806, 0.14826360203850078]}}, 'meta': {}}\n",
      "{'data': {'names': ['t:0', 't:1', 't:2'], 'tensor': {'shape': [1, 3], 'values': [0.2075509473561692, 0.2443463805811625, 0.5481026720626684]}}, 'meta': {}}\n",
      "{'data': {'names': ['t:0', 't:1', 't:2'], 'tensor': {'shape': [1, 3], 'values': [0.06995304386311439, 0.04864300564562103, 0.8814039504912645]}}, 'meta': {}}\n",
      "{'data': {'names': ['t:0', 't:1', 't:2'], 'tensor': {'shape': [1, 3], 'values': [0.01859472366015777, 0.006956450489196832, 0.9744488258506454]}}, 'meta': {}}\n",
      "{'data': {'names': ['t:0', 't:1', 't:2'], 'tensor': {'shape': [1, 3], 'values': [0.004653433216061866, 0.0009398331072469446, 0.9944067336766912]}}, 'meta': {}}\n",
      "{'data': {'names': ['t:0', 't:1', 't:2'], 'tensor': {'shape': [1, 3], 'values': [0.0011463235173706913, 0.0001256712307515923, 0.9987280052518777]}}, 'meta': {}}\n",
      "{'data': {'names': ['t:0', 't:1', 't:2'], 'tensor': {'shape': [1, 3], 'values': [0.0002812079399700444, 1.6767055911301234e-05, 0.9997020250041186]}}, 'meta': {}}\n",
      "{'data': {'names': ['t:0', 't:1', 't:2'], 'tensor': {'shape': [1, 3], 'values': [6.890870086562858e-05, 2.235872103887171e-06, 0.9999288554270304]}}, 'meta': {}}\n",
      "{'data': {'names': ['t:0', 't:1', 't:2'], 'tensor': {'shape': [1, 3], 'values': [1.6881012306246608e-05, 2.981118341014688e-07, 0.9999828208758597]}}, 'meta': {}}\n",
      "{'data': {'names': ['t:0', 't:1', 't:2'], 'tensor': {'shape': [1, 3], 'values': [4.135155685795574e-06, 3.974630518304911e-08, 0.9999958250980091]}}, 'meta': {}}\n"
     ]
    }
   ],
   "source": [
    "outputs = !(argo logs -w $WF_NAME --no-color | grep \"process-batch-inputs\" | cut -c 23-)\n",
    "for o in outputs:\n",
    "    print(o)"
   ]
  },
  {
   "cell_type": "code",
   "execution_count": 56,
   "metadata": {},
   "outputs": [
    {
     "name": "stdout",
     "output_type": "stream",
     "text": [
      "Workflow 'seldon-batch-wxbr5' deleted\r\n"
     ]
    }
   ],
   "source": [
    "!argo delete $WF_NAME"
   ]
  },
  {
   "cell_type": "markdown",
   "metadata": {},
   "source": [
    "## Seldon Core Batch with Object Store\n",
    "\n",
    "In some cases we may want to read the data from an object store.\n",
    "\n",
    "For this we will assume you have installed the Minio (mc) CLI - we will use a Minio client in the cluster but you can use another object store provider like S3, Google Cloud, Azure, etc.\n",
    "\n",
    "### Set up Minio in your cluster"
   ]
  },
  {
   "cell_type": "code",
   "execution_count": null,
   "metadata": {},
   "outputs": [],
   "source": [
    "%%bash \n",
    "kubectl create ns minio-system\n",
    "helm install minio stable/minio \\\n",
    "    --set accessKey=minioadmin \\\n",
    "    --set secretKey=minioadmin \\\n",
    "    --namespace minio-system"
   ]
  },
  {
   "cell_type": "code",
   "execution_count": 58,
   "metadata": {},
   "outputs": [
    {
     "name": "stdout",
     "output_type": "stream",
     "text": [
      "NAME                     READY   STATUS    RESTARTS   AGE\r\n",
      "minio-79bcd67c45-xjfj9   1/1     Running   0          3m21s\r\n"
     ]
    }
   ],
   "source": [
    "!kubectl get pods -n minio-system"
   ]
  },
  {
   "cell_type": "markdown",
   "metadata": {},
   "source": [
    "### Forward the Minio port so you can access it\n",
    "\n",
    "You can do this by runnning the following command in your terminal:\n",
    "```\n",
    "kubectl port-forward -n minio-system svc/minio 9000:9000\n",
    "    ```\n",
    "    \n",
    "### Configure local minio client"
   ]
  },
  {
   "cell_type": "code",
   "execution_count": 61,
   "metadata": {},
   "outputs": [
    {
     "name": "stdout",
     "output_type": "stream",
     "text": [
      "\u001b[32;1mmc: \u001b[0m\u001b[32;1mConfiguration written to `/home/alejandro/.mc/config.json`. Please update your access credentials.\n",
      "\u001b[0m\u001b[32;1mmc: \u001b[0m\u001b[32;1mSuccessfully created `/home/alejandro/.mc/share`.\n",
      "\u001b[0m\u001b[32;1mmc: \u001b[0m\u001b[32;1mInitialized share uploads `/home/alejandro/.mc/share/uploads.json` file.\n",
      "\u001b[0m\u001b[32;1mmc: \u001b[0m\u001b[32;1mInitialized share downloads `/home/alejandro/.mc/share/downloads.json` file.\n",
      "\u001b[0m\u001b[m\u001b[32mAdded `minio-local` successfully.\u001b[0m\n",
      "\u001b[0m"
     ]
    }
   ],
   "source": [
    "!mc config host add minio-local http://localhost:9000 minioadmin minioadmin"
   ]
  },
  {
   "cell_type": "markdown",
   "metadata": {},
   "source": [
    "### Create some input for our model\n",
    "\n",
    "We will create a file that will contain the inputs that will be sent to our model"
   ]
  },
  {
   "cell_type": "code",
   "execution_count": 71,
   "metadata": {},
   "outputs": [],
   "source": [
    "with open(\"assets/input-data.txt\", \"w\") as f:\n",
    "    for i in range(10):\n",
    "        f.write(f\"[[{i}, {i}, {i}, {i}]]\\n\")"
   ]
  },
  {
   "cell_type": "markdown",
   "metadata": {},
   "source": [
    "### Check the contents of the file"
   ]
  },
  {
   "cell_type": "code",
   "execution_count": 73,
   "metadata": {},
   "outputs": [
    {
     "name": "stdout",
     "output_type": "stream",
     "text": [
      "[[0, 0, 0, 0]]\r\n",
      "[[1, 1, 1, 1]]\r\n",
      "[[2, 2, 2, 2]]\r\n",
      "[[3, 3, 3, 3]]\r\n",
      "[[4, 4, 4, 4]]\r\n",
      "[[5, 5, 5, 5]]\r\n",
      "[[6, 6, 6, 6]]\r\n",
      "[[7, 7, 7, 7]]\r\n",
      "[[8, 8, 8, 8]]\r\n",
      "[[9, 9, 9, 9]]\r\n"
     ]
    }
   ],
   "source": [
    "!cat assets/input-data.txt"
   ]
  },
  {
   "cell_type": "markdown",
   "metadata": {},
   "source": [
    "### Upload the file to our minio"
   ]
  },
  {
   "cell_type": "code",
   "execution_count": 75,
   "metadata": {},
   "outputs": [
    {
     "name": "stdout",
     "output_type": "stream",
     "text": [
      "\u001b[m\u001b[32;1mBucket created successfully `minio-local/data`.\u001b[0m\n",
      "...-data.txt:  150 B / 150 B ┃▓▓▓▓▓▓▓▓▓▓▓▓▓▓▓▓▓▓▓▓▓▓▓▓▓▓▓▓▓▓▓▓▓▓▓┃ 2.12 KiB/s 0s\u001b[0m\u001b[0m\u001b[m\u001b[32;1m"
     ]
    }
   ],
   "source": [
    "!mc mb minio-local/data\n",
    "!mc cp assets/input-data.txt minio-local/data/"
   ]
  },
  {
   "cell_type": "markdown",
   "metadata": {},
   "source": [
    "### Create Job to Execute"
   ]
  },
  {
   "cell_type": "code",
   "execution_count": null,
   "metadata": {},
   "outputs": [],
   "source": [
    "%%writefile assets/seldon-batch-store.yaml\n",
    "---\n",
    "apiVersion: argoproj.io/v1alpha1\n",
    "kind: Workflow\n",
    "metadata:\n",
    "  generateName: seldon-batch-\n",
    "spec:\n",
    "  entrypoint: seldon-batch-process\n",
    "  templates:\n",
    "  - name: seldon-batch-process\n",
    "    steps:\n",
    "    - - name: create-seldon-resource            \n",
    "        template: create-seldon-resource-template\n",
    "    - - name: wait-seldon-resource\n",
    "        template: wait-seldon-resource-template\n",
    "    - - name: download-object-store\n",
    "        template: download-object-store-template\n",
    "    - - name: process-batch-inputs\n",
    "        template: process-batch-inputs-template\n",
    "    - - name: upload-object-store\n",
    "        template: upload-object-store-template\n",
    "            \n",
    "  - name: create-seldon-resource-template\n",
    "    resource:\n",
    "      action: create\n",
    "      manifest: |\n",
    "        apiVersion: machinelearning.seldon.io/v1\n",
    "        kind: SeldonDeployment\n",
    "        metadata:\n",
    "          name: \"{{workflow.uid}}\"\n",
    "          ownerReferences:\n",
    "          - apiVersion: argoproj.io/v1alpha1\n",
    "            blockOwnerDeletion: true\n",
    "            kind: Workflow\n",
    "            name: \"{{workflow.name}}\"\n",
    "            uid: \"{{workflow.uid}}\"\n",
    "        spec:\n",
    "          name: \"{{workflow.uid}}\"\n",
    "          predictors:\n",
    "            - graph:\n",
    "                children: []\n",
    "                implementation: SKLEARN_SERVER\n",
    "                modelUri: gs://seldon-models/sklearn/iris\n",
    "                name: classifier\n",
    "              name: default\n",
    "              replicas: 1\n",
    "                \n",
    "  - name: wait-seldon-resource-template\n",
    "    script:\n",
    "      image: seldonio/core-builder:0.14\n",
    "      command: [bash]\n",
    "      source: |\n",
    "        kubectl rollout status deploy/$(kubectl get deploy -l seldon-deployment-id=\"{{workflow.uid}}\" -o jsonpath='{.items[0].metadata.name}')\n",
    "                     \n",
    "  - name: download-object-store-template\n",
    "    script:\n",
    "      image: seldonio/core-builder:0.14\n",
    "      command: [bash]\n",
    "      source: |\n",
    "        kubectl rollout status deploy/$(kubectl get deploy -l seldon-deployment-id=\"{{workflow.uid}}\" -o jsonpath='{.items[0].metadata.name}')\n",
    "        \n",
    "  - name: process-batch-inputs-template\n",
    "    script:\n",
    "      image: seldonio/seldon-core-s2i-python3:1.1.1-SNAPSHOT\n",
    "      command: [python]\n",
    "      source: |\n",
    "        from seldon_core.seldon_client import SeldonClient\n",
    "        import numpy as np\n",
    "        import time\n",
    "        time.sleep(10)\n",
    "        sc = SeldonClient(\n",
    "            gateway_endpoint=\"istio-ingressgateway.istio-system.svc.cluster.local\",\n",
    "            deployment_name=\"{{workflow.uid}}\",\n",
    "            namespace=\"default\")\n",
    "        for i in range(10):\n",
    "            data = np.array([[i, i, i, i]])\n",
    "            output = sc.predict(data=data)\n",
    "            print(output.response)\n",
    "            \n",
    "  - name: upload-object-store-template\n",
    "    script:\n",
    "      image: seldonio/core-builder:0.14\n",
    "      command: [bash]\n",
    "      source: |\n",
    "        kubectl rollout status deploy/$(kubectl get deploy -l seldon-deployment-id=\"{{workflow.uid}}\" -o jsonpath='{.items[0].metadata.name}')\n",
    "        "
   ]
  }
 ],
 "metadata": {
  "kernelspec": {
   "display_name": "Python 3",
   "language": "python",
   "name": "python3"
  },
  "language_info": {
   "codemirror_mode": {
    "name": "ipython",
    "version": 3
   },
   "file_extension": ".py",
   "mimetype": "text/x-python",
   "name": "python",
   "nbconvert_exporter": "python",
   "pygments_lexer": "ipython3",
   "version": "3.7.4"
  }
 },
 "nbformat": 4,
 "nbformat_minor": 2
}
