{
 "cells": [
  {
   "cell_type": "markdown",
   "metadata": {},
   "source": [
    "## Batch processing with Argo Worfklows\n",
    "\n",
    "In this notebook we will dive into how you can run batch processing with Argo Workflows and Seldon Core.\n",
    "\n",
    "Dependencies:\n",
    "\n",
    "* Seldon core installed as per the docs with an ingress\n",
    "* Argo Workfklows installed in cluster (and argo CLI for commands)\n"
   ]
  },
  {
   "cell_type": "markdown",
   "metadata": {},
   "source": [
    "## Seldon Core Batch with Object Store\n",
    "\n",
    "In some cases we may want to read the data from an object source.\n",
    "\n",
    "In this case we will show how you can read from an object store, in this case minio.\n",
    "\n",
    "The workflow will look as follows:\n",
    "\n",
    "![](assets/seldon-batch.jpg)\n",
    "\n",
    "For this we will assume you have installed the Minio (mc) CLI - we will use a Minio client in the cluster but you can use another object store provider like S3, Google Cloud, Azure, etc.\n",
    "\n",
    "### Set up Minio in your cluster"
   ]
  },
  {
   "cell_type": "code",
   "execution_count": 481,
   "metadata": {},
   "outputs": [
    {
     "name": "stdout",
     "output_type": "stream",
     "text": [
      "NAME: minio\n",
      "LAST DEPLOYED: Thu Apr 30 10:57:00 2020\n",
      "NAMESPACE: default\n",
      "STATUS: deployed\n",
      "REVISION: 1\n",
      "TEST SUITE: None\n",
      "NOTES:\n",
      "Minio can be accessed via port 9000 on the following DNS name from within your cluster:\n",
      "minio.default.svc.cluster.local\n",
      "\n",
      "To access Minio from localhost, run the below commands:\n",
      "\n",
      "  1. export POD_NAME=$(kubectl get pods --namespace default -l \"release=minio\" -o jsonpath=\"{.items[0].metadata.name}\")\n",
      "\n",
      "  2. kubectl port-forward $POD_NAME 9000 --namespace default\n",
      "\n",
      "Read more about port forwarding here: http://kubernetes.io/docs/user-guide/kubectl/kubectl_port-forward/\n",
      "\n",
      "You can now access Minio server on http://localhost:9000. Follow the below steps to connect to Minio server with mc client:\n",
      "\n",
      "  1. Download the Minio mc client - https://docs.minio.io/docs/minio-client-quickstart-guide\n",
      "\n",
      "  2. mc config host add minio-local http://localhost:9000 minioadmin minioadmin S3v4\n",
      "\n",
      "  3. mc ls minio-local\n",
      "\n",
      "Alternately, you can use your browser or the Minio SDK to access the server - https://docs.minio.io/categories/17\n"
     ]
    }
   ],
   "source": [
    "%%bash \n",
    "helm install minio stable/minio \\\n",
    "    --set accessKey=minioadmin \\\n",
    "    --set secretKey=minioadmin \\\n",
    "    --set image.tag=RELEASE.2020-04-15T19-42-18Z"
   ]
  },
  {
   "cell_type": "markdown",
   "metadata": {},
   "source": [
    "### Forward the Minio port so you can access it\n",
    "\n",
    "You can do this by runnning the following command in your terminal:\n",
    "```\n",
    "kubectl port-forward svc/minio 9000:9000\n",
    "    ```\n",
    "    \n",
    "### Configure local minio client"
   ]
  },
  {
   "cell_type": "code",
   "execution_count": 483,
   "metadata": {},
   "outputs": [
    {
     "name": "stdout",
     "output_type": "stream",
     "text": [
      "\u001b[m\u001b[32mAdded `minio-local` successfully.\u001b[0m\r\n",
      "\u001b[0m"
     ]
    }
   ],
   "source": [
    "!mc config host add minio-local http://localhost:9000 minioadmin minioadmin"
   ]
  },
  {
   "cell_type": "markdown",
   "metadata": {},
   "source": [
    "### Create some input for our model\n",
    "\n",
    "We will create a file that will contain the inputs that will be sent to our model"
   ]
  },
  {
   "cell_type": "code",
   "execution_count": 123,
   "metadata": {},
   "outputs": [],
   "source": [
    "with open(\"assets/input-data.txt\", \"w\") as f:\n",
    "    for i in range(10000):\n",
    "        f.write('[[1, 2, 3, 4]]\\n')"
   ]
  },
  {
   "cell_type": "markdown",
   "metadata": {},
   "source": [
    "### Check the contents of the file"
   ]
  },
  {
   "cell_type": "code",
   "execution_count": 124,
   "metadata": {},
   "outputs": [
    {
     "name": "stdout",
     "output_type": "stream",
     "text": [
      "10000 assets/input-data.txt\n",
      "[[1, 2, 3, 4]]\n",
      "[[1, 2, 3, 4]]\n",
      "[[1, 2, 3, 4]]\n",
      "[[1, 2, 3, 4]]\n",
      "[[1, 2, 3, 4]]\n",
      "[[1, 2, 3, 4]]\n",
      "[[1, 2, 3, 4]]\n",
      "[[1, 2, 3, 4]]\n",
      "[[1, 2, 3, 4]]\n",
      "[[1, 2, 3, 4]]\n"
     ]
    }
   ],
   "source": [
    "!wc -l assets/input-data.txt\n",
    "!head assets/input-data.txt"
   ]
  },
  {
   "cell_type": "markdown",
   "metadata": {},
   "source": [
    "### Upload the file to our minio"
   ]
  },
  {
   "cell_type": "code",
   "execution_count": 126,
   "metadata": {},
   "outputs": [
    {
     "name": "stdout",
     "output_type": "stream",
     "text": [
      "\u001b[33;3mmc: <ERROR> \u001b[0m\u001b[33;3mUnable to make bucket `minio-local/data`. Your previous request to create the named bucket succeeded and you already own it.\n",
      "...-data.txt:  146.48 KiB / 146.48 KiB ┃▓▓▓▓▓▓▓▓▓▓▓▓▓▓▓▓▓▓▓▓▓▓▓▓▓┃ 2.36 MiB/s 0s\u001b[0m\u001b[0m\u001b[m\u001b[32;1m"
     ]
    }
   ],
   "source": [
    "!mc mb minio-local/data\n",
    "!mc cp assets/input-data.txt minio-local/data/"
   ]
  },
  {
   "cell_type": "markdown",
   "metadata": {},
   "source": [
    "### Create Argo Workflow\n",
    "\n",
    "In order to create our argo workflow we have made it simple so you can leverage the power of the helm charts.\n",
    "\n",
    "Before we dive into the contents of the full helm chart, let's first give it a try with some of the settings.\n",
    "\n",
    "We will run a batch job that will set up a Seldon Deployment with 10 replicas and 100 batch client workers to send requests."
   ]
  },
  {
   "cell_type": "code",
   "execution_count": 132,
   "metadata": {
    "scrolled": false
   },
   "outputs": [
    {
     "name": "stdout",
     "output_type": "stream",
     "text": [
      "Name:                seldon-batch-process\r\n",
      "Namespace:           default\r\n",
      "ServiceAccount:      default\r\n",
      "Status:              Pending\r\n",
      "Created:             Thu Jun 04 18:48:39 +0100 (now)\r\n"
     ]
    }
   ],
   "source": [
    "!helm template seldon-batch-workflow helm-charts/seldon-batch-workflow/ \\\n",
    "    --set workflow.name=seldon-batch-process \\\n",
    "    --set seldonDeployment.name=sklearn \\\n",
    "    --set seldonDeployment.replicas=10 \\\n",
    "    --set batchWorker.workers=100 \\\n",
    "    --set batchWorker.payloadType=data \\\n",
    "    --set batchWorker.dataType=ndarray \\\n",
    "    | argo submit -"
   ]
  },
  {
   "cell_type": "code",
   "execution_count": 133,
   "metadata": {},
   "outputs": [
    {
     "name": "stdout",
     "output_type": "stream",
     "text": [
      "NAME                   STATUS      AGE   DURATION   PRIORITY\r\n",
      "seldon-batch-process   Succeeded   1m    1m         0\r\n"
     ]
    }
   ],
   "source": [
    "!argo list"
   ]
  },
  {
   "cell_type": "code",
   "execution_count": 134,
   "metadata": {},
   "outputs": [
    {
     "name": "stdout",
     "output_type": "stream",
     "text": [
      "Name:                seldon-batch-process\r\n",
      "Namespace:           default\r\n",
      "ServiceAccount:      default\r\n",
      "Status:              Succeeded\r\n",
      "Created:             Thu Jun 04 18:48:39 +0100 (1 minute ago)\r\n",
      "Started:             Thu Jun 04 18:48:39 +0100 (1 minute ago)\r\n",
      "Finished:            Thu Jun 04 18:50:23 +0100 (3 seconds ago)\r\n",
      "Duration:            1 minute 44 seconds\r\n",
      "\r\n",
      "\u001b[39mSTEP\u001b[0m                                                             PODNAME                          DURATION  MESSAGE\r\n",
      " \u001b[32m✔\u001b[0m seldon-batch-process (seldon-batch-process)                                                              \r\n",
      " ├---\u001b[32m✔\u001b[0m create-seldon-resource (create-seldon-resource-template)  seldon-batch-process-3626514072  2s        \r\n",
      " ├---\u001b[32m✔\u001b[0m wait-seldon-resource (wait-seldon-resource-template)      seldon-batch-process-2052519094  27s       \r\n",
      " ├---\u001b[32m✔\u001b[0m download-object-store (download-object-store-template)    seldon-batch-process-1257652469  3s        \r\n",
      " ├---\u001b[32m✔\u001b[0m process-batch-inputs (process-batch-inputs-template)      seldon-batch-process-2033515954  1m        \r\n",
      " └---\u001b[32m✔\u001b[0m upload-object-store (upload-object-store-template)        seldon-batch-process-2123074048  2s        \r\n"
     ]
    }
   ],
   "source": [
    "!argo get seldon-batch-process"
   ]
  },
  {
   "cell_type": "code",
   "execution_count": 135,
   "metadata": {},
   "outputs": [
    {
     "name": "stdout",
     "output_type": "stream",
     "text": [
      "\u001b[35mcreate-seldon-resource\u001b[0m:\ttime=\"2020-06-04T17:48:40Z\" level=info msg=\"Starting Workflow Executor\" version=v2.8.0-rc4+8f69617.dirty\r\n",
      "\u001b[35mcreate-seldon-resource\u001b[0m:\ttime=\"2020-06-04T17:48:40Z\" level=info msg=\"Creating a docker executor\"\r\n",
      "\u001b[35mcreate-seldon-resource\u001b[0m:\ttime=\"2020-06-04T17:48:40Z\" level=info msg=\"Executor (version: v2.8.0-rc4+8f69617.dirty, build_date: 2020-05-12T15:17:15Z) initialized (pod: default/seldon-batch-process-3626514072) with template:\\n{\\\"name\\\":\\\"create-seldon-resource-template\\\",\\\"arguments\\\":{},\\\"inputs\\\":{},\\\"outputs\\\":{},\\\"metadata\\\":{},\\\"resource\\\":{\\\"action\\\":\\\"create\\\",\\\"manifest\\\":\\\"apiVersion: machinelearning.seldon.io/v1\\\\nkind: SeldonDeployment\\\\nmetadata:\\\\n  name: \\\\\\\"sklearn\\\\\\\"\\\\n  namespace: default\\\\n  ownerReferences:\\\\n  - apiVersion: argoproj.io/v1alpha1\\\\n    blockOwnerDeletion: true\\\\n    kind: Workflow\\\\n    name: \\\\\\\"seldon-batch-process\\\\\\\"\\\\n    uid: \\\\\\\"d80adc37-5794-45c5-9fb6-0d1e90ba84d0\\\\\\\"\\\\nspec:\\\\n  name: \\\\\\\"sklearn\\\\\\\"\\\\n  predictors:\\\\n    - graph:\\\\n        children: []\\\\n        implementation: SKLEARN_SERVER\\\\n        modelUri: gs://seldon-models/sklearn/iris\\\\n        name: classifier\\\\n      name: default\\\\n      replicas: 10\\\\n        \\\\n\\\"}}\"\r\n",
      "\u001b[35mcreate-seldon-resource\u001b[0m:\ttime=\"2020-06-04T17:48:40Z\" level=info msg=\"Loading manifest to /tmp/manifest.yaml\"\r\n",
      "\u001b[35mcreate-seldon-resource\u001b[0m:\ttime=\"2020-06-04T17:48:40Z\" level=info msg=\"kubectl create -f /tmp/manifest.yaml -o json\"\r\n",
      "\u001b[35mcreate-seldon-resource\u001b[0m:\ttime=\"2020-06-04T17:48:41Z\" level=info msg=default/SeldonDeployment.machinelearning.seldon.io/sklearn\r\n",
      "\u001b[35mcreate-seldon-resource\u001b[0m:\ttime=\"2020-06-04T17:48:41Z\" level=info msg=\"No output parameters\"\r\n",
      "\u001b[32mwait-seldon-resource\u001b[0m:\tWaiting for deployment \"sklearn-default-0-classifier\" rollout to finish: 0 of 10 updated replicas are available...\r\n",
      "\u001b[32mwait-seldon-resource\u001b[0m:\tWaiting for deployment \"sklearn-default-0-classifier\" rollout to finish: 1 of 10 updated replicas are available...\r\n",
      "\u001b[32mwait-seldon-resource\u001b[0m:\tWaiting for deployment \"sklearn-default-0-classifier\" rollout to finish: 2 of 10 updated replicas are available...\r\n",
      "\u001b[32mwait-seldon-resource\u001b[0m:\tWaiting for deployment \"sklearn-default-0-classifier\" rollout to finish: 3 of 10 updated replicas are available...\r\n",
      "\u001b[32mwait-seldon-resource\u001b[0m:\tWaiting for deployment \"sklearn-default-0-classifier\" rollout to finish: 4 of 10 updated replicas are available...\r\n",
      "\u001b[32mwait-seldon-resource\u001b[0m:\tWaiting for deployment \"sklearn-default-0-classifier\" rollout to finish: 5 of 10 updated replicas are available...\r\n",
      "\u001b[32mwait-seldon-resource\u001b[0m:\tWaiting for deployment \"sklearn-default-0-classifier\" rollout to finish: 6 of 10 updated replicas are available...\r\n",
      "\u001b[32mwait-seldon-resource\u001b[0m:\tWaiting for deployment \"sklearn-default-0-classifier\" rollout to finish: 7 of 10 updated replicas are available...\r\n",
      "\u001b[32mwait-seldon-resource\u001b[0m:\tWaiting for deployment \"sklearn-default-0-classifier\" rollout to finish: 8 of 10 updated replicas are available...\r\n",
      "\u001b[32mwait-seldon-resource\u001b[0m:\tWaiting for deployment \"sklearn-default-0-classifier\" rollout to finish: 9 of 10 updated replicas are available...\r\n",
      "\u001b[32mwait-seldon-resource\u001b[0m:\tdeployment \"sklearn-default-0-classifier\" successfully rolled out\r\n",
      "\u001b[34mdownload-object-store\u001b[0m:\tAdded `minio-local` successfully.\r\n",
      "\u001b[34mdownload-object-store\u001b[0m:\t`minio-local/data/input-data.txt` -> `/assets/input-data.txt`\r\n",
      "\u001b[34mdownload-object-store\u001b[0m:\tTotal: 0 B, Transferred: 146.48 KiB, Speed: 21.68 MiB/s\r\n",
      "\u001b[31mupload-object-store\u001b[0m:\tAdded `minio-local` successfully.\r\n",
      "\u001b[31mupload-object-store\u001b[0m:\t`/assets/output-data.txt` -> `minio-local/data/output-data-d80adc37-5794-45c5-9fb6-0d1e90ba84d0.txt`\r\n",
      "\u001b[31mupload-object-store\u001b[0m:\tTotal: 0 B, Transferred: 1.91 MiB, Speed: 71.69 MiB/s\r\n"
     ]
    }
   ],
   "source": [
    "!argo logs -w seldon-batch-process "
   ]
  },
  {
   "cell_type": "markdown",
   "metadata": {},
   "source": [
    "## Check output in object store\n",
    "\n",
    "We can now visualise the output that we obtained in the object store.\n",
    "\n",
    "First we can check that the file is present:"
   ]
  },
  {
   "cell_type": "code",
   "execution_count": 136,
   "metadata": {},
   "outputs": [
    {
     "name": "stdout",
     "output_type": "stream",
     "text": [
      "Workflow ID is d80adc37-5794-45c5-9fb6-0d1e90ba84d0\n"
     ]
    }
   ],
   "source": [
    "import json\n",
    "wf_arr = !argo get seldon-batch-process -o json\n",
    "wf = json.loads(\"\".join(wf_arr))\n",
    "WF_ID = wf[\"metadata\"][\"uid\"]\n",
    "print(f\"Workflow ID is {WF_ID}\")"
   ]
  },
  {
   "cell_type": "code",
   "execution_count": 138,
   "metadata": {},
   "outputs": [
    {
     "name": "stdout",
     "output_type": "stream",
     "text": [
      "\u001b[m\u001b[32m[2020-06-04 18:50:20 BST] \u001b[0m\u001b[33m 1.9MiB \u001b[0m\u001b[1moutput-data-d80adc37-5794-45c5-9fb6-0d1e90ba84d0.txt\u001b[0m\r\n",
      "\u001b[0m"
     ]
    }
   ],
   "source": [
    "!mc ls minio-local/data/output-data-\"$WF_ID\".txt"
   ]
  },
  {
   "cell_type": "markdown",
   "metadata": {},
   "source": [
    "Now we can output the contents of the file created using the `mc head` command."
   ]
  },
  {
   "cell_type": "code",
   "execution_count": 139,
   "metadata": {},
   "outputs": [
    {
     "name": "stdout",
     "output_type": "stream",
     "text": [
      "...a84d0.txt:  1.91 MiB / 1.91 MiB ┃▓▓▓▓▓▓▓▓▓▓▓▓▓▓▓▓▓▓▓▓▓▓▓▓▓▓▓▓┃ 27.26 MiB/s 0s\u001b[0m\u001b[0m\u001b[m\u001b[32;1m{\"data\": {\"names\": [\"t:0\", \"t:1\", \"t:2\"], \"ndarray\": [[0.0006985194531162841, 0.003668039039435755, 0.9956334415074478]]}, \"meta\": {\"tags\": {\"tags\": {\"puid\": \"b90c2bee-a68b-11ea-9fbf-3587242bbd96\"}}}}\n",
      "{\"data\": {\"names\": [\"t:0\", \"t:1\", \"t:2\"], \"ndarray\": [[0.0006985194531162841, 0.003668039039435755, 0.9956334415074478]]}, \"meta\": {\"tags\": {\"tags\": {\"puid\": \"b914e0fa-a68b-11ea-a606-2987bbff97f2\"}}}}\n",
      "{\"data\": {\"names\": [\"t:0\", \"t:1\", \"t:2\"], \"ndarray\": [[0.0006985194531162841, 0.003668039039435755, 0.9956334415074478]]}, \"meta\": {\"tags\": {\"tags\": {\"puid\": \"b90bfcc0-a68b-11ea-9052-7921f7c31425\"}}}}\n",
      "{\"data\": {\"names\": [\"t:0\", \"t:1\", \"t:2\"], \"ndarray\": [[0.0006985194531162841, 0.003668039039435755, 0.9956334415074478]]}, \"meta\": {\"tags\": {\"tags\": {\"puid\": \"b9253a1e-a68b-11ea-9b7a-a2bea649c686\"}}}}\n",
      "{\"data\": {\"names\": [\"t:0\", \"t:1\", \"t:2\"], \"ndarray\": [[0.0006985194531162841, 0.003668039039435755, 0.9956334415074478]]}, \"meta\": {\"tags\": {\"tags\": {\"puid\": \"b90d5bc8-a68b-11ea-8702-6d9cf9c47117\"}}}}\n",
      "{\"data\": {\"names\": [\"t:0\", \"t:1\", \"t:2\"], \"ndarray\": [[0.0006985194531162841, 0.003668039039435755, 0.9956334415074478]]}, \"meta\": {\"tags\": {\"tags\": {\"puid\": \"b90ca42e-a68b-11ea-b9c7-93c8a08a7723\"}}}}\n",
      "{\"data\": {\"names\": [\"t:0\", \"t:1\", \"t:2\"], \"ndarray\": [[0.0006985194531162841, 0.003668039039435755, 0.9956334415074478]]}, \"meta\": {\"tags\": {\"tags\": {\"puid\": \"b90fd00c-a68b-11ea-9365-018a37f9daa9\"}}}}\n",
      "{\"data\": {\"names\": [\"t:0\", \"t:1\", \"t:2\"], \"ndarray\": [[0.0006985194531162841, 0.003668039039435755, 0.9956334415074478]]}, \"meta\": {\"tags\": {\"tags\": {\"puid\": \"b90b03a2-a68b-11ea-a13b-9b14cb742cc4\"}}}}\n",
      "{\"data\": {\"names\": [\"t:0\", \"t:1\", \"t:2\"], \"ndarray\": [[0.0006985194531162841, 0.003668039039435755, 0.9956334415074478]]}, \"meta\": {\"tags\": {\"tags\": {\"puid\": \"b9139d70-a68b-11ea-b849-4f6e815a0650\"}}}}\n",
      "{\"data\": {\"names\": [\"t:0\", \"t:1\", \"t:2\"], \"ndarray\": [[0.0006985194531162841, 0.003668039039435755, 0.9956334415074478]]}, \"meta\": {\"tags\": {\"tags\": {\"puid\": \"b90dc5be-a68b-11ea-acf6-01cde1e270ea\"}}}}\n"
     ]
    }
   ],
   "source": [
    "!mc cp minio-local/data/output-data-\"$WF_ID\".txt assets/output-data.txt\n",
    "!head assets/output-data.txt"
   ]
  },
  {
   "cell_type": "code",
   "execution_count": 140,
   "metadata": {},
   "outputs": [
    {
     "name": "stdout",
     "output_type": "stream",
     "text": [
      "Workflow 'seldon-batch-process' deleted\r\n"
     ]
    }
   ],
   "source": [
    "!argo delete seldon-batch-process"
   ]
  },
  {
   "cell_type": "code",
   "execution_count": null,
   "metadata": {},
   "outputs": [],
   "source": []
  }
 ],
 "metadata": {
  "kernelspec": {
   "display_name": "Python 3",
   "language": "python",
   "name": "python3"
  },
  "language_info": {
   "codemirror_mode": {
    "name": "ipython",
    "version": 3
   },
   "file_extension": ".py",
   "mimetype": "text/x-python",
   "name": "python",
   "nbconvert_exporter": "python",
   "pygments_lexer": "ipython3",
   "version": "3.7.4"
  }
 },
 "nbformat": 4,
 "nbformat_minor": 2
}
