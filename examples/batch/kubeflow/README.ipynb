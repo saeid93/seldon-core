{
 "cells": [
  {
   "cell_type": "markdown",
   "metadata": {},
   "source": [
    "## Batch processing with Kubeflow Pipelines\n",
    "In this notebook we will dive into how you can run batch processing with Kubeflow Pipelines and Seldon Core.\n",
    "\n"
   ]
  },
  {
   "cell_type": "code",
   "execution_count": null,
   "metadata": {},
   "outputs": [],
   "source": [
    "%%bash\n",
    "export PIPELINE_VERSION=0.5.1\n",
    "kubectl apply -k github.com/kubeflow/pipelines/manifests/kustomize/cluster-scoped-resources?ref=$PIPELINE_VERSION\n",
    "kubectl wait --for condition=established --timeout=60s crd/applications.app.k8s.io\n",
    "kubectl apply -k github.com/kubeflow/pipelines/manifests/kustomize/env/dev?ref=$PIPELINE_VERSION"
   ]
  },
  {
   "cell_type": "code",
   "execution_count": null,
   "metadata": {},
   "outputs": [],
   "source": [
    "pip install kfp"
   ]
  },
  {
   "cell_type": "code",
   "execution_count": 2,
   "metadata": {},
   "outputs": [],
   "source": [
    "mkdir -p assets/"
   ]
  },
  {
   "cell_type": "code",
   "execution_count": 5,
   "metadata": {},
   "outputs": [
    {
     "name": "stdout",
     "output_type": "stream",
     "text": [
      "Overwriting assets/seldon-batch-pipeline.py\n"
     ]
    }
   ],
   "source": [
    "%%writefile assets/seldon-batch-pipeline.py\n",
    "\n",
    "import kfp.dsl as dsl\n",
    "import yaml\n",
    "from kubernetes import client as k8s\n",
    "\n",
    "@dsl.pipeline(\n",
    "  name='SeldonBatch',\n",
    "  description='A batch processing pipeline for seldon models'\n",
    ")\n",
    "def nlp_pipeline(\n",
    "        deployment_name=\"seldon-batch\",\n",
    "        namespace=\"kubeflow\",\n",
    "        seldon_server=\"SKLEARN_SERVER\",\n",
    "        model_path=\"gs://seldon-models/sklearn/iris\",\n",
    "        gateway_endpoint=\"istio-ingressgateway.istio-system.svc.cluster.local\",\n",
    "        retries=3,\n",
    "        replicas=10,\n",
    "        workers=100,\n",
    "        input_path=\"data/input-data.txt\",\n",
    "        output_path=\"data/output-data.txt\"):\n",
    "    \"\"\"\n",
    "    Pipeline \n",
    "    \"\"\"\n",
    "    \n",
    "    vop = dsl.VolumeOp(\n",
    "      name='seldon-batch-pvc',\n",
    "      resource_name=\"seldon-batch-pvc\",\n",
    "      modes=dsl.VOLUME_MODE_RWO,\n",
    "      size=\"2Mi\"\n",
    "    )\n",
    "    \n",
    "    seldon_deployment_yaml = f\"\"\"\n",
    "apiVersion: machinelearning.seldon.io/v1\n",
    "kind: SeldonDeployment\n",
    "metadata:\n",
    "  name: \"{deployment_name}\"\n",
    "  namespace: \"{namespace}\"\n",
    "spec:\n",
    "  name: \"{deployment_name}\"\n",
    "  predictors:\n",
    "    - graph:\n",
    "        children: []\n",
    "        implementation: \"{seldon_server}\"\n",
    "        modelUri: \"{model_path}\"\n",
    "        name: classifier\n",
    "      name: default\n",
    "      replicas: \"{replicas}\"\n",
    "    \"\"\"\n",
    "    \n",
    "    deploy_step = dsl.ResourceOp(\n",
    "        name=\"deploy_seldon\",\n",
    "        action=\"create\",\n",
    "        k8s_resource=yaml.safe_load(seldon_deployment_yaml))\n",
    "    \n",
    "    wait_for_ready = dsl.ContainerOp(\n",
    "        name=\"wait_seldon\",\n",
    "        image=\"bitnami/kubectl:1.17\",\n",
    "        command=\"bash\",\n",
    "        arguments=[\n",
    "            \"-c\",\n",
    "            \"sleep 10 && kubectl rollout status deploy/$(kubectl get deploy -l seldon-deployment-id={deployment_name} -o jsonpath='{.items[0].metadata.name')\"   \n",
    "        ])\n",
    "    \n",
    "    download_from_object_store = dsl.ContainerOp(\n",
    "        name=\"download-from-object-store\",\n",
    "        image=\"minio/mc:RELEASE.2020-04-17T08-55-48Z\",\n",
    "        command=\"sh\",\n",
    "        arguments=[\n",
    "            \"-c\",\n",
    "            f\"mc config host add minio-local minioadmin minioadmin && mc cp minio-local/{input_path} /assets/input-data.txt\"   \n",
    "        ],\n",
    "        pvolumes={ \"/assets\", vop.volume })\n",
    "    \n",
    "\n",
    "    batch_process_step = dsl.ContainerOp(\n",
    "        name='data_downloader',\n",
    "        image='seldonio/seldon-core-s2i-python37:1.1.1-rc',\n",
    "        command=\"seldon-batch-processor\",\n",
    "        arguments=[\n",
    "            \"--deployment-name\", deployment_name,\n",
    "            \"--namespace\", namespace,\n",
    "            \"--host\", gateway_endpoint,\n",
    "            \"--retries\", retries,\n",
    "            \"--input-data-path\", input_path,\n",
    "            \"--output-data-path\", output_path\n",
    "        ],\n",
    "        pvolumes={ \"/assets\", vop.volume }\n",
    "    )\n",
    "    \n",
    "    upload_to_object_store = dsl.ContainerOp(\n",
    "        name=\"upload-to-object-store\",\n",
    "        image=\"minio/mc:RELEASE.2020-04-17T08-55-48Z\",\n",
    "        command=\"sh\",\n",
    "        arguments=[\n",
    "            \"-c\",\n",
    "            f\"mc config host add minio-local minioadmin minioadmin && mc cp /assets/output-data.txt minio-local/{output_path}\"   \n",
    "        ],\n",
    "        pvolumes={ \"/assets\", vop.volume })\n",
    "    \n",
    "    \n",
    "    wait_for_ready.after(deploy_step)\n",
    "    download_from_object_store.after(wait_for_ready)\n",
    "    batch_process_step.after(download_from_object_store)\n",
    "    upload_to_object_store.after(batch_process_step)\n",
    "\n",
    "if __name__ == '__main__':\n",
    "  import kfp.compiler as compiler\n",
    "  compiler.Compiler().compile(nlp_pipeline, __file__ + '.tar.gz')\n"
   ]
  },
  {
   "cell_type": "code",
   "execution_count": 6,
   "metadata": {},
   "outputs": [
    {
     "name": "stdout",
     "output_type": "stream",
     "text": [
      "/home/alejandro/miniconda3/lib/python3.7/site-packages/kfp/components/_data_passing.py:168: UserWarning: Missing type name was inferred as \"Integer\" based on the value \"3\".\r\n",
      "  warnings.warn('Missing type name was inferred as \"{}\" based on the value \"{}\".'.format(type_name, str(value)))\r\n",
      "/home/alejandro/miniconda3/lib/python3.7/site-packages/kfp/components/_data_passing.py:168: UserWarning: Missing type name was inferred as \"Integer\" based on the value \"10\".\r\n",
      "  warnings.warn('Missing type name was inferred as \"{}\" based on the value \"{}\".'.format(type_name, str(value)))\r\n",
      "/home/alejandro/miniconda3/lib/python3.7/site-packages/kfp/components/_data_passing.py:168: UserWarning: Missing type name was inferred as \"Integer\" based on the value \"100\".\r\n",
      "  warnings.warn('Missing type name was inferred as \"{}\" based on the value \"{}\".'.format(type_name, str(value)))\r\n",
      "Traceback (most recent call last):\r\n",
      "  File \"assets/seldon-batch-pipeline.py\", line 108, in <module>\r\n",
      "    compiler.Compiler().compile(nlp_pipeline, __file__ + '.tar.gz')\r\n",
      "  File \"/home/alejandro/miniconda3/lib/python3.7/site-packages/kfp/compiler/compiler.py\", line 926, in compile\r\n",
      "    allow_telemetry=allow_telemetry)\r\n",
      "  File \"/home/alejandro/miniconda3/lib/python3.7/site-packages/kfp/compiler/compiler.py\", line 983, in _create_and_write_workflow\r\n",
      "    allow_telemetry)\r\n",
      "  File \"/home/alejandro/miniconda3/lib/python3.7/site-packages/kfp/compiler/compiler.py\", line 806, in _create_workflow\r\n",
      "    pipeline_func(*args_list)\r\n",
      "  File \"assets/seldon-batch-pipeline.py\", line 72, in nlp_pipeline\r\n",
      "    pvolumes={ \"/assets\", vop.volume })\r\n",
      "TypeError: unhashable type: 'PipelineVolume'\r\n"
     ]
    }
   ],
   "source": [
    "!python assets/seldon-batch-pipeline.py"
   ]
  },
  {
   "cell_type": "code",
   "execution_count": 30,
   "metadata": {},
   "outputs": [
    {
     "name": "stdout",
     "output_type": "stream",
     "text": [
      "seldon-batch-pipeline.py  seldon-batch-pipeline.py.tar.gz  seldon-batch.jpg\r\n"
     ]
    }
   ],
   "source": [
    "!ls assets/"
   ]
  },
  {
   "cell_type": "code",
   "execution_count": null,
   "metadata": {},
   "outputs": [],
   "source": []
  }
 ],
 "metadata": {
  "kernelspec": {
   "display_name": "Python 3",
   "language": "python",
   "name": "python3"
  }
 },
 "nbformat": 4,
 "nbformat_minor": 2
}
