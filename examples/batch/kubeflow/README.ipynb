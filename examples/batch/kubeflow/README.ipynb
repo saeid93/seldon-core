{
 "cells": [
  {
   "cell_type": "markdown",
   "metadata": {},
   "source": [
    "## Batch processing with Argo Worfklows\n",
    "\n",
    "In this notebook we will dive into how you can run batch processing with Argo Workflows and Seldon Core.\n",
    "\n",
    "Dependencies:\n",
    "\n",
    "* Seldon core installed as per the docs with an ingress\n",
    "* Argo Workfklows installed in cluster (and argo CLI for commands)\n"
   ]
  },
  {
   "cell_type": "markdown",
   "metadata": {},
   "source": [
    "## Seldon Core Batch with Object Store\n",
    "\n",
    "In some cases we may want to read the data from an object source.\n",
    "\n",
    "In this case we will show how you can read from an object store, in this case minio.\n",
    "\n",
    "The workflow will look as follows:\n",
    "\n",
    "![](assets/seldon-batch.jpg)\n",
    "\n",
    "For this we will assume you have installed the Minio (mc) CLI - we will use a Minio client in the cluster but you can use another object store provider like S3, Google Cloud, Azure, etc.\n",
    "\n",
    "### Set up kubeflow pipeline"
   ]
  },
  {
   "cell_type": "code",
   "execution_count": null,
   "metadata": {},
   "outputs": [],
   "source": [
    "%%bash\n",
    "export PIPELINE_VERSION=0.5.1\n",
    "kubectl apply -k github.com/kubeflow/pipelines/manifests/kustomize/cluster-scoped-resources?ref=$PIPELINE_VERSION\n",
    "kubectl wait --for condition=established --timeout=60s crd/applications.app.k8s.io\n",
    "kubectl apply -k github.com/kubeflow/pipelines/manifests/kustomize/env/dev?ref=$PIPELINE_VERSION"
   ]
  },
  {
   "cell_type": "code",
   "execution_count": null,
   "metadata": {},
   "outputs": [],
   "source": [
    "pip install kfp"
   ]
  },
  {
   "cell_type": "code",
   "execution_count": 2,
   "metadata": {},
   "outputs": [],
   "source": [
    "mkdir -p assets/"
   ]
  },
  {
   "cell_type": "code",
   "execution_count": 31,
   "metadata": {},
   "outputs": [
    {
     "name": "stdout",
     "output_type": "stream",
     "text": [
      "Overwriting assets/seldon-batch-pipeline.py\n"
     ]
    }
   ],
   "source": [
    "%%writefile assets/seldon-batch-pipeline.py\n",
    "\n",
    "import kfp.dsl as dsl\n",
    "import yaml\n",
    "from kubernetes import client as k8s\n",
    "\n",
    "@dsl.pipeline(\n",
    "  name='SeldonBatch',\n",
    "  description='A batch processing pipeline for seldon models'\n",
    ")\n",
    "def nlp_pipeline(\n",
    "        deployment_name=\"seldon-batch\",\n",
    "        namespace=\"kubeflow\",\n",
    "        seldon_server=\"SKLEARN_SERVER\",\n",
    "        model_path=\"gs://seldon-models/sklearn/iris\",\n",
    "        gateway_endpoint=\"istio-ingressgateway.istio-system.svc.cluster.local\",\n",
    "        retries=3,\n",
    "        replicas=10,\n",
    "        workers=100,\n",
    "        input_path=\"s3://data/input-data.txt\",\n",
    "        output_path=\"s3://data/output-data.txt\"):\n",
    "    \"\"\"\n",
    "    Pipeline \n",
    "    \"\"\"\n",
    "    \n",
    "    seldon_deployment_yaml = f\"\"\"\n",
    "apiVersion: machinelearning.seldon.io/v1\n",
    "kind: SeldonDeployment\n",
    "metadata:\n",
    "  name: \"{deployment_name}\"\n",
    "  namespace: \"{namespace}\"\n",
    "spec:\n",
    "  name: \"{deployment_name}\"\n",
    "  predictors:\n",
    "    - graph:\n",
    "        children: []\n",
    "        implementation: \"{seldon_server}\"\n",
    "        modelUri: \"{model_path}\"\n",
    "        name: classifier\n",
    "      name: default\n",
    "      replicas: \"{replicas}\"\n",
    "    \"\"\"\n",
    "    \n",
    "    deploy_step = dsl.ResourceOp(\n",
    "        name=\"deploy_seldon\",\n",
    "        action=\"create\",\n",
    "        k8s_resource=yaml.safe_load(seldon_deployment_yaml))\n",
    "    \n",
    "    wait_for_ready = dsl.ContainerOp()\n",
    "\n",
    "    batch_process_step = dsl.ContainerOp(\n",
    "        name='data_downloader',\n",
    "        image='seldonio/seldon-core-s2i-python37:1.1.1-SNAPSHOT',\n",
    "        command=\"seldon-batch-processor\",\n",
    "        arguments=[\n",
    "            \"--deployment-name\", deployment_name,\n",
    "            \"--namespace\", namespace,\n",
    "            \"--host\", gateway_endpoint,\n",
    "            \"--retries\", retries,\n",
    "            \"--input-data-path\", input_path,\n",
    "            \"--output-data-path\", output_path\n",
    "        ]\n",
    "    )\n",
    "    \n",
    "    batch_process_step.after(deploy_step)\n",
    "\n",
    "if __name__ == '__main__':\n",
    "  import kfp.compiler as compiler\n",
    "  compiler.Compiler().compile(nlp_pipeline, __file__ + '.tar.gz')\n"
   ]
  },
  {
   "cell_type": "code",
   "execution_count": 32,
   "metadata": {},
   "outputs": [
    {
     "name": "stdout",
     "output_type": "stream",
     "text": [
      "/home/alejandro/miniconda3/lib/python3.7/site-packages/kfp/components/_data_passing.py:168: UserWarning: Missing type name was inferred as \"Integer\" based on the value \"3\".\r\n",
      "  warnings.warn('Missing type name was inferred as \"{}\" based on the value \"{}\".'.format(type_name, str(value)))\r\n",
      "/home/alejandro/miniconda3/lib/python3.7/site-packages/kfp/components/_data_passing.py:168: UserWarning: Missing type name was inferred as \"Integer\" based on the value \"10\".\r\n",
      "  warnings.warn('Missing type name was inferred as \"{}\" based on the value \"{}\".'.format(type_name, str(value)))\r\n",
      "/home/alejandro/miniconda3/lib/python3.7/site-packages/kfp/components/_data_passing.py:168: UserWarning: Missing type name was inferred as \"Integer\" based on the value \"100\".\r\n",
      "  warnings.warn('Missing type name was inferred as \"{}\" based on the value \"{}\".'.format(type_name, str(value)))\r\n"
     ]
    }
   ],
   "source": [
    "!python assets/seldon-batch-pipeline.py"
   ]
  },
  {
   "cell_type": "code",
   "execution_count": 30,
   "metadata": {},
   "outputs": [
    {
     "name": "stdout",
     "output_type": "stream",
     "text": [
      "seldon-batch-pipeline.py  seldon-batch-pipeline.py.tar.gz  seldon-batch.jpg\r\n"
     ]
    }
   ],
   "source": [
    "!ls assets/"
   ]
  },
  {
   "cell_type": "code",
   "execution_count": null,
   "metadata": {},
   "outputs": [],
   "source": []
  }
 ],
 "metadata": {
  "kernelspec": {
   "display_name": "Python 3",
   "language": "python",
   "name": "python3"
  },
  "language_info": {
   "codemirror_mode": {
    "name": "ipython",
    "version": 3
   },
   "file_extension": ".py",
   "mimetype": "text/x-python",
   "name": "python",
   "nbconvert_exporter": "python",
   "pygments_lexer": "ipython3",
   "version": "3.7.4"
  }
 },
 "nbformat": 4,
 "nbformat_minor": 2
}
