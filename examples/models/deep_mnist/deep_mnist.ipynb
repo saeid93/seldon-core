{
 "cells": [
  {
   "cell_type": "markdown",
   "metadata": {},
   "source": [
    "# Tensorflow MNIST Model\n",
    "\n",
    " * Wrap a Tensorflow MNIST python model for use as a prediction microservice in seldon-core\n",
    " \n",
    "   * Run locally on Docker to test\n",
    "   * Deploy on seldon-core running on minikube\n",
    " \n",
    "## Dependencies\n",
    "\n",
    " * [Helm](https://github.com/kubernetes/helm)\n",
    " * [Minikube](https://github.com/kubernetes/minikube)\n",
    " * [S2I](https://github.com/openshift/source-to-image)\n",
    "\n",
    "```bash\n",
    "pip install seldon-core\n",
    "```\n",
    "\n",
    "## Train locally\n",
    " "
   ]
  },
  {
   "cell_type": "code",
   "execution_count": 1,
   "metadata": {},
   "outputs": [
    {
     "name": "stdout",
     "output_type": "stream",
     "text": [
      "WARNING:tensorflow:From <ipython-input-1-b7995d30f035>:2: read_data_sets (from tensorflow.contrib.learn.python.learn.datasets.mnist) is deprecated and will be removed in a future version.\n",
      "Instructions for updating:\n",
      "Please use alternatives such as official/mnist/dataset.py from tensorflow/models.\n",
      "WARNING:tensorflow:From /home/joel/.local/lib/python3.7/site-packages/tensorflow/contrib/learn/python/learn/datasets/mnist.py:260: maybe_download (from tensorflow.contrib.learn.python.learn.datasets.base) is deprecated and will be removed in a future version.\n",
      "Instructions for updating:\n",
      "Please write your own downloading logic.\n",
      "WARNING:tensorflow:From /home/joel/.local/lib/python3.7/site-packages/tensorflow/contrib/learn/python/learn/datasets/base.py:252: _internal_retry.<locals>.wrap.<locals>.wrapped_fn (from tensorflow.contrib.learn.python.learn.datasets.base) is deprecated and will be removed in a future version.\n",
      "Instructions for updating:\n",
      "Please use urllib or similar directly.\n",
      "Successfully downloaded train-images-idx3-ubyte.gz 9912422 bytes.\n",
      "WARNING:tensorflow:From /home/joel/.local/lib/python3.7/site-packages/tensorflow/contrib/learn/python/learn/datasets/mnist.py:262: extract_images (from tensorflow.contrib.learn.python.learn.datasets.mnist) is deprecated and will be removed in a future version.\n",
      "Instructions for updating:\n",
      "Please use tf.data to implement this functionality.\n",
      "Extracting MNIST_data/train-images-idx3-ubyte.gz\n",
      "Successfully downloaded train-labels-idx1-ubyte.gz 28881 bytes.\n",
      "WARNING:tensorflow:From /home/joel/.local/lib/python3.7/site-packages/tensorflow/contrib/learn/python/learn/datasets/mnist.py:267: extract_labels (from tensorflow.contrib.learn.python.learn.datasets.mnist) is deprecated and will be removed in a future version.\n",
      "Instructions for updating:\n",
      "Please use tf.data to implement this functionality.\n",
      "Extracting MNIST_data/train-labels-idx1-ubyte.gz\n",
      "WARNING:tensorflow:From /home/joel/.local/lib/python3.7/site-packages/tensorflow/contrib/learn/python/learn/datasets/mnist.py:110: dense_to_one_hot (from tensorflow.contrib.learn.python.learn.datasets.mnist) is deprecated and will be removed in a future version.\n",
      "Instructions for updating:\n",
      "Please use tf.one_hot on tensors.\n",
      "Successfully downloaded t10k-images-idx3-ubyte.gz 1648877 bytes.\n",
      "Extracting MNIST_data/t10k-images-idx3-ubyte.gz\n",
      "Successfully downloaded t10k-labels-idx1-ubyte.gz 4542 bytes.\n",
      "Extracting MNIST_data/t10k-labels-idx1-ubyte.gz\n",
      "WARNING:tensorflow:From /home/joel/.local/lib/python3.7/site-packages/tensorflow/contrib/learn/python/learn/datasets/mnist.py:290: DataSet.__init__ (from tensorflow.contrib.learn.python.learn.datasets.mnist) is deprecated and will be removed in a future version.\n",
      "Instructions for updating:\n",
      "Please use alternatives such as official/mnist/dataset.py from tensorflow/models.\n",
      "WARNING:tensorflow:From /home/joel/.local/lib/python3.7/site-packages/tensorflow/python/util/tf_should_use.py:193: initialize_all_variables (from tensorflow.python.ops.variables) is deprecated and will be removed after 2017-03-02.\n",
      "Instructions for updating:\n",
      "Use `tf.global_variables_initializer` instead.\n",
      "0.9158\n"
     ]
    }
   ],
   "source": [
    "from tensorflow.examples.tutorials.mnist import input_data\n",
    "mnist = input_data.read_data_sets(\"MNIST_data/\", one_hot = True)\n",
    "import tensorflow as tf\n",
    "\n",
    "if __name__ == '__main__':\n",
    "    \n",
    "    x = tf.placeholder(tf.float32, [None,784], name=\"x\")\n",
    "\n",
    "    W = tf.Variable(tf.zeros([784,10]))\n",
    "    b = tf.Variable(tf.zeros([10]))\n",
    "\n",
    "    y = tf.nn.softmax(tf.matmul(x,W) + b, name=\"y\")\n",
    "\n",
    "    y_ = tf.placeholder(tf.float32, [None, 10])\n",
    "\n",
    "\n",
    "    cross_entropy = tf.reduce_mean(-tf.reduce_sum(y_ * tf.log(y), reduction_indices=[1]))\n",
    "\n",
    "    train_step = tf.train.GradientDescentOptimizer(0.5).minimize(cross_entropy)\n",
    "\n",
    "    init = tf.initialize_all_variables()\n",
    "\n",
    "    sess = tf.Session()\n",
    "    sess.run(init)\n",
    "\n",
    "    for i in range(1000):\n",
    "        batch_xs, batch_ys = mnist.train.next_batch(100)\n",
    "        sess.run(train_step, feed_dict={x: batch_xs, y_: batch_ys})\n",
    "\n",
    "    correct_prediction = tf.equal(tf.argmax(y,1), tf.argmax(y_,1))\n",
    "    accuracy = tf.reduce_mean(tf.cast(correct_prediction, tf.float32))\n",
    "    print(sess.run(accuracy, feed_dict = {x: mnist.test.images, y_:mnist.test.labels}))\n",
    "\n",
    "    saver = tf.train.Saver()\n",
    "\n",
    "    saver.save(sess, \"model/deep_mnist_model\")\n",
    "\n"
   ]
  },
  {
   "cell_type": "markdown",
   "metadata": {},
   "source": [
    "Wrap model using s2i"
   ]
  },
  {
   "cell_type": "code",
   "execution_count": 2,
   "metadata": {},
   "outputs": [
    {
     "name": "stdout",
     "output_type": "stream",
     "text": [
      "---> Installing application source...\n",
      "---> Installing dependencies ...\n",
      "Looking in links: /whl\n",
      "Collecting tensorflow>=1.12.0 (from -r requirements.txt (line 1))\n",
      "  WARNING: Url '/whl' is ignored. It is either a non-existing path or lacks a specific scheme.\n",
      "Downloading https://files.pythonhosted.org/packages/2a/5c/f1d66de5dde6f3ff528f6ea1fd0757a0e594d17debb3ec7f82daa967ea9a/tensorflow-2.0.0-cp37-cp37m-manylinux2010_x86_64.whl (86.3MB)\n",
      "Collecting tensorflow-estimator<2.1.0,>=2.0.0 (from tensorflow>=1.12.0->-r requirements.txt (line 1))\n",
      "  WARNING: Url '/whl' is ignored. It is either a non-existing path or lacks a specific scheme.\n",
      "Downloading https://files.pythonhosted.org/packages/fc/08/8b927337b7019c374719145d1dceba21a8bb909b93b1ad6f8fb7d22c1ca1/tensorflow_estimator-2.0.1-py2.py3-none-any.whl (449kB)\n",
      "Collecting google-pasta>=0.1.6 (from tensorflow>=1.12.0->-r requirements.txt (line 1))\n",
      "  WARNING: Url '/whl' is ignored. It is either a non-existing path or lacks a specific scheme.\n",
      "Downloading https://files.pythonhosted.org/packages/c3/fd/1e86bc4837cc9a3a5faf3db9b1854aa04ad35b5f381f9648fbe81a6f94e4/google_pasta-0.1.8-py3-none-any.whl (57kB)\n",
      "Requirement already satisfied: numpy<2.0,>=1.16.0 in /usr/local/lib/python3.7/site-packages (from tensorflow>=1.12.0->-r requirements.txt (line 1)) (1.17.3)\n",
      "Collecting termcolor>=1.1.0 (from tensorflow>=1.12.0->-r requirements.txt (line 1))\n",
      "  WARNING: Url '/whl' is ignored. It is either a non-existing path or lacks a specific scheme.\n",
      "Downloading https://files.pythonhosted.org/packages/8a/48/a76be51647d0eb9f10e2a4511bf3ffb8cc1e6b14e9e4fab46173aa79f981/termcolor-1.1.0.tar.gz\n",
      "Requirement already satisfied: protobuf>=3.6.1 in /usr/local/lib/python3.7/site-packages (from tensorflow>=1.12.0->-r requirements.txt (line 1)) (3.10.0)\n",
      "Requirement already satisfied: wheel>=0.26 in /usr/local/lib/python3.7/site-packages (from tensorflow>=1.12.0->-r requirements.txt (line 1)) (0.33.1)\n",
      "Requirement already satisfied: grpcio>=1.8.6 in /usr/local/lib/python3.7/site-packages (from tensorflow>=1.12.0->-r requirements.txt (line 1)) (1.24.3)\n",
      "Collecting wrapt>=1.11.1 (from tensorflow>=1.12.0->-r requirements.txt (line 1))\n",
      "  WARNING: Url '/whl' is ignored. It is either a non-existing path or lacks a specific scheme.\n",
      "Downloading https://files.pythonhosted.org/packages/23/84/323c2415280bc4fc880ac5050dddfb3c8062c2552b34c2e512eb4aa68f79/wrapt-1.11.2.tar.gz\n",
      "Collecting absl-py>=0.7.0 (from tensorflow>=1.12.0->-r requirements.txt (line 1))\n",
      "  WARNING: Url '/whl' is ignored. It is either a non-existing path or lacks a specific scheme.\n",
      "Downloading https://files.pythonhosted.org/packages/3b/72/e6e483e2db953c11efa44ee21c5fdb6505c4dffa447b4263ca8af6676b62/absl-py-0.8.1.tar.gz (103kB)\n",
      "Collecting gast==0.2.2 (from tensorflow>=1.12.0->-r requirements.txt (line 1))\n",
      "  WARNING: Url '/whl' is ignored. It is either a non-existing path or lacks a specific scheme.\n",
      "Downloading https://files.pythonhosted.org/packages/4e/35/11749bf99b2d4e3cceb4d55ca22590b0d7c2c62b9de38ac4a4a7f4687421/gast-0.2.2.tar.gz\n",
      "Collecting tensorboard<2.1.0,>=2.0.0 (from tensorflow>=1.12.0->-r requirements.txt (line 1))\n",
      "  WARNING: Url '/whl' is ignored. It is either a non-existing path or lacks a specific scheme.\n",
      "Downloading https://files.pythonhosted.org/packages/d3/9e/a48cd34dd7b672ffc227b566f7d16d63c62c58b542d54efa45848c395dd4/tensorboard-2.0.1-py3-none-any.whl (3.8MB)\n",
      "Requirement already satisfied: six>=1.10.0 in /usr/local/lib/python3.7/site-packages (from tensorflow>=1.12.0->-r requirements.txt (line 1)) (1.12.0)\n",
      "Collecting keras-applications>=1.0.8 (from tensorflow>=1.12.0->-r requirements.txt (line 1))\n",
      "  WARNING: Url '/whl' is ignored. It is either a non-existing path or lacks a specific scheme.\n",
      "Downloading https://files.pythonhosted.org/packages/71/e3/19762fdfc62877ae9102edf6342d71b28fbfd9dea3d2f96a882ce099b03f/Keras_Applications-1.0.8-py3-none-any.whl (50kB)\n",
      "Collecting opt-einsum>=2.3.2 (from tensorflow>=1.12.0->-r requirements.txt (line 1))\n",
      "  WARNING: Url '/whl' is ignored. It is either a non-existing path or lacks a specific scheme.\n",
      "Downloading https://files.pythonhosted.org/packages/b8/83/755bd5324777875e9dff19c2e59daec837d0378c09196634524a3d7269ac/opt_einsum-3.1.0.tar.gz (69kB)\n",
      "Collecting keras-preprocessing>=1.0.5 (from tensorflow>=1.12.0->-r requirements.txt (line 1))\n",
      "  WARNING: Url '/whl' is ignored. It is either a non-existing path or lacks a specific scheme.\n",
      "Downloading https://files.pythonhosted.org/packages/28/6a/8c1f62c37212d9fc441a7e26736df51ce6f0e38455816445471f10da4f0a/Keras_Preprocessing-1.1.0-py2.py3-none-any.whl (41kB)\n",
      "Collecting astor>=0.6.0 (from tensorflow>=1.12.0->-r requirements.txt (line 1))\n",
      "  WARNING: Url '/whl' is ignored. It is either a non-existing path or lacks a specific scheme.\n",
      "Downloading https://files.pythonhosted.org/packages/d1/4f/950dfae467b384fc96bc6469de25d832534f6b4441033c39f914efd13418/astor-0.8.0-py2.py3-none-any.whl\n",
      "Requirement already satisfied: setuptools in /usr/local/lib/python3.7/site-packages (from protobuf>=3.6.1->tensorflow>=1.12.0->-r requirements.txt (line 1)) (41.0.1)\n",
      "Collecting markdown>=2.6.8 (from tensorboard<2.1.0,>=2.0.0->tensorflow>=1.12.0->-r requirements.txt (line 1))\n",
      "  WARNING: Url '/whl' is ignored. It is either a non-existing path or lacks a specific scheme.\n",
      "Downloading https://files.pythonhosted.org/packages/c0/4e/fd492e91abdc2d2fcb70ef453064d980688762079397f779758e055f6575/Markdown-3.1.1-py2.py3-none-any.whl (87kB)\n",
      "Requirement already satisfied: werkzeug>=0.11.15 in /usr/local/lib/python3.7/site-packages (from tensorboard<2.1.0,>=2.0.0->tensorflow>=1.12.0->-r requirements.txt (line 1)) (0.16.0)\n",
      "Collecting google-auth-oauthlib<0.5,>=0.4.1 (from tensorboard<2.1.0,>=2.0.0->tensorflow>=1.12.0->-r requirements.txt (line 1))\n",
      "  WARNING: Url '/whl' is ignored. It is either a non-existing path or lacks a specific scheme.\n",
      "Downloading https://files.pythonhosted.org/packages/7b/b8/88def36e74bee9fce511c9519571f4e485e890093ab7442284f4ffaef60b/google_auth_oauthlib-0.4.1-py2.py3-none-any.whl\n",
      "Collecting google-auth<2,>=1.6.3 (from tensorboard<2.1.0,>=2.0.0->tensorflow>=1.12.0->-r requirements.txt (line 1))\n",
      "  WARNING: Url '/whl' is ignored. It is either a non-existing path or lacks a specific scheme.\n",
      "Downloading https://files.pythonhosted.org/packages/7b/cb/786dc53d93494784935a62947643b48250b84a882474e714f9af5e1a1928/google_auth-1.7.1-py2.py3-none-any.whl (74kB)\n",
      "Collecting h5py (from keras-applications>=1.0.8->tensorflow>=1.12.0->-r requirements.txt (line 1))\n",
      "  WARNING: Url '/whl' is ignored. It is either a non-existing path or lacks a specific scheme.\n",
      "Downloading https://files.pythonhosted.org/packages/3f/c0/abde58b837e066bca19a3f7332d9d0493521d7dd6b48248451a9e3fe2214/h5py-2.10.0-cp37-cp37m-manylinux1_x86_64.whl (2.9MB)\n",
      "Collecting requests-oauthlib>=0.7.0 (from google-auth-oauthlib<0.5,>=0.4.1->tensorboard<2.1.0,>=2.0.0->tensorflow>=1.12.0->-r requirements.txt (line 1))\n",
      "  WARNING: Url '/whl' is ignored. It is either a non-existing path or lacks a specific scheme.\n",
      "Downloading https://files.pythonhosted.org/packages/a3/12/b92740d845ab62ea4edf04d2f4164d82532b5a0b03836d4d4e71c6f3d379/requests_oauthlib-1.3.0-py2.py3-none-any.whl\n",
      "Collecting cachetools<3.2,>=2.0.0 (from google-auth<2,>=1.6.3->tensorboard<2.1.0,>=2.0.0->tensorflow>=1.12.0->-r requirements.txt (line 1))\n",
      "  WARNING: Url '/whl' is ignored. It is either a non-existing path or lacks a specific scheme.\n",
      "Downloading https://files.pythonhosted.org/packages/2f/a6/30b0a0bef12283e83e58c1d6e7b5aabc7acfc4110df81a4471655d33e704/cachetools-3.1.1-py2.py3-none-any.whl\n",
      "Collecting rsa<4.1,>=3.1.4 (from google-auth<2,>=1.6.3->tensorboard<2.1.0,>=2.0.0->tensorflow>=1.12.0->-r requirements.txt (line 1))\n",
      "  WARNING: Url '/whl' is ignored. It is either a non-existing path or lacks a specific scheme.\n",
      "Downloading https://files.pythonhosted.org/packages/02/e5/38518af393f7c214357079ce67a317307936896e961e35450b70fad2a9cf/rsa-4.0-py2.py3-none-any.whl\n",
      "Collecting pyasn1-modules>=0.2.1 (from google-auth<2,>=1.6.3->tensorboard<2.1.0,>=2.0.0->tensorflow>=1.12.0->-r requirements.txt (line 1))\n",
      "  WARNING: Url '/whl' is ignored. It is either a non-existing path or lacks a specific scheme.\n",
      "Downloading https://files.pythonhosted.org/packages/52/50/bb4cefca37da63a0c52218ba2cb1b1c36110d84dcbae8aa48cd67c5e95c2/pyasn1_modules-0.2.7-py2.py3-none-any.whl (131kB)\n"
     ]
    },
    {
     "name": "stdout",
     "output_type": "stream",
     "text": [
      "Collecting oauthlib>=3.0.0 (from requests-oauthlib>=0.7.0->google-auth-oauthlib<0.5,>=0.4.1->tensorboard<2.1.0,>=2.0.0->tensorflow>=1.12.0->-r requirements.txt (line 1))\n",
      "  WARNING: Url '/whl' is ignored. It is either a non-existing path or lacks a specific scheme.\n",
      "Downloading https://files.pythonhosted.org/packages/05/57/ce2e7a8fa7c0afb54a0581b14a65b56e62b5759dbc98e80627142b8a3704/oauthlib-3.1.0-py2.py3-none-any.whl (147kB)\n",
      "Requirement already satisfied: requests>=2.0.0 in /usr/local/lib/python3.7/site-packages (from requests-oauthlib>=0.7.0->google-auth-oauthlib<0.5,>=0.4.1->tensorboard<2.1.0,>=2.0.0->tensorflow>=1.12.0->-r requirements.txt (line 1)) (2.22.0)\n",
      "Collecting pyasn1>=0.1.3 (from rsa<4.1,>=3.1.4->google-auth<2,>=1.6.3->tensorboard<2.1.0,>=2.0.0->tensorflow>=1.12.0->-r requirements.txt (line 1))\n",
      "  WARNING: Url '/whl' is ignored. It is either a non-existing path or lacks a specific scheme.\n",
      "Downloading https://files.pythonhosted.org/packages/62/1e/a94a8d635fa3ce4cfc7f506003548d0a2447ae76fd5ca53932970fe3053f/pyasn1-0.4.8-py2.py3-none-any.whl (77kB)\n",
      "Requirement already satisfied: idna<2.9,>=2.5 in /usr/local/lib/python3.7/site-packages (from requests>=2.0.0->requests-oauthlib>=0.7.0->google-auth-oauthlib<0.5,>=0.4.1->tensorboard<2.1.0,>=2.0.0->tensorflow>=1.12.0->-r requirements.txt (line 1)) (2.8)\n",
      "Requirement already satisfied: urllib3!=1.25.0,!=1.25.1,<1.26,>=1.21.1 in /usr/local/lib/python3.7/site-packages (from requests>=2.0.0->requests-oauthlib>=0.7.0->google-auth-oauthlib<0.5,>=0.4.1->tensorboard<2.1.0,>=2.0.0->tensorflow>=1.12.0->-r requirements.txt (line 1)) (1.25.6)\n",
      "Requirement already satisfied: chardet<3.1.0,>=3.0.2 in /usr/local/lib/python3.7/site-packages (from requests>=2.0.0->requests-oauthlib>=0.7.0->google-auth-oauthlib<0.5,>=0.4.1->tensorboard<2.1.0,>=2.0.0->tensorflow>=1.12.0->-r requirements.txt (line 1)) (3.0.4)\n",
      "Requirement already satisfied: certifi>=2017.4.17 in /usr/local/lib/python3.7/site-packages (from requests>=2.0.0->requests-oauthlib>=0.7.0->google-auth-oauthlib<0.5,>=0.4.1->tensorboard<2.1.0,>=2.0.0->tensorflow>=1.12.0->-r requirements.txt (line 1)) (2019.9.11)\n",
      "Building wheels for collected packages: termcolor, wrapt, absl-py, gast, opt-einsum\n",
      "Building wheel for termcolor (setup.py): started\n",
      "Building wheel for termcolor (setup.py): finished with status 'done'\n",
      "Stored in directory: /root/.cache/pip/wheels/7c/06/54/bc84598ba1daf8f970247f550b175aaaee85f68b4b0c5ab2c6\n",
      "Building wheel for wrapt (setup.py): started\n",
      "Building wheel for wrapt (setup.py): finished with status 'done'\n",
      "Stored in directory: /root/.cache/pip/wheels/d7/de/2e/efa132238792efb6459a96e85916ef8597fcb3d2ae51590dfd\n",
      "Building wheel for absl-py (setup.py): started\n",
      "Building wheel for absl-py (setup.py): finished with status 'done'\n",
      "Stored in directory: /root/.cache/pip/wheels/a7/15/a0/0a0561549ad11cdc1bc8fa1191a353efd30facf6bfb507aefc\n",
      "Building wheel for gast (setup.py): started\n",
      "Building wheel for gast (setup.py): finished with status 'done'\n",
      "Stored in directory: /root/.cache/pip/wheels/5c/2e/7e/a1d4d4fcebe6c381f378ce7743a3ced3699feb89bcfbdadadd\n",
      "Building wheel for opt-einsum (setup.py): started\n",
      "Building wheel for opt-einsum (setup.py): finished with status 'done'\n",
      "Stored in directory: /root/.cache/pip/wheels/2c/b1/94/43d03e130b929aae7ba3f8d15cbd7bc0d1cb5bb38a5c721833\n",
      "Successfully built termcolor wrapt absl-py gast opt-einsum\n",
      "Installing collected packages: tensorflow-estimator, google-pasta, termcolor, wrapt, absl-py, gast, markdown, oauthlib, requests-oauthlib, cachetools, pyasn1, rsa, pyasn1-modules, google-auth, google-auth-oauthlib, tensorboard, h5py, keras-applications, opt-einsum, keras-preprocessing, astor, tensorflow\n",
      "Successfully installed absl-py-0.8.1 astor-0.8.0 cachetools-3.1.1 gast-0.2.2 google-auth-1.7.1 google-auth-oauthlib-0.4.1 google-pasta-0.1.8 h5py-2.10.0 keras-applications-1.0.8 keras-preprocessing-1.1.0 markdown-3.1.1 oauthlib-3.1.0 opt-einsum-3.1.0 pyasn1-0.4.8 pyasn1-modules-0.2.7 requests-oauthlib-1.3.0 rsa-4.0 tensorboard-2.0.1 tensorflow-2.0.0 tensorflow-estimator-2.0.1 termcolor-1.1.0 wrapt-1.11.2\n",
      "WARNING: Url '/whl' is ignored. It is either a non-existing path or lacks a specific scheme.\n",
      "WARNING: You are using pip version 19.1.1, however version 19.3.1 is available.\n",
      "You should consider upgrading via the 'pip install --upgrade pip' command.\n",
      "Build completed successfully\n"
     ]
    }
   ],
   "source": [
    "!s2i build . seldonio/seldon-core-s2i-python37:0.13 deep-mnist:0.1"
   ]
  },
  {
   "cell_type": "code",
   "execution_count": 3,
   "metadata": {},
   "outputs": [
    {
     "name": "stdout",
     "output_type": "stream",
     "text": [
      "67e96129d9f949157db068c202edb8e91de2b1a46444172311b329416bb0385d\r\n"
     ]
    }
   ],
   "source": [
    "!docker run --name \"mnist_predictor\" -d --rm -p 5000:5000 deep-mnist:0.1"
   ]
  },
  {
   "cell_type": "markdown",
   "metadata": {},
   "source": [
    "Send some random features that conform to the contract"
   ]
  },
  {
   "cell_type": "code",
   "execution_count": 4,
   "metadata": {},
   "outputs": [
    {
     "name": "stdout",
     "output_type": "stream",
     "text": [
      "----------------------------------------\r\n",
      "SENDING NEW REQUEST:\r\n",
      "\r\n",
      "[[0.097 0.488 0.26  0.36  0.435 0.363 0.167 0.914 0.241 0.155 0.175 0.128\r\n",
      "  0.539 0.681 0.821 0.34  0.09  0.914 0.569 0.177 0.836 0.059 0.706 0.354\r\n",
      "  0.882 0.25  0.349 0.059 0.109 0.691 0.452 0.673 0.961 0.133 0.216 0.629\r\n",
      "  0.275 0.159 0.758 0.74  0.545 0.124 0.891 0.72  0.162 0.244 0.435 0.351\r\n",
      "  0.945 0.443 0.41  0.618 0.635 0.293 0.165 0.066 0.35  0.564 0.335 0.292\r\n",
      "  0.744 0.517 0.663 0.784 0.35  0.322 0.501 0.31  0.146 0.238 0.482 0.878\r\n",
      "  0.015 0.655 0.966 0.256 0.092 0.878 0.105 0.601 0.64  0.929 0.605 0.391\r\n",
      "  0.249 0.158 0.004 0.973 0.743 0.054 0.05  0.65  0.061 0.338 0.342 0.505\r\n",
      "  0.757 0.223 0.732 0.751 0.356 0.199 0.274 0.348 0.839 0.61  0.119 0.619\r\n",
      "  0.401 0.969 0.147 0.123 0.663 0.658 0.37  0.842 0.988 0.1   0.272 0.126\r\n",
      "  0.815 0.826 0.742 0.472 0.317 0.109 0.258 0.183 0.396 0.475 0.645 0.284\r\n",
      "  0.973 0.967 0.519 0.938 0.499 0.45  0.198 0.987 0.75  0.515 0.703 0.754\r\n",
      "  0.875 0.655 0.039 0.921 0.951 0.361 0.268 0.794 0.436 0.422 0.979 0.761\r\n",
      "  0.976 0.974 0.724 0.952 0.697 0.906 0.897 0.226 0.686 0.193 0.641 0.584\r\n",
      "  0.269 0.131 0.365 0.715 0.829 0.998 0.896 0.204 0.005 0.009 0.722 0.989\r\n",
      "  0.77  0.968 0.124 0.607 0.448 0.641 0.594 0.799 0.767 0.272 0.311 0.081\r\n",
      "  0.022 0.087 0.641 0.113 0.402 0.901 0.428 0.403 0.99  0.371 0.3   0.21\r\n",
      "  0.064 0.857 0.75  0.245 0.081 0.595 0.002 0.734 0.907 0.501 0.438 0.699\r\n",
      "  0.788 0.609 0.552 0.265 0.783 0.957 0.941 0.56  0.063 0.56  0.973 0.739\r\n",
      "  0.471 0.816 0.73  0.252 0.822 0.977 0.872 0.986 0.393 0.795 0.738 0.616\r\n",
      "  0.267 0.595 0.353 0.828 0.971 0.782 0.241 0.427 0.743 0.674 0.336 0.627\r\n",
      "  0.326 0.55  0.873 0.716 0.734 0.844 0.191 0.771 0.061 0.098 0.965 0.217\r\n",
      "  0.65  0.002 0.479 0.538 0.082 0.08  0.98  0.648 0.239 0.485 0.974 0.537\r\n",
      "  0.713 0.585 0.021 0.804 0.655 0.618 0.093 0.623 0.395 0.99  0.763 0.563\r\n",
      "  0.822 0.508 0.299 0.892 0.398 0.743 0.079 0.97  0.388 0.826 0.358 0.124\r\n",
      "  0.756 0.296 0.478 0.215 0.125 0.364 0.681 0.364 0.631 0.498 0.302 0.894\r\n",
      "  0.279 0.918 0.05  0.391 1.    0.661 0.994 0.22  0.914 0.079 0.063 0.089\r\n",
      "  0.875 0.398 0.937 0.898 0.668 0.968 0.152 0.422 0.742 0.812 0.823 0.264\r\n",
      "  0.348 0.69  0.116 0.268 0.414 0.005 0.424 0.901 0.969 0.295 0.046 0.129\r\n",
      "  0.389 0.454 0.945 0.427 0.459 0.388 0.067 0.323 0.628 0.76  0.1   0.816\r\n",
      "  0.922 0.537 0.324 0.942 0.261 0.201 0.273 0.388 0.453 0.957 0.976 0.703\r\n",
      "  0.736 0.482 0.116 0.658 0.936 0.767 0.641 0.011 0.546 0.76  0.031 0.952\r\n",
      "  0.945 0.834 0.374 0.378 0.396 0.985 0.719 0.498 0.303 0.162 0.818 0.234\r\n",
      "  0.765 0.632 0.594 0.963 0.591 0.454 0.498 0.65  0.099 0.155 0.113 0.782\r\n",
      "  0.095 0.557 0.735 0.923 0.062 0.704 0.6   0.838 0.212 0.462 0.882 0.206\r\n",
      "  0.983 0.111 0.136 0.105 0.967 0.384 0.02  0.883 0.341 0.481 0.001 0.478\r\n",
      "  0.085 0.158 0.564 0.105 0.726 0.861 0.628 0.657 0.298 0.751 0.235 0.642\r\n",
      "  0.299 0.921 0.356 0.81  0.504 0.277 0.513 0.91  0.713 0.328 0.963 0.926\r\n",
      "  0.82  0.979 0.161 0.691 0.564 0.554 0.03  0.212 0.53  0.982 0.359 0.177\r\n",
      "  0.07  0.204 0.277 0.239 0.936 0.956 0.108 0.664 0.924 0.665 0.328 0.604\r\n",
      "  0.067 0.258 0.216 0.273 0.777 0.55  0.396 0.481 0.116 0.077 0.619 0.919\r\n",
      "  0.27  0.879 0.973 0.003 0.322 0.43  0.895 0.739 0.739 0.484 0.729 0.01\r\n",
      "  0.315 0.72  0.873 0.215 0.313 0.62  0.712 0.376 0.224 0.597 0.229 0.227\r\n",
      "  0.173 0.596 0.012 0.466 0.569 0.508 0.93  0.578 0.743 0.508 0.86  0.08\r\n",
      "  0.783 0.29  0.68  0.75  0.263 0.366 0.177 0.406 0.682 0.134 0.876 0.41\r\n",
      "  0.301 0.924 0.644 0.94  0.38  0.131 0.243 0.204 0.802 0.047 0.258 0.449\r\n",
      "  0.541 0.099 0.743 0.219 0.393 0.399 0.087 0.387 0.38  0.232 0.311 0.769\r\n",
      "  0.47  0.805 0.832 0.157 0.117 0.383 0.775 0.024 0.049 0.363 0.887 0.001\r\n",
      "  0.214 0.313 0.34  0.179 0.037 0.733 0.091 0.963 0.255 0.707 0.196 0.731\r\n",
      "  0.724 0.952 0.626 0.35  0.357 0.275 0.057 0.249 0.612 0.933 0.498 0.73\r\n",
      "  0.616 0.627 0.664 0.75  0.777 0.685 0.748 0.568 0.643 0.312 0.486 0.689\r\n",
      "  0.505 0.74  0.227 0.68  0.888 0.543 0.252 0.572 0.068 0.596 0.29  0.282\r\n",
      "  0.645 0.064 0.957 0.172 0.858 0.239 0.513 0.905 0.125 0.17  0.252 0.994\r\n",
      "  0.861 0.51  0.649 0.743 0.924 0.655 0.6   0.339 0.747 0.655 0.875 0.124\r\n",
      "  0.595 0.458 0.69  0.697 0.72  0.337 0.573 0.818 0.683 0.246 0.865 0.015\r\n",
      "  0.443 0.766 0.394 0.624 0.983 0.329 0.162 0.622 0.125 0.386 0.772 0.865\r\n",
      "  0.625 0.88  0.351 0.5   0.231 0.732 0.287 0.71  0.316 0.841 0.303 0.222\r\n",
      "  0.174 0.176 0.498 0.318 0.653 0.239 0.415 0.545 0.086 0.834 0.963 0.73\r\n",
      "  0.711 0.573 0.621 0.85  0.646 0.616 0.135 0.507 0.363 0.562 0.924 0.205\r\n",
      "  0.657 0.866 0.316 0.65  0.706 0.026 0.484 0.73  0.977 0.887 0.077 0.791\r\n",
      "  0.815 0.115 0.406 0.795 0.445 0.725 0.311 0.547 0.03  0.719 0.683 0.825\r\n",
      "  0.558 0.85  0.538 0.675 0.772 0.651 0.318 0.372 0.627 0.734 0.212 0.165\r\n",
      "  0.565 0.601 0.093 0.182 0.455 0.926 0.356 0.004 0.465 0.383 0.893 0.833\r\n",
      "  0.409 0.635 0.482 0.049 0.478 0.243 0.992 0.623 0.445 0.553 0.728 0.565\r\n",
      "  0.592 0.902 0.747 0.449 0.103 0.252 0.501 0.673 0.562 0.784 0.152 0.776\r\n",
      "  0.475 0.298 0.055 0.816]]\r\n",
      "RECEIVED RESPONSE:\r\n",
      "None\r\n",
      "\r\n"
     ]
    }
   ],
   "source": [
    "!seldon-core-tester contract.json 0.0.0.0 5000 -p"
   ]
  },
  {
   "cell_type": "code",
   "execution_count": 5,
   "metadata": {},
   "outputs": [
    {
     "name": "stdout",
     "output_type": "stream",
     "text": [
      "mnist_predictor\r\n"
     ]
    }
   ],
   "source": [
    "!docker rm mnist_predictor --force"
   ]
  },
  {
   "cell_type": "markdown",
   "metadata": {},
   "source": [
    "## Test using Minikube\n",
    "\n",
    "**Due to a [minikube/s2i issue](https://github.com/SeldonIO/seldon-core/issues/253) you will need [s2i >= 1.1.13](https://github.com/openshift/source-to-image/releases/tag/v1.1.13)**"
   ]
  },
  {
   "cell_type": "code",
   "execution_count": 6,
   "metadata": {},
   "outputs": [
    {
     "name": "stdout",
     "output_type": "stream",
     "text": [
      "😄  minikube v0.34.1 on linux (amd64)\n",
      "🔥  Creating virtualbox VM (CPUs=2, Memory=4096MB, Disk=20000MB) ...\n",
      "📶  \"minikube\" IP address is 192.168.99.100\n",
      "🐳  Configuring Docker as the container runtime ...\n",
      "✨  Preparing Kubernetes environment ...\n",
      "🚜  Pulling images required by Kubernetes v1.13.3 ...\n",
      "🚀  Launching Kubernetes v1.13.3 using kubeadm ... \n",
      "🔑  Configuring cluster permissions ...\n",
      "🤔  Verifying component health .....\n",
      "💗  kubectl is now configured to use \"minikube\"\n",
      "🏄  Done! Thank you for using minikube!\n"
     ]
    }
   ],
   "source": [
    "!minikube start --memory 4096"
   ]
  },
  {
   "cell_type": "code",
   "execution_count": 1,
   "metadata": {},
   "outputs": [
    {
     "name": "stdout",
     "output_type": "stream",
     "text": [
      "clusterrolebinding.rbac.authorization.k8s.io/kube-system-cluster-admin created\r\n"
     ]
    }
   ],
   "source": [
    "!kubectl create clusterrolebinding kube-system-cluster-admin --clusterrole=cluster-admin --serviceaccount=~kube-system:default"
   ]
  },
  {
   "cell_type": "code",
   "execution_count": 2,
   "metadata": {},
   "outputs": [
    {
     "name": "stdout",
     "output_type": "stream",
     "text": [
      "$HELM_HOME has been configured at /home/joel/.helm.\n",
      "\n",
      "Tiller (the Helm server-side component) has been installed into your Kubernetes Cluster.\n",
      "\n",
      "Please note: by default, Tiller is deployed with an insecure 'allow unauthenticated users' policy.\n",
      "To prevent this, run `helm init` with the --tiller-tls-verify flag.\n",
      "For more information on securing your installation see: https://docs.helm.sh/using_helm/#securing-your-helm-installation\n"
     ]
    }
   ],
   "source": [
    "!helm init"
   ]
  },
  {
   "cell_type": "code",
   "execution_count": 3,
   "metadata": {},
   "outputs": [
    {
     "name": "stdout",
     "output_type": "stream",
     "text": [
      "deployment \"tiller-deploy\" successfully rolled out\r\n"
     ]
    }
   ],
   "source": [
    "!kubectl rollout status deploy/tiller-deploy -n kube-system"
   ]
  },
  {
   "cell_type": "code",
   "execution_count": 4,
   "metadata": {},
   "outputs": [
    {
     "name": "stdout",
     "output_type": "stream",
     "text": [
      "NAME:   seldon-core\n",
      "LAST DEPLOYED: Thu Nov 28 12:08:16 2019\n",
      "NAMESPACE: seldon-system\n",
      "STATUS: DEPLOYED\n",
      "\n",
      "RESOURCES:\n",
      "==> v1/ClusterRole\n",
      "NAME                     AGE\n",
      "seldon-manager-css-role  1s\n",
      "seldon-manager-role      1s\n",
      "seldon-manager-sas-role  1s\n",
      "seldon-proxy-role        1s\n",
      "\n",
      "==> v1/ClusterRoleBinding\n",
      "NAME                            AGE\n",
      "seldon-manager-css-rolebinding  1s\n",
      "seldon-manager-rolebinding      1s\n",
      "seldon-manager-sas-rolebinding  1s\n",
      "seldon-proxy-rolebinding        1s\n",
      "\n",
      "==> v1/ConfigMap\n",
      "NAME                     DATA  AGE\n",
      "seldon-config            2     1s\n",
      "seldon-spartakus-config  1     1s\n",
      "\n",
      "==> v1/Deployment\n",
      "NAME                        READY  UP-TO-DATE  AVAILABLE  AGE\n",
      "seldon-controller-manager   0/1    1           0          1s\n",
      "seldon-spartakus-volunteer  0/1    1           0          1s\n",
      "\n",
      "==> v1/Pod(related)\n",
      "NAME                                         READY  STATUS             RESTARTS  AGE\n",
      "seldon-controller-manager-88bdbc885-dqkdm    0/1    ContainerCreating  0         1s\n",
      "seldon-spartakus-volunteer-7d6dd98f89-ckflq  0/1    ContainerCreating  0         1s\n",
      "\n",
      "==> v1/Role\n",
      "NAME                         AGE\n",
      "seldon-leader-election-role  1s\n",
      "seldon-manager-cm-role       1s\n",
      "\n",
      "==> v1/RoleBinding\n",
      "NAME                                AGE\n",
      "seldon-leader-election-rolebinding  1s\n",
      "seldon-manager-cm-rolebinding       1s\n",
      "\n",
      "==> v1/Secret\n",
      "NAME                        TYPE               DATA  AGE\n",
      "seldon-webhook-server-cert  kubernetes.io/tls  3     1s\n",
      "\n",
      "==> v1/Service\n",
      "NAME                                       TYPE       CLUSTER-IP    EXTERNAL-IP  PORT(S)   AGE\n",
      "seldon-controller-manager-metrics-service  ClusterIP  10.106.68.63  <none>       8443/TCP  1s\n",
      "seldon-webhook-service                     ClusterIP  10.110.34.19  <none>       443/TCP   1s\n",
      "\n",
      "==> v1/ServiceAccount\n",
      "NAME                        SECRETS  AGE\n",
      "seldon-manager              1        1s\n",
      "seldon-spartakus-volunteer  1        1s\n",
      "\n",
      "==> v1beta1/ClusterRole\n",
      "NAME                        AGE\n",
      "seldon-spartakus-volunteer  1s\n",
      "\n",
      "==> v1beta1/ClusterRoleBinding\n",
      "NAME                        AGE\n",
      "seldon-spartakus-volunteer  1s\n",
      "\n",
      "==> v1beta1/CustomResourceDefinition\n",
      "NAME                                         AGE\n",
      "seldondeployments.machinelearning.seldon.io  1s\n",
      "\n",
      "==> v1beta1/MutatingWebhookConfiguration\n",
      "NAME                                   AGE\n",
      "seldon-mutating-webhook-configuration  1s\n",
      "\n",
      "==> v1beta1/ValidatingWebhookConfiguration\n",
      "NAME                                     AGE\n",
      "seldon-validating-webhook-configuration  1s\n",
      "\n",
      "\n"
     ]
    }
   ],
   "source": [
    "!helm install ../../../helm-charts/seldon-core-operator --name seldon-core --set usageMetrics.enabled=true   --namespace seldon-system"
   ]
  },
  {
   "cell_type": "code",
   "execution_count": 5,
   "metadata": {},
   "outputs": [
    {
     "name": "stdout",
     "output_type": "stream",
     "text": [
      "Waiting for deployment \"seldon-controller-manager\" rollout to finish: 0 of 1 updated replicas are available...\n",
      "deployment \"seldon-controller-manager\" successfully rolled out\n"
     ]
    }
   ],
   "source": [
    "!kubectl rollout status deploy/seldon-controller-manager -n seldon-system"
   ]
  },
  {
   "cell_type": "markdown",
   "metadata": {},
   "source": [
    "## Setup Ingress\n",
    "Please note: There are reported gRPC issues with ambassador (see https://github.com/SeldonIO/seldon-core/issues/473)."
   ]
  },
  {
   "cell_type": "code",
   "execution_count": 6,
   "metadata": {},
   "outputs": [
    {
     "name": "stdout",
     "output_type": "stream",
     "text": [
      "NAME:   ambassador\n",
      "LAST DEPLOYED: Thu Nov 28 12:08:32 2019\n",
      "NAMESPACE: default\n",
      "STATUS: DEPLOYED\n",
      "\n",
      "RESOURCES:\n",
      "==> v1/Deployment\n",
      "NAME        READY  UP-TO-DATE  AVAILABLE  AGE\n",
      "ambassador  0/3    3           0          0s\n",
      "\n",
      "==> v1/Pod(related)\n",
      "NAME                         READY  STATUS             RESTARTS  AGE\n",
      "ambassador-77f944f86f-dqk9l  0/1    ContainerCreating  0         0s\n",
      "ambassador-77f944f86f-gjfls  0/1    ContainerCreating  0         0s\n",
      "ambassador-77f944f86f-qlbtr  0/1    ContainerCreating  0         0s\n",
      "\n",
      "==> v1/Service\n",
      "NAME              TYPE          CLUSTER-IP      EXTERNAL-IP  PORT(S)                     AGE\n",
      "ambassador        LoadBalancer  10.101.184.250  <pending>    80:30587/TCP,443:32046/TCP  0s\n",
      "ambassador-admin  ClusterIP     10.104.170.192  <none>       8877/TCP                    0s\n",
      "\n",
      "==> v1/ServiceAccount\n",
      "NAME        SECRETS  AGE\n",
      "ambassador  1        0s\n",
      "\n",
      "==> v1beta1/ClusterRole\n",
      "NAME             AGE\n",
      "ambassador       0s\n",
      "ambassador-crds  0s\n",
      "\n",
      "==> v1beta1/ClusterRoleBinding\n",
      "NAME             AGE\n",
      "ambassador       0s\n",
      "ambassador-crds  0s\n",
      "\n",
      "\n",
      "NOTES:\n",
      "Congratulations! You've successfully installed Ambassador.\n",
      "\n",
      "For help, visit our Slack at https://d6e.co/slack or view the documentation online at https://www.getambassador.io.\n",
      "\n",
      "To get the IP address of Ambassador, run the following commands:\n",
      "NOTE: It may take a few minutes for the LoadBalancer IP to be available.\n",
      "     You can watch the status of by running 'kubectl get svc -w  --namespace default ambassador'\n",
      "\n",
      "  On GKE/Azure:\n",
      "  export SERVICE_IP=$(kubectl get svc --namespace default ambassador -o jsonpath='{.status.loadBalancer.ingress[0].ip}')\n",
      "\n",
      "  On AWS:\n",
      "  export SERVICE_IP=$(kubectl get svc --namespace default ambassador -o jsonpath='{.status.loadBalancer.ingress[0].hostname}')\n",
      "\n",
      "  echo http://$SERVICE_IP:\n",
      "\n"
     ]
    }
   ],
   "source": [
    "!helm install stable/ambassador --name ambassador --set crds.keep=false"
   ]
  },
  {
   "cell_type": "code",
   "execution_count": 7,
   "metadata": {},
   "outputs": [
    {
     "name": "stdout",
     "output_type": "stream",
     "text": [
      "Waiting for deployment \"ambassador\" rollout to finish: 0 of 3 updated replicas are available...\n",
      "Waiting for deployment \"ambassador\" rollout to finish: 1 of 3 updated replicas are available...\n",
      "Waiting for deployment \"ambassador\" rollout to finish: 2 of 3 updated replicas are available...\n",
      "deployment \"ambassador\" successfully rolled out\n"
     ]
    }
   ],
   "source": [
    "!kubectl rollout status deployment.apps/ambassador"
   ]
  },
  {
   "cell_type": "markdown",
   "metadata": {},
   "source": [
    "## Wrap Model and Test"
   ]
  },
  {
   "cell_type": "code",
   "execution_count": 14,
   "metadata": {},
   "outputs": [
    {
     "name": "stdout",
     "output_type": "stream",
     "text": [
      "---> Installing application source...\n",
      "---> Installing dependencies ...\n",
      "Looking in links: /whl\n",
      "Requirement already satisfied: tensorflow>=1.12.0 in /usr/local/lib/python3.7/site-packages (from -r requirements.txt (line 1)) (1.14.0)\n",
      "Requirement already satisfied: astor>=0.6.0 in /usr/local/lib/python3.7/site-packages (from tensorflow>=1.12.0->-r requirements.txt (line 1)) (0.8.0)\n",
      "Requirement already satisfied: termcolor>=1.1.0 in /usr/local/lib/python3.7/site-packages (from tensorflow>=1.12.0->-r requirements.txt (line 1)) (1.1.0)\n",
      "Requirement already satisfied: absl-py>=0.7.0 in /usr/local/lib/python3.7/site-packages (from tensorflow>=1.12.0->-r requirements.txt (line 1)) (0.7.1)\n",
      "Requirement already satisfied: keras-preprocessing>=1.0.5 in /usr/local/lib/python3.7/site-packages (from tensorflow>=1.12.0->-r requirements.txt (line 1)) (1.1.0)\n",
      "Requirement already satisfied: gast>=0.2.0 in /usr/local/lib/python3.7/site-packages (from tensorflow>=1.12.0->-r requirements.txt (line 1)) (0.2.2)\n",
      "Requirement already satisfied: wrapt>=1.11.1 in /usr/local/lib/python3.7/site-packages (from tensorflow>=1.12.0->-r requirements.txt (line 1)) (1.11.2)\n",
      "Requirement already satisfied: keras-applications>=1.0.6 in /usr/local/lib/python3.7/site-packages (from tensorflow>=1.12.0->-r requirements.txt (line 1)) (1.0.8)\n",
      "Requirement already satisfied: numpy<2.0,>=1.14.5 in /usr/local/lib/python3.7/site-packages (from tensorflow>=1.12.0->-r requirements.txt (line 1)) (1.17.0)\n",
      "Requirement already satisfied: protobuf>=3.6.1 in /usr/local/lib/python3.7/site-packages (from tensorflow>=1.12.0->-r requirements.txt (line 1)) (3.9.1)\n",
      "Requirement already satisfied: tensorboard<1.15.0,>=1.14.0 in /usr/local/lib/python3.7/site-packages (from tensorflow>=1.12.0->-r requirements.txt (line 1)) (1.14.0)\n",
      "Requirement already satisfied: wheel>=0.26 in /usr/local/lib/python3.7/site-packages (from tensorflow>=1.12.0->-r requirements.txt (line 1)) (0.33.4)\n",
      "Requirement already satisfied: tensorflow-estimator<1.15.0rc0,>=1.14.0rc0 in /usr/local/lib/python3.7/site-packages (from tensorflow>=1.12.0->-r requirements.txt (line 1)) (1.14.0)\n",
      "Requirement already satisfied: six>=1.10.0 in /usr/local/lib/python3.7/site-packages (from tensorflow>=1.12.0->-r requirements.txt (line 1)) (1.12.0)\n",
      "Requirement already satisfied: google-pasta>=0.1.6 in /usr/local/lib/python3.7/site-packages (from tensorflow>=1.12.0->-r requirements.txt (line 1)) (0.1.7)\n",
      "Requirement already satisfied: grpcio>=1.8.6 in /usr/local/lib/python3.7/site-packages (from tensorflow>=1.12.0->-r requirements.txt (line 1)) (1.22.0)\n",
      "Requirement already satisfied: h5py in /usr/local/lib/python3.7/site-packages (from keras-applications>=1.0.6->tensorflow>=1.12.0->-r requirements.txt (line 1)) (2.9.0)\n",
      "Requirement already satisfied: setuptools in /usr/local/lib/python3.7/site-packages (from protobuf>=3.6.1->tensorflow>=1.12.0->-r requirements.txt (line 1)) (41.0.1)\n",
      "Requirement already satisfied: markdown>=2.6.8 in /usr/local/lib/python3.7/site-packages (from tensorboard<1.15.0,>=1.14.0->tensorflow>=1.12.0->-r requirements.txt (line 1)) (3.1.1)\n",
      "Requirement already satisfied: werkzeug>=0.11.15 in /usr/local/lib/python3.7/site-packages (from tensorboard<1.15.0,>=1.14.0->tensorflow>=1.12.0->-r requirements.txt (line 1)) (0.15.5)\n",
      "Build completed successfully\n"
     ]
    }
   ],
   "source": [
    "!eval $(minikube docker-env) && s2i build . seldonio/seldon-core-s2i-python37:0.13 deep-mnist:0.1"
   ]
  },
  {
   "cell_type": "code",
   "execution_count": 15,
   "metadata": {},
   "outputs": [
    {
     "name": "stdout",
     "output_type": "stream",
     "text": [
      "seldondeployment.machinelearning.seldon.io/deep-mnist created\r\n"
     ]
    }
   ],
   "source": [
    "!kubectl create -f deep_mnist.json"
   ]
  },
  {
   "cell_type": "code",
   "execution_count": 16,
   "metadata": {},
   "outputs": [
    {
     "name": "stdout",
     "output_type": "stream",
     "text": [
      "Waiting for deployment \"deep-mnist-single-model-8969cc0\" rollout to finish: 0 of 1 updated replicas are available...\n",
      "deployment \"deep-mnist-single-model-8969cc0\" successfully rolled out\n"
     ]
    }
   ],
   "source": [
    "!kubectl rollout status deploy/deep-mnist-single-model-8969cc0"
   ]
  },
  {
   "cell_type": "code",
   "execution_count": 17,
   "metadata": {},
   "outputs": [
    {
     "name": "stdout",
     "output_type": "stream",
     "text": [
      "----------------------------------------\n",
      "SENDING NEW REQUEST:\n",
      "\n",
      "[[0.891 0.499 0.792 0.386 0.739 0.092 0.986 0.789 0.758 0.109 0.267 0.834\n",
      "  0.542 0.025 0.02  0.16  0.6   0.324 0.71  0.515 0.346 0.943 0.109 0.455\n",
      "  0.243 0.023 0.901 0.465 0.249 0.442 0.8   0.875 0.772 0.588 0.995 0.578\n",
      "  0.254 0.461 0.885 0.068 0.157 0.489 0.486 0.951 0.123 0.052 0.72  0.515\n",
      "  0.002 0.122 0.035 0.04  0.368 0.373 0.447 0.452 0.344 0.323 0.673 0.145\n",
      "  0.206 0.721 0.749 0.759 0.184 0.86  0.061 0.304 0.429 0.621 0.723 0.916\n",
      "  0.334 0.452 0.883 0.391 0.861 0.686 0.846 0.316 0.987 0.853 0.231 0.06\n",
      "  0.763 0.215 0.119 0.001 0.234 0.717 0.765 0.42  0.71  0.605 0.166 0.192\n",
      "  0.726 0.133 0.785 0.307 0.7   0.187 0.153 0.704 0.1   0.255 0.155 0.555\n",
      "  0.89  0.312 0.884 0.85  0.361 0.992 0.061 0.781 0.678 0.537 0.292 0.007\n",
      "  0.951 0.46  0.585 0.338 0.552 0.751 0.842 0.31  0.343 0.149 0.712 0.011\n",
      "  0.209 0.412 0.859 0.859 0.159 0.366 0.644 0.196 0.347 0.527 0.823 0.737\n",
      "  0.341 0.258 0.605 0.441 0.982 0.765 0.037 0.278 0.116 0.64  0.097 0.866\n",
      "  0.518 0.683 0.843 0.16  0.089 0.146 0.602 0.933 0.521 0.377 0.579 0.579\n",
      "  0.831 0.44  0.688 0.146 0.897 0.579 0.831 0.772 0.209 0.965 0.91  0.498\n",
      "  0.196 0.375 0.99  0.34  0.626 0.648 0.291 0.15  0.417 0.732 0.175 0.934\n",
      "  0.324 0.307 0.086 0.996 0.628 0.212 0.085 0.084 0.161 0.265 0.869 0.047\n",
      "  0.529 0.682 0.422 0.941 0.044 0.487 0.315 0.733 0.472 0.996 0.872 0.653\n",
      "  0.913 0.176 0.602 0.509 0.554 0.543 0.104 0.965 0.065 0.834 0.843 0.076\n",
      "  0.02  0.537 0.676 0.365 0.962 0.64  0.583 0.938 0.316 0.862 0.686 0.098\n",
      "  0.348 0.144 0.91  0.469 0.289 0.836 0.15  0.062 0.77  0.267 0.192 0.051\n",
      "  0.101 0.204 0.823 0.706 0.187 0.781 0.118 0.195 0.957 0.001 0.506 0.458\n",
      "  0.011 0.683 0.608 0.701 0.65  0.837 0.146 0.372 0.174 0.662 0.505 0.234\n",
      "  0.973 0.424 0.769 0.449 0.487 0.1   0.67  0.537 0.382 0.601 0.351 0.242\n",
      "  0.254 0.433 0.475 0.385 0.406 0.134 0.69  0.538 0.299 0.173 0.662 0.199\n",
      "  0.544 0.937 0.855 0.745 0.313 0.877 0.485 0.595 0.685 0.022 0.453 0.394\n",
      "  0.893 0.31  0.36  0.007 0.957 0.955 0.124 0.642 0.408 0.506 0.44  0.069\n",
      "  0.33  0.701 0.813 0.374 0.575 0.862 0.923 0.014 0.091 0.765 0.247 0.996\n",
      "  0.42  0.919 0.797 0.414 0.598 0.372 0.755 0.569 0.065 0.993 0.139 0.623\n",
      "  0.411 0.575 0.244 0.569 0.633 0.116 0.383 0.612 0.948 0.969 0.598 0.243\n",
      "  0.789 0.78  0.534 0.083 0.292 0.917 0.045 0.898 0.548 0.913 0.038 0.671\n",
      "  0.669 0.103 0.482 0.322 0.542 0.012 0.662 0.561 0.763 0.183 0.92  0.926\n",
      "  0.213 0.081 0.259 0.314 0.06  0.419 0.479 0.419 0.72  0.981 0.202 0.124\n",
      "  0.407 0.116 0.015 0.001 0.601 0.837 0.398 0.221 0.267 0.19  0.781 0.796\n",
      "  0.466 0.736 0.598 0.841 0.5   0.544 0.701 0.586 0.051 0.519 0.872 0.27\n",
      "  0.126 0.771 0.676 0.202 0.375 0.763 0.775 0.723 0.098 0.952 0.236 0.681\n",
      "  0.853 0.965 0.479 0.92  0.028 0.113 0.461 0.148 0.076 0.968 0.166 0.762\n",
      "  0.863 0.902 0.97  0.413 0.739 0.203 0.988 0.619 0.133 0.784 0.562 0.039\n",
      "  0.24  0.586 0.888 0.769 0.329 0.384 0.145 0.408 0.316 0.766 0.947 0.13\n",
      "  0.258 0.45  0.462 0.484 0.624 0.963 0.997 0.476 0.592 0.723 0.861 0.307\n",
      "  0.342 0.236 0.895 0.635 0.133 0.199 0.434 0.636 0.034 0.872 0.819 0.248\n",
      "  0.06  0.86  0.806 0.081 0.3   0.763 0.04  0.318 0.826 0.778 0.31  0.139\n",
      "  0.273 0.883 0.163 0.11  0.119 0.628 0.741 0.499 0.052 0.662 0.808 0.739\n",
      "  0.092 0.848 0.373 0.516 0.354 0.518 0.745 0.403 0.28  0.564 0.425 0.533\n",
      "  0.44  0.983 0.301 0.771 0.383 0.377 0.737 0.11  0.39  0.122 0.541 0.32\n",
      "  0.528 0.615 0.533 0.872 0.944 0.206 0.009 0.279 0.527 0.418 0.382 0.729\n",
      "  0.949 0.463 0.561 0.869 0.832 0.688 0.275 0.209 0.47  0.195 0.434 0.883\n",
      "  0.277 0.831 0.331 0.577 0.735 0.615 0.406 0.267 0.226 0.102 0.303 0.186\n",
      "  0.543 0.478 0.483 0.943 0.698 0.036 0.05  0.291 0.587 0.351 0.172 0.628\n",
      "  0.088 0.65  0.605 0.458 0.583 0.227 0.443 0.535 0.355 0.825 0.62  0.6\n",
      "  0.018 0.539 0.809 0.287 0.812 0.769 0.475 0.813 0.333 0.075 0.458 0.32\n",
      "  0.627 0.021 0.594 0.121 0.759 0.566 0.539 0.995 0.157 0.275 0.142 0.786\n",
      "  0.264 0.272 0.338 0.984 0.668 0.369 0.635 0.963 0.718 0.062 0.961 0.697\n",
      "  0.669 0.116 0.955 0.924 0.281 0.964 0.321 0.838 0.705 0.02  0.215 0.542\n",
      "  0.918 0.234 0.122 0.606 0.49  0.313 0.76  0.29  0.905 0.914 0.883 0.513\n",
      "  0.242 0.174 0.062 0.132 0.703 0.11  0.899 0.895 0.853 0.91  0.426 0.448\n",
      "  0.918 0.034 0.014 0.359 0.601 0.809 0.644 0.083 0.319 0.827 0.824 0.153\n",
      "  0.061 0.742 0.169 0.79  0.435 0.682 0.108 0.604 0.69  0.757 0.44  0.408\n",
      "  0.24  0.848 0.679 0.178 0.128 0.98  0.08  0.496 0.584 0.145 0.837 0.22\n",
      "  0.97  0.82  0.509 0.218 0.209 0.564 0.429 0.101 0.609 0.754 0.469 0.18\n",
      "  0.607 0.243 0.316 0.548 0.845 0.959 0.319 0.761 0.038 0.057 0.921 0.176\n",
      "  0.456 0.394 0.179 0.309 0.272 0.358 0.868 0.044 0.263 0.049 0.613 0.692\n",
      "  0.497 0.518 0.976 0.455 0.041 0.212 0.774 0.75  0.922 0.62  0.272 0.064\n",
      "  0.917 0.167 0.793 0.624 0.051 0.897 0.373 0.485 0.562 0.165 0.881 0.35\n",
      "  0.758 0.06  0.295 0.157 0.379 0.106 0.123 0.224 0.085 0.407 0.974 0.747\n",
      "  0.845 0.223 0.042 0.31 ]]\n",
      "RECEIVED RESPONSE:\n",
      "meta {\n",
      "  puid: \"iq1c3r0pocs8ortlf7ebpq7tgl\"\n",
      "  requestPath {\n",
      "    key: \"classifier\"\n",
      "    value: \"deep-mnist:0.1\"\n",
      "  }\n",
      "}\n",
      "data {\n",
      "  names: \"class:0\"\n",
      "  names: \"class:1\"\n",
      "  names: \"class:2\"\n",
      "  names: \"class:3\"\n",
      "  names: \"class:4\"\n",
      "  names: \"class:5\"\n",
      "  names: \"class:6\"\n",
      "  names: \"class:7\"\n",
      "  names: \"class:8\"\n",
      "  names: \"class:9\"\n",
      "  ndarray {\n",
      "    values {\n",
      "      list_value {\n",
      "        values {\n",
      "          number_value: 0.0013847836526110768\n",
      "        }\n",
      "        values {\n",
      "          number_value: 5.2278528173133054e-09\n",
      "        }\n",
      "        values {\n",
      "          number_value: 0.45779240131378174\n",
      "        }\n",
      "        values {\n",
      "          number_value: 0.10970422625541687\n",
      "        }\n",
      "        values {\n",
      "          number_value: 6.305293709374382e-08\n",
      "        }\n",
      "        values {\n",
      "          number_value: 0.4219036400318146\n",
      "        }\n",
      "        values {\n",
      "          number_value: 0.0001055227912729606\n",
      "        }\n",
      "        values {\n",
      "          number_value: 8.234503911808133e-05\n",
      "        }\n",
      "        values {\n",
      "          number_value: 0.00895524863153696\n",
      "        }\n",
      "        values {\n",
      "          number_value: 7.178235682658851e-05\n",
      "        }\n",
      "      }\n",
      "    }\n",
      "  }\n",
      "}\n",
      "\n",
      "\n"
     ]
    }
   ],
   "source": [
    "!seldon-core-api-tester contract.json `minikube ip` `kubectl get svc ambassador -o jsonpath='{.spec.ports[0].nodePort}'` \\\n",
    "    deep-mnist --namespace default -p"
   ]
  },
  {
   "cell_type": "code",
   "execution_count": 16,
   "metadata": {},
   "outputs": [
    {
     "name": "stdout",
     "output_type": "stream",
     "text": [
      "🔥  Deleting \"minikube\" from virtualbox ...\n",
      "💔  The \"minikube\" cluster has been deleted.\n"
     ]
    }
   ],
   "source": [
    "!minikube delete"
   ]
  },
  {
   "cell_type": "code",
   "execution_count": null,
   "metadata": {},
   "outputs": [],
   "source": []
  }
 ],
 "metadata": {
  "kernelspec": {
   "display_name": "Python 3",
   "language": "python",
   "name": "python3"
  },
  "language_info": {
   "codemirror_mode": {
    "name": "ipython",
    "version": 3
   },
   "file_extension": ".py",
   "mimetype": "text/x-python",
   "name": "python",
   "nbconvert_exporter": "python",
   "pygments_lexer": "ipython3",
   "version": "3.7.5rc1"
  },
  "varInspector": {
   "cols": {
    "lenName": 16,
    "lenType": 16,
    "lenVar": 40
   },
   "kernels_config": {
    "python": {
     "delete_cmd_postfix": "",
     "delete_cmd_prefix": "del ",
     "library": "var_list.py",
     "varRefreshCmd": "print(var_dic_list())"
    },
    "r": {
     "delete_cmd_postfix": ") ",
     "delete_cmd_prefix": "rm(",
     "library": "var_list.r",
     "varRefreshCmd": "cat(var_dic_list()) "
    }
   },
   "types_to_exclude": [
    "module",
    "function",
    "builtin_function_or_method",
    "instance",
    "_Feature"
   ],
   "window_display": false
  }
 },
 "nbformat": 4,
 "nbformat_minor": 2
}
