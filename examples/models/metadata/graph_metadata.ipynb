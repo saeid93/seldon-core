{
 "cells": [
  {
   "cell_type": "markdown",
   "metadata": {},
   "source": [
    "# Deployment (graph) level Metadata\n",
    "\n",
    "\n",
    "## Prerequisites\n",
    "\n",
    " * A kubernetes cluster with kubectl configured\n",
    " * curl\n",
    " * pygmentize\n",
    " \n",
    "\n",
    "## Setup Seldon Core\n",
    "\n",
    "Use the setup notebook to [Setup Cluster](seldon_core_setup.ipynb) to setup Seldon Core with an ingress."
   ]
  },
  {
   "cell_type": "code",
   "execution_count": 1,
   "metadata": {},
   "outputs": [
    {
     "name": "stdout",
     "output_type": "stream",
     "text": [
      "Error from server (AlreadyExists): namespaces \"seldon\" already exists\n"
     ]
    }
   ],
   "source": [
    "!kubectl create namespace seldon"
   ]
  },
  {
   "cell_type": "code",
   "execution_count": 2,
   "metadata": {},
   "outputs": [
    {
     "name": "stdout",
     "output_type": "stream",
     "text": [
      "Context \"kind-seldon\" modified.\n"
     ]
    }
   ],
   "source": [
    "!kubectl config set-context $(kubectl config current-context) --namespace=seldon"
   ]
  },
  {
   "cell_type": "markdown",
   "metadata": {},
   "source": [
    "## Used model\n",
    "\n",
    "In this example notebook we will use a dummy node that can serve multiple purposes in the graph.\n",
    "\n",
    "The model will read its metadata from environmental variable (this is done automatically).\n",
    "\n",
    "Actual logic that happens on each of this endpoint is not subject of this notebook.\n",
    "\n",
    "We will only concentrate on graph-level metadata that orchestrator constructs from metadata reported by each node."
   ]
  },
  {
   "cell_type": "code",
   "execution_count": 3,
   "metadata": {},
   "outputs": [
    {
     "name": "stdout",
     "output_type": "stream",
     "text": [
      "\u001b[34mimport\u001b[39;49;00m \u001b[04m\u001b[36mlogging\u001b[39;49;00m\n",
      "\u001b[34mimport\u001b[39;49;00m \u001b[04m\u001b[36mrandom\u001b[39;49;00m\n",
      "\u001b[34mimport\u001b[39;49;00m \u001b[04m\u001b[36mos\u001b[39;49;00m\n",
      "\n",
      "\n",
      "NUMBER_OF_ROUTES = \u001b[36mint\u001b[39;49;00m(os.environ.get(\u001b[33m\"\u001b[39;49;00m\u001b[33mNUMBER_OF_ROUTES\u001b[39;49;00m\u001b[33m\"\u001b[39;49;00m, \u001b[33m\"\u001b[39;49;00m\u001b[33m2\u001b[39;49;00m\u001b[33m\"\u001b[39;49;00m))\n",
      "\n",
      "\n",
      "\u001b[34mclass\u001b[39;49;00m \u001b[04m\u001b[32mNode\u001b[39;49;00m:\n",
      "    \u001b[34mdef\u001b[39;49;00m \u001b[32mpredict\u001b[39;49;00m(\u001b[36mself\u001b[39;49;00m, features, names=[], meta=[]):\n",
      "        logging.info(\u001b[33mf\u001b[39;49;00m\u001b[33m\"\u001b[39;49;00m\u001b[33mmodel features: \u001b[39;49;00m\u001b[33m{\u001b[39;49;00mfeatures\u001b[33m}\u001b[39;49;00m\u001b[33m\"\u001b[39;49;00m)\n",
      "        logging.info(\u001b[33mf\u001b[39;49;00m\u001b[33m\"\u001b[39;49;00m\u001b[33mmodel names: \u001b[39;49;00m\u001b[33m{\u001b[39;49;00mnames\u001b[33m}\u001b[39;49;00m\u001b[33m\"\u001b[39;49;00m)\n",
      "        logging.info(\u001b[33mf\u001b[39;49;00m\u001b[33m\"\u001b[39;49;00m\u001b[33mmodel meta: \u001b[39;49;00m\u001b[33m{\u001b[39;49;00mmeta\u001b[33m}\u001b[39;49;00m\u001b[33m\"\u001b[39;49;00m)\n",
      "        \u001b[34mreturn\u001b[39;49;00m features.tolist()\n",
      "\n",
      "    \u001b[34mdef\u001b[39;49;00m \u001b[32minput_transformer\u001b[39;49;00m(\u001b[36mself\u001b[39;49;00m, features, names=[], meta=[]):\n",
      "        \u001b[34mreturn\u001b[39;49;00m \u001b[36mself\u001b[39;49;00m.predict(features, names, meta)\n",
      "\n",
      "    \u001b[34mdef\u001b[39;49;00m \u001b[32moutput_transformer\u001b[39;49;00m(\u001b[36mself\u001b[39;49;00m, features, names=[], meta=[]):\n",
      "        \u001b[34mreturn\u001b[39;49;00m \u001b[36mself\u001b[39;49;00m.predict(features, names, meta)\n",
      "\n",
      "    \u001b[34mdef\u001b[39;49;00m \u001b[32maggregate\u001b[39;49;00m(\u001b[36mself\u001b[39;49;00m, features, names=[], meta=[]):\n",
      "        logging.info(\u001b[33mf\u001b[39;49;00m\u001b[33m\"\u001b[39;49;00m\u001b[33mmodel features: \u001b[39;49;00m\u001b[33m{\u001b[39;49;00mfeatures\u001b[33m}\u001b[39;49;00m\u001b[33m\"\u001b[39;49;00m)\n",
      "        logging.info(\u001b[33mf\u001b[39;49;00m\u001b[33m\"\u001b[39;49;00m\u001b[33mmodel names: \u001b[39;49;00m\u001b[33m{\u001b[39;49;00mnames\u001b[33m}\u001b[39;49;00m\u001b[33m\"\u001b[39;49;00m)\n",
      "        logging.info(\u001b[33mf\u001b[39;49;00m\u001b[33m\"\u001b[39;49;00m\u001b[33mmodel meta: \u001b[39;49;00m\u001b[33m{\u001b[39;49;00mmeta\u001b[33m}\u001b[39;49;00m\u001b[33m\"\u001b[39;49;00m)\n",
      "        \u001b[34mreturn\u001b[39;49;00m [x.tolist() \u001b[34mfor\u001b[39;49;00m x \u001b[35min\u001b[39;49;00m features]\n",
      "\n",
      "    \u001b[34mdef\u001b[39;49;00m \u001b[32mroute\u001b[39;49;00m(\u001b[36mself\u001b[39;49;00m, features, names=[], meta=[]):\n",
      "        logging.info(\u001b[33mf\u001b[39;49;00m\u001b[33m\"\u001b[39;49;00m\u001b[33mmodel features: \u001b[39;49;00m\u001b[33m{\u001b[39;49;00mfeatures\u001b[33m}\u001b[39;49;00m\u001b[33m\"\u001b[39;49;00m)\n",
      "        logging.info(\u001b[33mf\u001b[39;49;00m\u001b[33m\"\u001b[39;49;00m\u001b[33mmodel names: \u001b[39;49;00m\u001b[33m{\u001b[39;49;00mnames\u001b[33m}\u001b[39;49;00m\u001b[33m\"\u001b[39;49;00m)\n",
      "        logging.info(\u001b[33mf\u001b[39;49;00m\u001b[33m\"\u001b[39;49;00m\u001b[33mmodel meta: \u001b[39;49;00m\u001b[33m{\u001b[39;49;00mmeta\u001b[33m}\u001b[39;49;00m\u001b[33m\"\u001b[39;49;00m)\n",
      "        route = random.randint(\u001b[34m0\u001b[39;49;00m, NUMBER_OF_ROUTES)\n",
      "        logging.info(\u001b[33mf\u001b[39;49;00m\u001b[33m\"\u001b[39;49;00m\u001b[33mrouting to: \u001b[39;49;00m\u001b[33m{\u001b[39;49;00mroute\u001b[33m}\u001b[39;49;00m\u001b[33m\"\u001b[39;49;00m)\n",
      "        \u001b[34mreturn\u001b[39;49;00m route\n"
     ]
    }
   ],
   "source": [
    "!pygmentize models/generic-node/Node.py"
   ]
  },
  {
   "cell_type": "markdown",
   "metadata": {},
   "source": [
    "## Single Model\n",
    "\n",
    "In case of single-node graph model-level `inputs` and `outputs`, `x` and `y`, will simply be also the deployment-level `graphinputs` and `graphoutputs`.\n",
    "\n",
    "![single](./images/single.png)"
   ]
  },
  {
   "cell_type": "code",
   "execution_count": 5,
   "metadata": {},
   "outputs": [
    {
     "name": "stdout",
     "output_type": "stream",
     "text": [
      "Overwriting graph-metadata/single.yaml\n"
     ]
    }
   ],
   "source": [
    "%%writefile graph-metadata/single.yaml\n",
    "\n",
    "apiVersion: machinelearning.seldon.io/v1\n",
    "kind: SeldonDeployment\n",
    "metadata:\n",
    "  name: graph-metadata-single\n",
    "spec:\n",
    "  name: test-deployment\n",
    "  predictors:\n",
    "  - componentSpecs:\n",
    "    - spec:\n",
    "        containers:\n",
    "        - image: seldonio/metadata-generic-node:0.2\n",
    "          name: model\n",
    "          env:\n",
    "          - name: MODEL_METADATA\n",
    "            value: |\n",
    "              ---\n",
    "              name: single-node\n",
    "              versions: [ generic-node/v0.2 ]\n",
    "              platform: seldon-custom\n",
    "              inputs:\n",
    "              - datatype: BYTES\n",
    "                name: input\n",
    "                shape: [ 1, 10 ]\n",
    "              outputs:\n",
    "              - datatype: BYTES\n",
    "                name: output\n",
    "                shape: [ 1 ]\n",
    "    graph:\n",
    "      name: model\n",
    "      type: MODEL\n",
    "      children: []        \n",
    "    name: example\n",
    "    replicas: 1"
   ]
  },
  {
   "cell_type": "code",
   "execution_count": 6,
   "metadata": {},
   "outputs": [
    {
     "name": "stdout",
     "output_type": "stream",
     "text": [
      "seldondeployment.machinelearning.seldon.io/graph-metadata-single configured\n",
      "deployment \"graph-metadata-single-example-0-model\" successfully rolled out\n"
     ]
    }
   ],
   "source": [
    "%%bash\n",
    "\n",
    "kubectl apply -f graph-metadata/single.yaml\n",
    "\n",
    "dep_name=$(kubectl get deploy -l seldon-deployment-id=graph-metadata-single -o jsonpath='{.items[0].metadata.name}')\n",
    "kubectl rollout status deploy/${dep_name}"
   ]
  },
  {
   "cell_type": "markdown",
   "metadata": {},
   "source": [
    "### Graph Level\n",
    "\n",
    "Graph level metadata is available at the `api/v1.0/metadata` endpoint of your deployment:\n"
   ]
  },
  {
   "cell_type": "code",
   "execution_count": 7,
   "metadata": {},
   "outputs": [
    {
     "data": {
      "text/plain": [
       "{'name': 'example',\n",
       " 'models': {'model': {'name': 'single-node',\n",
       "   'platform': 'seldon-custom',\n",
       "   'versions': ['generic-node/v0.2'],\n",
       "   'inputs': [{'datatype': 'BYTES', 'name': 'input', 'shape': [1, 10]}],\n",
       "   'outputs': [{'datatype': 'BYTES', 'name': 'output', 'shape': [1]}]}},\n",
       " 'graphinputs': [{'datatype': 'BYTES', 'name': 'input', 'shape': [1, 10]}],\n",
       " 'graphoutputs': [{'datatype': 'BYTES', 'name': 'output', 'shape': [1]}]}"
      ]
     },
     "execution_count": 7,
     "metadata": {},
     "output_type": "execute_result"
    }
   ],
   "source": [
    "import requests\n",
    "meta = requests.get(\"http://localhost:8003/seldon/seldon/graph-metadata-single/api/v1.0/metadata\")\n",
    "meta = meta.json()\n",
    "\n",
    "assert meta == {\n",
    "    'name': 'example',\n",
    "     'models': {'model': {'name': 'single-node',\n",
    "       'platform': 'seldon-custom',\n",
    "       'versions': ['generic-node/v0.2'],\n",
    "       'inputs': [{'datatype': 'BYTES', 'name': 'input', 'shape': [1, 10]}],\n",
    "       'outputs': [{'datatype': 'BYTES', 'name': 'output', 'shape': [1]}]}},\n",
    "     'graphinputs': [{'datatype': 'BYTES', 'name': 'input', 'shape': [1, 10]}],\n",
    "     'graphoutputs': [{'datatype': 'BYTES', 'name': 'output', 'shape': [1]}]\n",
    "}\n",
    "\n",
    "meta"
   ]
  },
  {
   "cell_type": "markdown",
   "metadata": {},
   "source": [
    "### Model Level\n",
    "\n",
    "Compare with `model` metadata available at the `api/v1.0/metadata/model`:"
   ]
  },
  {
   "cell_type": "code",
   "execution_count": 8,
   "metadata": {},
   "outputs": [
    {
     "data": {
      "text/plain": [
       "{'apiVersion': 'v2',\n",
       " 'inputs': [{'datatype': 'BYTES', 'name': 'input', 'shape': [1, 10]}],\n",
       " 'name': 'single-node',\n",
       " 'outputs': [{'datatype': 'BYTES', 'name': 'output', 'shape': [1]}],\n",
       " 'platform': 'seldon-custom',\n",
       " 'versions': ['generic-node/v0.2']}"
      ]
     },
     "execution_count": 8,
     "metadata": {},
     "output_type": "execute_result"
    }
   ],
   "source": [
    "import requests\n",
    "meta = requests.get(\"http://localhost:8003/seldon/seldon/graph-metadata-single/api/v1.0/metadata/model\")\n",
    "meta = meta.json()\n",
    "\n",
    "assert meta == {\n",
    "    'inputs': [{'datatype': 'BYTES', 'name': 'input', 'shape': [1, 10]}],\n",
    "    'name': 'single-node',\n",
    "    'outputs': [{'datatype': 'BYTES', 'name': 'output', 'shape': [1]}],\n",
    "    'platform': 'seldon-custom',\n",
    "    'versions': ['generic-node/v0.2'],\n",
    "    'apiVersion': 'v2',\n",
    "    }\n",
    "\n",
    "meta"
   ]
  },
  {
   "cell_type": "markdown",
   "metadata": {},
   "source": [
    "## Two-Level Graph\n",
    "\n",
    "In two-level graph graph output of the first model is input of the second model, `x2=y1`.\n",
    "\n",
    "The graph-level input `x` will be first model’s input `x1` and graph-level output `y` will be the last model’s output `y2`.\n",
    "\n",
    "\n",
    "\n",
    "![two-level](./images/two-level.png)"
   ]
  },
  {
   "cell_type": "code",
   "execution_count": 9,
   "metadata": {},
   "outputs": [
    {
     "name": "stdout",
     "output_type": "stream",
     "text": [
      "Overwriting graph-metadata/two-levels.yaml\n"
     ]
    }
   ],
   "source": [
    "%%writefile graph-metadata/two-levels.yaml\n",
    "\n",
    "apiVersion: machinelearning.seldon.io/v1\n",
    "kind: SeldonDeployment\n",
    "metadata:\n",
    "  name: graph-metadata-two-levels\n",
    "spec:\n",
    "  name: test-deployment\n",
    "  predictors:\n",
    "  - componentSpecs:\n",
    "    - spec:\n",
    "        containers:\n",
    "        - image: seldonio/metadata-generic-node:0.2\n",
    "          name: node-one\n",
    "          env:\n",
    "          - name: MODEL_METADATA\n",
    "            value: |\n",
    "              {\"name\": \"node-one\",\n",
    "               \"versions\": [\"generic-node/v0.2\"],\n",
    "               \"platform\": \"seldon-custom\",\n",
    "               \"inputs\": [{\"name\": \"input\", \"datatype\": \"BYTES\", \"shape\": [1, 10]}],\n",
    "               \"outputs\": [{\"name\": \"output\", \"datatype\": \"BYTES\", \"shape\": [1, 20]}]}            \n",
    "        - image: seldonio/metadata-generic-node:0.2\n",
    "          name: node-two\n",
    "          env:\n",
    "          - name: MODEL_METADATA\n",
    "            value: |\n",
    "              {\"name\": \"node-two\",\n",
    "               \"versions\": [\"generic-node/v0.2\"],\n",
    "               \"platform\": \"seldon-custom\",\n",
    "               \"inputs\": [{\"name\": \"input\", \"datatype\": \"BYTES\", \"shape\": [1, 20]}],\n",
    "               \"outputs\": [{\"name\": \"output\", \"datatype\": \"BYTES\", \"shape\": [1]}]}               \n",
    "    graph:\n",
    "      name: node-one\n",
    "      type: MODEL\n",
    "      children:\n",
    "      - name: node-two\n",
    "        type: MODEL\n",
    "        children: []   \n",
    "    name: example\n",
    "    replicas: 1"
   ]
  },
  {
   "cell_type": "code",
   "execution_count": 10,
   "metadata": {},
   "outputs": [
    {
     "name": "stdout",
     "output_type": "stream",
     "text": [
      "seldondeployment.machinelearning.seldon.io/graph-metadata-two-levels configured\n",
      "deployment \"graph-metadata-two-levels-example-0-node-one-node-two\" successfully rolled out\n"
     ]
    }
   ],
   "source": [
    "%%bash\n",
    "\n",
    "kubectl apply -f graph-metadata/two-levels.yaml\n",
    "\n",
    "dep_name=$(kubectl get deploy -l seldon-deployment-id=graph-metadata-two-levels -o jsonpath='{.items[0].metadata.name}')\n",
    "kubectl rollout status deploy/${dep_name}"
   ]
  },
  {
   "cell_type": "code",
   "execution_count": 11,
   "metadata": {},
   "outputs": [
    {
     "data": {
      "text/plain": [
       "{'name': 'example',\n",
       " 'models': {'node-one': {'name': 'node-one',\n",
       "   'platform': 'seldon-custom',\n",
       "   'versions': ['generic-node/v0.2'],\n",
       "   'inputs': [{'datatype': 'BYTES', 'name': 'input', 'shape': [1, 10]}],\n",
       "   'outputs': [{'datatype': 'BYTES', 'name': 'output', 'shape': [1, 20]}]},\n",
       "  'node-two': {'name': 'node-two',\n",
       "   'platform': 'seldon-custom',\n",
       "   'versions': ['generic-node/v0.2'],\n",
       "   'inputs': [{'datatype': 'BYTES', 'name': 'input', 'shape': [1, 20]}],\n",
       "   'outputs': [{'datatype': 'BYTES', 'name': 'output', 'shape': [1]}]}},\n",
       " 'graphinputs': [{'datatype': 'BYTES', 'name': 'input', 'shape': [1, 10]}],\n",
       " 'graphoutputs': [{'datatype': 'BYTES', 'name': 'output', 'shape': [1]}]}"
      ]
     },
     "execution_count": 11,
     "metadata": {},
     "output_type": "execute_result"
    }
   ],
   "source": [
    "import requests\n",
    "meta = requests.get(\"http://localhost:8003/seldon/seldon/graph-metadata-two-levels/api/v1.0/metadata\")\n",
    "meta = meta.json()\n",
    "\n",
    "assert meta == {\n",
    "    'name': 'example',\n",
    "    'models': {\n",
    "        'node-one': {\n",
    "            'name': 'node-one',\n",
    "            'platform': 'seldon-custom',\n",
    "            'versions': ['generic-node/v0.2'],\n",
    "            'inputs': [{'datatype': 'BYTES', 'name': 'input', 'shape': [1, 10]}],\n",
    "            'outputs': [{'datatype': 'BYTES', 'name': 'output', 'shape': [1, 20]}]\n",
    "        },\n",
    "        'node-two': {\n",
    "            'name': 'node-two',\n",
    "            'platform': 'seldon-custom',\n",
    "            'versions': ['generic-node/v0.2'],\n",
    "            'inputs': [{'datatype': 'BYTES', 'name': 'input', 'shape': [1, 20]}],\n",
    "            'outputs': [{'datatype': 'BYTES', 'name': 'output', 'shape': [1]}]\n",
    "        }\n",
    "    },\n",
    "    'graphinputs': [{'datatype': 'BYTES', 'name': 'input', 'shape': [1, 10]}],\n",
    "    'graphoutputs': [{'datatype': 'BYTES', 'name': 'output', 'shape': [1]}]}\n",
    "\n",
    "meta"
   ]
  },
  {
   "cell_type": "markdown",
   "metadata": {},
   "source": [
    "## Combiner of two models\n",
    "\n",
    "In graph with the `combiner` request is first passed to combiner's children and before it gets aggregated by the `combiner` itself.\n",
    "\n",
    "Input `x` is first passed to both models and their outputs `y1` and `y2` are passed to the combiner. \n",
    "\n",
    "Combiner's output `y` is the final output of the graph.\n",
    "\n",
    "![combiner](./images/combiner.png)"
   ]
  },
  {
   "cell_type": "code",
   "execution_count": 12,
   "metadata": {},
   "outputs": [
    {
     "name": "stdout",
     "output_type": "stream",
     "text": [
      "Overwriting graph-metadata/combiner.yaml\n"
     ]
    }
   ],
   "source": [
    "%%writefile graph-metadata/combiner.yaml\n",
    "\n",
    "apiVersion: machinelearning.seldon.io/v1\n",
    "kind: SeldonDeployment\n",
    "metadata:\n",
    "  name: graph-metadata-combiner\n",
    "spec:\n",
    "  name: test-deployment\n",
    "  predictors:\n",
    "  - componentSpecs:\n",
    "    - spec:\n",
    "        containers:\n",
    "        - image: seldonio/metadata-generic-node:0.2\n",
    "          name: node-combiner\n",
    "          env:\n",
    "          - name: MODEL_METADATA\n",
    "            value: |\n",
    "              {\"name\": \"node-combiner\",\n",
    "               \"versions\": [\"generic-node/v0.2\"],\n",
    "               \"platform\": \"seldon-custom\",\n",
    "               \"inputs\": [\n",
    "                   {\"name\": \"input-1\", \"datatype\": \"BYTES\", \"shape\": [1, 20]},\n",
    "                   {\"name\": \"input-2\", \"datatype\": \"BYTES\", \"shape\": [1, 30]}\n",
    "               ],\n",
    "               \"outputs\": [{\"name\": \"output\", \"datatype\": \"BYTES\", \"shape\": [1]}]}\n",
    "        - image: seldonio/metadata-generic-node:0.2\n",
    "          name: node-one\n",
    "          env:\n",
    "          - name: MODEL_METADATA\n",
    "            value: |\n",
    "              {\"name\": \"node-one\",\n",
    "               \"versions\": [\"generic-node/v0.2\"],\n",
    "               \"platform\": \"seldon-custom\",\n",
    "               \"inputs\": [{\"name\": \"input\", \"datatype\": \"BYTES\", \"shape\": [1, 10]}],\n",
    "               \"outputs\": [{\"name\": \"output\", \"datatype\": \"BYTES\", \"shape\": [1, 20]}]}            \n",
    "        - image: seldonio/metadata-generic-node:0.2\n",
    "          name: node-two\n",
    "          env:\n",
    "          - name: MODEL_METADATA\n",
    "            value: |\n",
    "              {\"name\": \"node-two\",\n",
    "               \"versions\": [\"generic-node/v0.2\"],\n",
    "               \"platform\": \"seldon-custom\",\n",
    "               \"inputs\": [{\"name\": \"input\", \"datatype\": \"BYTES\", \"shape\": [1, 10]}],\n",
    "               \"outputs\": [{\"name\": \"output\", \"datatype\": \"BYTES\", \"shape\": [1, 30]}]}               \n",
    "    graph:\n",
    "      name: node-combiner\n",
    "      type: COMBINER\n",
    "      children:\n",
    "      - name: node-one\n",
    "        type: MODEL\n",
    "        children: []   \n",
    "      - name: node-two\n",
    "        type: MODEL\n",
    "        children: []   \n",
    "    name: example\n",
    "    replicas: 1"
   ]
  },
  {
   "cell_type": "code",
   "execution_count": 13,
   "metadata": {},
   "outputs": [
    {
     "name": "stdout",
     "output_type": "stream",
     "text": [
      "seldondeployment.machinelearning.seldon.io/graph-metadata-combiner configured\n",
      "deployment \"seldon-f3fb28d397222d10648e6c1c7e0bea9e\" successfully rolled out\n"
     ]
    }
   ],
   "source": [
    "%%bash\n",
    "\n",
    "kubectl apply -f graph-metadata/combiner.yaml\n",
    "\n",
    "dep_name=$(kubectl get deploy -l seldon-deployment-id=graph-metadata-combiner -o jsonpath='{.items[0].metadata.name}')\n",
    "kubectl rollout status deploy/${dep_name}"
   ]
  },
  {
   "cell_type": "code",
   "execution_count": 14,
   "metadata": {},
   "outputs": [
    {
     "data": {
      "text/plain": [
       "{'name': 'example',\n",
       " 'models': {'node-combiner': {'name': 'node-combiner',\n",
       "   'platform': 'seldon-custom',\n",
       "   'versions': ['generic-node/v0.2'],\n",
       "   'inputs': [{'datatype': 'BYTES', 'name': 'input-1', 'shape': [1, 20]},\n",
       "    {'datatype': 'BYTES', 'name': 'input-2', 'shape': [1, 30]}],\n",
       "   'outputs': [{'datatype': 'BYTES', 'name': 'output', 'shape': [1]}]},\n",
       "  'node-one': {'name': 'node-one',\n",
       "   'platform': 'seldon-custom',\n",
       "   'versions': ['generic-node/v0.2'],\n",
       "   'inputs': [{'datatype': 'BYTES', 'name': 'input', 'shape': [1, 10]}],\n",
       "   'outputs': [{'datatype': 'BYTES', 'name': 'output', 'shape': [1, 20]}]},\n",
       "  'node-two': {'name': 'node-two',\n",
       "   'platform': 'seldon-custom',\n",
       "   'versions': ['generic-node/v0.2'],\n",
       "   'inputs': [{'datatype': 'BYTES', 'name': 'input', 'shape': [1, 10]}],\n",
       "   'outputs': [{'datatype': 'BYTES', 'name': 'output', 'shape': [1, 30]}]}},\n",
       " 'graphinputs': [{'datatype': 'BYTES', 'name': 'input', 'shape': [1, 10]}],\n",
       " 'graphoutputs': [{'datatype': 'BYTES', 'name': 'output', 'shape': [1]}]}"
      ]
     },
     "execution_count": 14,
     "metadata": {},
     "output_type": "execute_result"
    }
   ],
   "source": [
    "import requests\n",
    "meta = requests.get(\"http://localhost:8003/seldon/seldon/graph-metadata-combiner/api/v1.0/metadata\")\n",
    "meta = meta.json()\n",
    "\n",
    "assert meta == {\n",
    "    'name': 'example',\n",
    "    'models': {\n",
    "        'node-combiner': {\n",
    "            'name': 'node-combiner',\n",
    "            'platform': 'seldon-custom',\n",
    "            'versions': ['generic-node/v0.2'],\n",
    "            'inputs': [\n",
    "                {'datatype': 'BYTES', 'name': 'input-1', 'shape': [1, 20]},\n",
    "                {'datatype': 'BYTES', 'name': 'input-2', 'shape': [1, 30]}\n",
    "            ],\n",
    "            'outputs': [{'datatype': 'BYTES', 'name': 'output', 'shape': [1]}]\n",
    "        },\n",
    "        'node-one': {\n",
    "            'name': 'node-one',\n",
    "            'platform': 'seldon-custom',\n",
    "            'versions': ['generic-node/v0.2'],\n",
    "            'inputs': [{'datatype': 'BYTES', 'name': 'input', 'shape': [1, 10]}],\n",
    "            'outputs': [{'datatype': 'BYTES', 'name': 'output', 'shape': [1, 20]}]\n",
    "        },\n",
    "        'node-two': {\n",
    "            'name': 'node-two',\n",
    "            'platform': 'seldon-custom',\n",
    "            'versions': ['generic-node/v0.2'],\n",
    "            'inputs': [{'datatype': 'BYTES', 'name': 'input', 'shape': [1, 10]}],\n",
    "            'outputs': [{'datatype': 'BYTES', 'name': 'output', 'shape': [1, 30]}]\n",
    "        }\n",
    "    },\n",
    "    'graphinputs': [{'datatype': 'BYTES', 'name': 'input', 'shape': [1, 10]}],\n",
    "    'graphoutputs': [{'datatype': 'BYTES', 'name': 'output', 'shape': [1]}]\n",
    "}\n",
    "\n",
    "meta"
   ]
  },
  {
   "cell_type": "markdown",
   "metadata": {},
   "source": [
    "## Router with two models\n",
    "\n",
    "In this example request `x` is passed by `router` to one of its children.\n",
    "\n",
    "Router then returns children output `y1` or `y2` as graph's output `y`.\n",
    "\n",
    "Here we assume that all children accepts similarly structured input and retuna similarly structured output.\n",
    "\n",
    "![router](./images/router.png)"
   ]
  },
  {
   "cell_type": "code",
   "execution_count": 15,
   "metadata": {},
   "outputs": [
    {
     "name": "stdout",
     "output_type": "stream",
     "text": [
      "Overwriting graph-metadata/router.yaml\n"
     ]
    }
   ],
   "source": [
    "%%writefile graph-metadata/router.yaml\n",
    "\n",
    "apiVersion: machinelearning.seldon.io/v1\n",
    "kind: SeldonDeployment\n",
    "metadata:\n",
    "  name: graph-metadata-router\n",
    "spec:\n",
    "  name: test-deployment\n",
    "  predictors:\n",
    "  - componentSpecs:\n",
    "    - spec:\n",
    "        containers:\n",
    "        - image: seldonio/metadata-generic-node:0.2\n",
    "          name: node-router\n",
    "        - image: seldonio/metadata-generic-node:0.2\n",
    "          name: node-one\n",
    "          env:\n",
    "          - name: MODEL_METADATA\n",
    "            value: |\n",
    "              {\"name\": \"node-one\",\n",
    "               \"versions\": [\"generic-node/v0.2\"],\n",
    "               \"platform\": \"seldon-custom\",\n",
    "               \"inputs\": [{\"name\": \"input\", \"datatype\": \"BYTES\", \"shape\": [1, 10]}],\n",
    "               \"outputs\": [{\"name\": \"output\", \"datatype\": \"BYTES\", \"shape\": [1, 20]}]}            \n",
    "        - image: seldonio/metadata-generic-node:0.2\n",
    "          name: node-two\n",
    "          env:\n",
    "          - name: MODEL_METADATA\n",
    "            value: |\n",
    "              {\"name\": \"node-two\",\n",
    "               \"versions\": [\"generic-node/v0.2\"],\n",
    "               \"platform\": \"seldon-custom\",\n",
    "               \"inputs\": [{\"name\": \"input\", \"datatype\": \"BYTES\", \"shape\": [1, 10]}],\n",
    "               \"outputs\": [{\"name\": \"output\", \"datatype\": \"BYTES\", \"shape\": [1, 20]}]}               \n",
    "    graph:\n",
    "      name: node-router\n",
    "      type: ROUTER\n",
    "      children:\n",
    "      - name: node-one\n",
    "        type: MODEL\n",
    "        children: []   \n",
    "      - name: node-two\n",
    "        type: MODEL\n",
    "        children: []   \n",
    "    name: example\n",
    "    replicas: 1"
   ]
  },
  {
   "cell_type": "code",
   "execution_count": 16,
   "metadata": {},
   "outputs": [
    {
     "name": "stdout",
     "output_type": "stream",
     "text": [
      "seldondeployment.machinelearning.seldon.io/graph-metadata-router configured\n",
      "deployment \"graph-metadata-router-example-0-node-router-node-one-node-two\" successfully rolled out\n"
     ]
    }
   ],
   "source": [
    "%%bash\n",
    "\n",
    "kubectl apply -f graph-metadata/router.yaml\n",
    "\n",
    "dep_name=$(kubectl get deploy -l seldon-deployment-id=graph-metadata-router -o jsonpath='{.items[0].metadata.name}')\n",
    "kubectl rollout status deploy/${dep_name}"
   ]
  },
  {
   "cell_type": "code",
   "execution_count": 17,
   "metadata": {},
   "outputs": [
    {
     "data": {
      "text/plain": [
       "{'name': 'example',\n",
       " 'models': {'node-one': {'name': 'node-one',\n",
       "   'platform': 'seldon-custom',\n",
       "   'versions': ['generic-node/v0.2'],\n",
       "   'inputs': [{'datatype': 'BYTES', 'name': 'input', 'shape': [1, 10]}],\n",
       "   'outputs': [{'datatype': 'BYTES', 'name': 'output', 'shape': [1, 20]}]},\n",
       "  'node-router': {'name': 'seldonio/metadata-generic-node',\n",
       "   'versions': ['0.2'],\n",
       "   'inputs': [],\n",
       "   'outputs': []},\n",
       "  'node-two': {'name': 'node-two',\n",
       "   'platform': 'seldon-custom',\n",
       "   'versions': ['generic-node/v0.2'],\n",
       "   'inputs': [{'datatype': 'BYTES', 'name': 'input', 'shape': [1, 10]}],\n",
       "   'outputs': [{'datatype': 'BYTES', 'name': 'output', 'shape': [1, 20]}]}},\n",
       " 'graphinputs': [{'datatype': 'BYTES', 'name': 'input', 'shape': [1, 10]}],\n",
       " 'graphoutputs': [{'datatype': 'BYTES', 'name': 'output', 'shape': [1, 20]}]}"
      ]
     },
     "execution_count": 17,
     "metadata": {},
     "output_type": "execute_result"
    }
   ],
   "source": [
    "import requests\n",
    "meta = requests.get(\"http://localhost:8003/seldon/seldon/graph-metadata-router/api/v1.0/metadata\")\n",
    "meta = meta.json()\n",
    "\n",
    "assert meta == {\n",
    "    'name': 'example',\n",
    "    'models': {\n",
    "        'node-router': {\n",
    "            'name': 'seldonio/metadata-generic-node',\n",
    "            'versions': ['0.2'],\n",
    "            'inputs': [],\n",
    "            'outputs': [],\n",
    "        },\n",
    "        'node-one': {\n",
    "            'name': 'node-one',\n",
    "            'platform': 'seldon-custom',\n",
    "            'versions': ['generic-node/v0.2'],\n",
    "            'inputs': [{'datatype': 'BYTES', 'name': 'input', 'shape': [1, 10]}],\n",
    "            'outputs': [{'datatype': 'BYTES', 'name': 'output', 'shape': [1, 20]}]\n",
    "        },\n",
    "        'node-two': {\n",
    "            'name': 'node-two',\n",
    "            'platform': 'seldon-custom',\n",
    "            'versions': ['generic-node/v0.2'],\n",
    "            'inputs': [{'datatype': 'BYTES', 'name': 'input', 'shape': [1, 10]}],\n",
    "            'outputs': [{'datatype': 'BYTES', 'name': 'output', 'shape': [1, 20]}]\n",
    "        }\n",
    "    },\n",
    "    'graphinputs': [{'datatype': 'BYTES', 'name': 'input', 'shape': [1, 10]}],\n",
    "    'graphoutputs': [{'datatype': 'BYTES', 'name': 'output', 'shape': [1, 20]}]\n",
    "}\n",
    "\n",
    "meta"
   ]
  },
  {
   "cell_type": "markdown",
   "metadata": {},
   "source": [
    "## Input Transformer\n",
    "\n",
    "Input transformers work almost exactly the same as chained nodes, see two-level example above.\n",
    "\n",
    "Following graph is presented in a way that is suppose to make next example (output transfomer) more intuitive.\n",
    "\n",
    "![input-transformer](./images/input-transformer.png)"
   ]
  },
  {
   "cell_type": "code",
   "execution_count": 18,
   "metadata": {},
   "outputs": [
    {
     "name": "stdout",
     "output_type": "stream",
     "text": [
      "Overwriting graph-metadata/input-transformer.yaml\n"
     ]
    }
   ],
   "source": [
    "%%writefile graph-metadata/input-transformer.yaml\n",
    "\n",
    "apiVersion: machinelearning.seldon.io/v1\n",
    "kind: SeldonDeployment\n",
    "metadata:\n",
    "  name: graph-metadata-input\n",
    "spec:\n",
    "  name: test-deployment\n",
    "  predictors:\n",
    "  - componentSpecs:\n",
    "    - spec:\n",
    "        containers:\n",
    "        - image: seldonio/metadata-generic-node:0.2\n",
    "          name: node-input-transformer\n",
    "          env:\n",
    "          - name: MODEL_METADATA\n",
    "            value: |\n",
    "              {\"name\": \"node-input-transformer\",\n",
    "               \"versions\": [\"generic-node/v0.2\"],\n",
    "               \"platform\": \"seldon-custom\",\n",
    "               \"inputs\": [{\"name\": \"input\", \"datatype\": \"BYTES\", \"shape\": [1, 10]}],\n",
    "               \"outputs\": [{\"name\": \"output\", \"datatype\": \"BYTES\", \"shape\": [1, 20]}]}            \n",
    "        - image: seldonio/metadata-generic-node:0.2\n",
    "          name: node\n",
    "          env:\n",
    "          - name: MODEL_METADATA\n",
    "            value: |\n",
    "              {\"name\": \"node\",\n",
    "               \"versions\": [\"generic-node/v0.2\"],\n",
    "               \"platform\": \"seldon-custom\",\n",
    "               \"inputs\": [{\"name\": \"input\", \"datatype\": \"BYTES\", \"shape\": [1, 20]}],\n",
    "               \"outputs\": [{\"name\": \"output\", \"datatype\": \"BYTES\", \"shape\": [1]}]}               \n",
    "    graph:\n",
    "      name: node-input-transformer\n",
    "      type: TRANSFORMER\n",
    "      children:\n",
    "      - name: node\n",
    "        type: MODEL\n",
    "        children: []   \n",
    "    name: example\n",
    "    replicas: 1"
   ]
  },
  {
   "cell_type": "code",
   "execution_count": 19,
   "metadata": {},
   "outputs": [
    {
     "name": "stdout",
     "output_type": "stream",
     "text": [
      "seldondeployment.machinelearning.seldon.io/graph-metadata-input configured\n",
      "deployment \"graph-metadata-input-example-0-node-input-transformer-node\" successfully rolled out\n"
     ]
    }
   ],
   "source": [
    "%%bash\n",
    "\n",
    "kubectl apply -f graph-metadata/input-transformer.yaml\n",
    "\n",
    "dep_name=$(kubectl get deploy -l seldon-deployment-id=graph-metadata-input -o jsonpath='{.items[0].metadata.name}')\n",
    "kubectl rollout status deploy/${dep_name}"
   ]
  },
  {
   "cell_type": "code",
   "execution_count": 20,
   "metadata": {},
   "outputs": [
    {
     "data": {
      "text/plain": [
       "{'name': 'example',\n",
       " 'models': {'node': {'name': 'node',\n",
       "   'platform': 'seldon-custom',\n",
       "   'versions': ['generic-node/v0.2'],\n",
       "   'inputs': [{'datatype': 'BYTES', 'name': 'input', 'shape': [1, 20]}],\n",
       "   'outputs': [{'datatype': 'BYTES', 'name': 'output', 'shape': [1]}]},\n",
       "  'node-input-transformer': {'name': 'node-input-transformer',\n",
       "   'platform': 'seldon-custom',\n",
       "   'versions': ['generic-node/v0.2'],\n",
       "   'inputs': [{'datatype': 'BYTES', 'name': 'input', 'shape': [1, 10]}],\n",
       "   'outputs': [{'datatype': 'BYTES', 'name': 'output', 'shape': [1, 20]}]}},\n",
       " 'graphinputs': [{'datatype': 'BYTES', 'name': 'input', 'shape': [1, 10]}],\n",
       " 'graphoutputs': [{'datatype': 'BYTES', 'name': 'output', 'shape': [1]}]}"
      ]
     },
     "execution_count": 20,
     "metadata": {},
     "output_type": "execute_result"
    }
   ],
   "source": [
    "import requests\n",
    "meta = requests.get(\"http://localhost:8003/seldon/seldon/graph-metadata-input/api/v1.0/metadata\")\n",
    "meta = meta.json()\n",
    "\n",
    "assert meta == {\n",
    "    'name': 'example',\n",
    "    'models': {\n",
    "        'node-input-transformer': {\n",
    "            'name': 'node-input-transformer',\n",
    "            'platform': 'seldon-custom',\n",
    "            'versions': ['generic-node/v0.2'],\n",
    "            'inputs': [{'datatype': 'BYTES', 'name': 'input', 'shape': [1, 10]}],\n",
    "            'outputs': [{'datatype': 'BYTES', 'name': 'output', 'shape': [1, 20]}]\n",
    "        },\n",
    "        'node': {\n",
    "            'name': 'node',\n",
    "            'platform': 'seldon-custom',\n",
    "            'versions': ['generic-node/v0.2'],\n",
    "            'inputs': [{'datatype': 'BYTES', 'name': 'input', 'shape': [1, 20]}],\n",
    "            'outputs': [{'datatype': 'BYTES', 'name': 'output', 'shape': [1]}]\n",
    "        }\n",
    "    },\n",
    "    'graphinputs': [{'datatype': 'BYTES', 'name': 'input', 'shape': [1, 10]}],\n",
    "    'graphoutputs': [{'datatype': 'BYTES', 'name': 'output', 'shape': [1]}]}\n",
    "\n",
    "meta"
   ]
  },
  {
   "cell_type": "markdown",
   "metadata": {},
   "source": [
    "## Output Transformer\n",
    "\n",
    "Output transformers work almost exactly opposite as chained nodes in the two-level example above.\n",
    "\n",
    "Input `x` is first passed to the model that is child of the `output-transformer` before it is passed to it.\n",
    "\n",
    "![output-transformer](./images/output-transformer.png)"
   ]
  },
  {
   "cell_type": "code",
   "execution_count": 21,
   "metadata": {},
   "outputs": [
    {
     "name": "stdout",
     "output_type": "stream",
     "text": [
      "Overwriting graph-metadata/output-transformer.yaml\n"
     ]
    }
   ],
   "source": [
    "%%writefile graph-metadata/output-transformer.yaml\n",
    "\n",
    "apiVersion: machinelearning.seldon.io/v1\n",
    "kind: SeldonDeployment\n",
    "metadata:\n",
    "  name: graph-metadata-output\n",
    "spec:\n",
    "  name: test-deployment\n",
    "  predictors:\n",
    "  - componentSpecs:\n",
    "    - spec:\n",
    "        containers:\n",
    "        - image: seldonio/metadata-generic-node:0.2\n",
    "          name: node-output-transformer\n",
    "          env:\n",
    "          - name: MODEL_METADATA\n",
    "            value: |\n",
    "              {\"name\": \"node-output-transformer\",\n",
    "               \"versions\": [\"generic-node/v0.2\"],\n",
    "               \"platform\": \"seldon-custom\",\n",
    "               \"inputs\": [{\"name\": \"input\", \"datatype\": \"BYTES\", \"shape\": [1, 20]}],\n",
    "               \"outputs\": [{\"name\": \"output\", \"datatype\": \"BYTES\", \"shape\": [1]}]}               \n",
    "        - image: seldonio/metadata-generic-node:0.2\n",
    "          name: node\n",
    "          env:\n",
    "          - name: MODEL_METADATA\n",
    "            value: |\n",
    "              {\"name\": \"node\",\n",
    "               \"versions\": [\"generic-node/v0.2\"],\n",
    "               \"platform\": \"seldon-custom\",\n",
    "               \"inputs\": [{\"name\": \"input\", \"datatype\": \"BYTES\", \"shape\": [1, 10]}],\n",
    "               \"outputs\": [{\"name\": \"output\", \"datatype\": \"BYTES\", \"shape\": [1, 20]}]}            \n",
    "    graph:\n",
    "      name: node-output-transformer\n",
    "      type: OUTPUT_TRANSFORMER\n",
    "      children:\n",
    "      - name: node\n",
    "        type: MODEL\n",
    "        children: []   \n",
    "    name: example\n",
    "    replicas: 1"
   ]
  },
  {
   "cell_type": "code",
   "execution_count": 22,
   "metadata": {},
   "outputs": [
    {
     "name": "stdout",
     "output_type": "stream",
     "text": [
      "seldondeployment.machinelearning.seldon.io/graph-metadata-output configured\n",
      "deployment \"graph-metadata-output-example-0-node-output-transformer-node\" successfully rolled out\n"
     ]
    }
   ],
   "source": [
    "%%bash\n",
    "\n",
    "kubectl apply -f graph-metadata/output-transformer.yaml\n",
    "\n",
    "dep_name=$(kubectl get deploy -l seldon-deployment-id=graph-metadata-output -o jsonpath='{.items[0].metadata.name}')\n",
    "kubectl rollout status deploy/${dep_name}"
   ]
  },
  {
   "cell_type": "code",
   "execution_count": 25,
   "metadata": {},
   "outputs": [
    {
     "data": {
      "text/plain": [
       "{'name': 'example',\n",
       " 'models': {'node': {'name': 'node',\n",
       "   'platform': 'seldon-custom',\n",
       "   'versions': ['generic-node/v0.2'],\n",
       "   'inputs': [{'datatype': 'BYTES', 'name': 'input', 'shape': [1, 10]}],\n",
       "   'outputs': [{'datatype': 'BYTES', 'name': 'output', 'shape': [1, 20]}]},\n",
       "  'node-output-transformer': {'name': 'node-output-transformer',\n",
       "   'platform': 'seldon-custom',\n",
       "   'versions': ['generic-node/v0.2'],\n",
       "   'inputs': [{'datatype': 'BYTES', 'name': 'input', 'shape': [1, 20]}],\n",
       "   'outputs': [{'datatype': 'BYTES', 'name': 'output', 'shape': [1]}]}},\n",
       " 'graphinputs': [{'datatype': 'BYTES', 'name': 'input', 'shape': [1, 10]}],\n",
       " 'graphoutputs': [{'datatype': 'BYTES', 'name': 'output', 'shape': [1]}]}"
      ]
     },
     "execution_count": 25,
     "metadata": {},
     "output_type": "execute_result"
    }
   ],
   "source": [
    "import requests\n",
    "meta = requests.get(\"http://localhost:8003/seldon/seldon/graph-metadata-output/api/v1.0/metadata\")\n",
    "meta = meta.json()\n",
    "\n",
    "assert meta == {\n",
    "    'name': 'example',\n",
    "    'models': {\n",
    "        'node-output-transformer': {\n",
    "            'name': 'node-output-transformer',\n",
    "            'platform': 'seldon-custom',\n",
    "            'versions': ['generic-node/v0.2'],\n",
    "            'inputs': [{'datatype': 'BYTES', 'name': 'input', 'shape': [1, 20]}],\n",
    "            'outputs': [{'datatype': 'BYTES', 'name': 'output', 'shape': [1]}]\n",
    "        },\n",
    "        'node': {\n",
    "            'name': 'node',\n",
    "            'platform': 'seldon-custom',\n",
    "            'versions': ['generic-node/v0.2'],\n",
    "            'inputs': [{'datatype': 'BYTES', 'name': 'input', 'shape': [1, 10]}],\n",
    "            'outputs': [{'datatype': 'BYTES', 'name': 'output', 'shape': [1, 20]}]\n",
    "        }\n",
    "    },\n",
    "    'graphinputs': [{'datatype': 'BYTES', 'name': 'input', 'shape': [1, 10]}],\n",
    "    'graphoutputs': [{'datatype': 'BYTES', 'name': 'output', 'shape': [1]}]}\n",
    "\n",
    "meta"
   ]
  },
  {
   "cell_type": "markdown",
   "metadata": {},
   "source": [
    "## Cleanup resources"
   ]
  },
  {
   "cell_type": "code",
   "execution_count": 26,
   "metadata": {},
   "outputs": [
    {
     "name": "stdout",
     "output_type": "stream",
     "text": [
      "seldondeployment.machinelearning.seldon.io \"graph-metadata-combiner\" deleted\n",
      "seldondeployment.machinelearning.seldon.io \"graph-metadata-input\" deleted\n",
      "seldondeployment.machinelearning.seldon.io \"graph-metadata-output\" deleted\n",
      "seldondeployment.machinelearning.seldon.io \"graph-metadata-router\" deleted\n",
      "seldondeployment.machinelearning.seldon.io \"graph-metadata-single\" deleted\n",
      "seldondeployment.machinelearning.seldon.io \"graph-metadata-two-levels\" deleted\n"
     ]
    }
   ],
   "source": [
    "%%bash\n",
    "kubectl delete -f graph-metadata/"
   ]
  }
 ],
 "metadata": {
  "kernelspec": {
   "display_name": "Python 3",
   "language": "python",
   "name": "python3"
  },
  "language_info": {
   "codemirror_mode": {
    "name": "ipython",
    "version": 3
   },
   "file_extension": ".py",
   "mimetype": "text/x-python",
   "name": "python",
   "nbconvert_exporter": "python",
   "pygments_lexer": "ipython3",
   "version": "3.7.6"
  }
 },
 "nbformat": 4,
 "nbformat_minor": 4
}
