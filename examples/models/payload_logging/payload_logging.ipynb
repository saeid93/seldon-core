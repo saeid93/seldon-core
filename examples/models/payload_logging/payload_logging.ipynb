{
 "cells": [
  {
   "cell_type": "markdown",
   "metadata": {},
   "source": [
    "# Payload Logging \n",
    "\n",
    "An example of payload logging of Seldon Deployment requests and responses.\n",
    "\n",
    "## Prerequisites\n",
    "\n",
    " * A kubernetes cluster with kubectl configured\n",
    " * curl\n",
    " * grpcurl\n",
    " * pygmentize\n",
    " \n",
    "\n",
    "## Setup Seldon Core\n",
    "\n",
    "Install Seldon Core as described in [docs](https://docs.seldon.io/projects/seldon-core/en/latest/workflow/install.html)\n",
    "\n",
    "Then port-forward to that ingress on localhost:8003 in a separate terminal either with:\n",
    "\n",
    " * Ambassador: \n",
    " \n",
    " ```bash \n",
    " kubectl port-forward $(kubectl get pods -n seldon -l app.kubernetes.io/name=ambassador -o jsonpath='{.items[0].metadata.name}') -n seldon 8003:8080```\n",
    " \n",
    " * Istio: \n",
    " \n",
    " ```bash \n",
    " kubectl port-forward $(kubectl get pods -l istio=ingressgateway -n istio-system -o jsonpath='{.items[0].metadata.name}') -n istio-system 8003:80```\n",
    " "
   ]
  },
  {
   "cell_type": "code",
   "execution_count": 1,
   "metadata": {},
   "outputs": [
    {
     "name": "stdout",
     "output_type": "stream",
     "text": [
      "Error from server (AlreadyExists): namespaces \"seldon\" already exists\r\n"
     ]
    }
   ],
   "source": [
    "!kubectl create namespace seldon"
   ]
  },
  {
   "cell_type": "code",
   "execution_count": 2,
   "metadata": {},
   "outputs": [
    {
     "name": "stdout",
     "output_type": "stream",
     "text": [
      "Context \"kind-kind\" modified.\r\n"
     ]
    }
   ],
   "source": [
    "!kubectl config set-context $(kubectl config current-context) --namespace=seldon"
   ]
  },
  {
   "cell_type": "markdown",
   "metadata": {},
   "source": [
    "## Deploy a Request Logger\n",
    "\n",
    "This will echo CloudEvents it receives.\n"
   ]
  },
  {
   "cell_type": "code",
   "execution_count": 3,
   "metadata": {},
   "outputs": [
    {
     "name": "stdout",
     "output_type": "stream",
     "text": [
      "\u001b[34;01mapiVersion\u001b[39;49;00m: apps/v1\r\n",
      "\u001b[34;01mkind\u001b[39;49;00m: Deployment\r\n",
      "\u001b[34;01mmetadata\u001b[39;49;00m:\r\n",
      "  \u001b[34;01mname\u001b[39;49;00m: logger\r\n",
      "\u001b[34;01mspec\u001b[39;49;00m:\r\n",
      "  \u001b[34;01mselector\u001b[39;49;00m:\r\n",
      "    \u001b[34;01mmatchLabels\u001b[39;49;00m:\r\n",
      "      \u001b[34;01mrun\u001b[39;49;00m: logger\r\n",
      "  \u001b[34;01mreplicas\u001b[39;49;00m: 1\r\n",
      "  \u001b[34;01mtemplate\u001b[39;49;00m:\r\n",
      "    \u001b[34;01mmetadata\u001b[39;49;00m:\r\n",
      "      \u001b[34;01mlabels\u001b[39;49;00m:\r\n",
      "        \u001b[34;01mrun\u001b[39;49;00m: logger\r\n",
      "    \u001b[34;01mspec\u001b[39;49;00m:\r\n",
      "      \u001b[34;01mcontainers\u001b[39;49;00m:\r\n",
      "      - \u001b[34;01mname\u001b[39;49;00m: logger\r\n",
      "        \u001b[34;01mimage\u001b[39;49;00m: mendhak/http-https-echo\r\n",
      "        \u001b[34;01mports\u001b[39;49;00m:\r\n",
      "        - \u001b[34;01mcontainerPort\u001b[39;49;00m: 80\r\n",
      "\u001b[04m\u001b[36m---\u001b[39;49;00m\r\n",
      "\u001b[34;01mapiVersion\u001b[39;49;00m: v1\r\n",
      "\u001b[34;01mkind\u001b[39;49;00m: Service\r\n",
      "\u001b[34;01mmetadata\u001b[39;49;00m:\r\n",
      "  \u001b[34;01mname\u001b[39;49;00m: logger\r\n",
      "  \u001b[34;01mlabels\u001b[39;49;00m:\r\n",
      "    \u001b[34;01mrun\u001b[39;49;00m: logger\r\n",
      "\u001b[34;01mspec\u001b[39;49;00m:\r\n",
      "  \u001b[34;01mports\u001b[39;49;00m:\r\n",
      "  - \u001b[34;01mport\u001b[39;49;00m: 80\r\n",
      "    \u001b[34;01mtargetPort\u001b[39;49;00m: 80\r\n",
      "    \u001b[34;01mprotocol\u001b[39;49;00m: TCP\r\n",
      "  \u001b[34;01mselector\u001b[39;49;00m:\r\n",
      "    \u001b[34;01mrun\u001b[39;49;00m: logger\r\n",
      "\r\n",
      "    \r\n"
     ]
    }
   ],
   "source": [
    "!pygmentize message-dumper.yaml"
   ]
  },
  {
   "cell_type": "code",
   "execution_count": 4,
   "metadata": {},
   "outputs": [
    {
     "name": "stdout",
     "output_type": "stream",
     "text": [
      "deployment.apps/logger created\r\n",
      "service/logger created\r\n"
     ]
    }
   ],
   "source": [
    "!kubectl apply -f message-dumper.yaml -n seldon"
   ]
  },
  {
   "cell_type": "code",
   "execution_count": 5,
   "metadata": {},
   "outputs": [
    {
     "name": "stdout",
     "output_type": "stream",
     "text": [
      "Waiting for deployment \"logger\" rollout to finish: 0 of 1 updated replicas are available...\n",
      "deployment \"logger\" successfully rolled out\n"
     ]
    }
   ],
   "source": [
    "!kubectl rollout status deploy/logger"
   ]
  },
  {
   "cell_type": "markdown",
   "metadata": {},
   "source": [
    "## Create a Model with Logging"
   ]
  },
  {
   "cell_type": "code",
   "execution_count": 10,
   "metadata": {},
   "outputs": [
    {
     "name": "stdout",
     "output_type": "stream",
     "text": [
      "\u001b[34;01mapiVersion\u001b[39;49;00m: machinelearning.seldon.io/v1\r\n",
      "\u001b[34;01mkind\u001b[39;49;00m: SeldonDeployment\r\n",
      "\u001b[34;01mmetadata\u001b[39;49;00m:\r\n",
      "  \u001b[34;01mname\u001b[39;49;00m: model-logs\r\n",
      "\u001b[34;01mspec\u001b[39;49;00m:\r\n",
      "  \u001b[34;01mname\u001b[39;49;00m: model-logs\r\n",
      "  \u001b[34;01mpredictors\u001b[39;49;00m:\r\n",
      "  - \u001b[34;01mcomponentSpecs\u001b[39;49;00m:\r\n",
      "    - \u001b[34;01mspec\u001b[39;49;00m:\r\n",
      "        \u001b[34;01mcontainers\u001b[39;49;00m:\r\n",
      "        - \u001b[34;01mimage\u001b[39;49;00m: seldonio/mock_classifier:1.5.0-dev\r\n",
      "          \u001b[34;01mname\u001b[39;49;00m: classifier\r\n",
      "    \u001b[34;01mgraph\u001b[39;49;00m:\r\n",
      "      \u001b[34;01mchildren\u001b[39;49;00m: []\r\n",
      "      \u001b[34;01mendpoint\u001b[39;49;00m:\r\n",
      "        \u001b[34;01mtype\u001b[39;49;00m: REST\r\n",
      "      \u001b[34;01mname\u001b[39;49;00m: classifier\r\n",
      "      \u001b[34;01mtype\u001b[39;49;00m: MODEL\r\n",
      "      \u001b[34;01mlogger\u001b[39;49;00m:\r\n",
      "        \u001b[34;01murl\u001b[39;49;00m: http://logger.seldon/\r\n",
      "        \u001b[34;01mmode\u001b[39;49;00m: all\r\n",
      "    \u001b[34;01mname\u001b[39;49;00m: logging\r\n",
      "    \u001b[34;01mreplicas\u001b[39;49;00m: 1\r\n"
     ]
    }
   ],
   "source": [
    "!pygmentize model_logger.yaml"
   ]
  },
  {
   "cell_type": "code",
   "execution_count": 11,
   "metadata": {},
   "outputs": [
    {
     "name": "stdout",
     "output_type": "stream",
     "text": [
      "seldondeployment.machinelearning.seldon.io/model-logs created\r\n"
     ]
    }
   ],
   "source": [
    "!kubectl apply -f model_logger.yaml -n seldon"
   ]
  },
  {
   "cell_type": "code",
   "execution_count": 12,
   "metadata": {},
   "outputs": [
    {
     "name": "stdout",
     "output_type": "stream",
     "text": [
      "Waiting for deployment \"model-logs-logging-0-classifier\" rollout to finish: 0 of 1 updated replicas are available...\n",
      "deployment \"model-logs-logging-0-classifier\" successfully rolled out\n"
     ]
    }
   ],
   "source": [
    "!kubectl rollout status deploy/$(kubectl get deploy -l seldon-deployment-id=model-logs -o jsonpath='{.items[0].metadata.name}')"
   ]
  },
  {
   "cell_type": "markdown",
   "metadata": {},
   "source": [
    "## Send a Prediction Request"
   ]
  },
  {
   "cell_type": "code",
   "execution_count": 13,
   "metadata": {},
   "outputs": [
    {
     "name": "stdout",
     "output_type": "stream",
     "text": [
      "['{\"data\":{\"names\":[\"proba\"],\"ndarray\":[[0.43782349911420193]]},\"meta\":{}}']\n"
     ]
    }
   ],
   "source": [
    "res=!curl -s -d '{\"data\": {\"ndarray\":[[1.0, 2.0, 5.0]]}}' \\\n",
    "   -X POST http://localhost:8003/seldon/seldon/model-logs/api/v1.0/predictions \\\n",
    "   -H \"Content-Type: application/json\";\n",
    "print(res)\n",
    "import json\n",
    "j=json.loads(res[0])\n",
    "assert(j[\"data\"][\"ndarray\"][0][0]>0.2)"
   ]
  },
  {
   "cell_type": "markdown",
   "metadata": {},
   "source": [
    "## Check Logger"
   ]
  },
  {
   "cell_type": "code",
   "execution_count": 14,
   "metadata": {},
   "outputs": [
    {
     "name": "stdout",
     "output_type": "stream",
     "text": [
      "-----------------\r\n",
      "{ path: '/',\r\n",
      "  headers: \r\n",
      "   { host: 'logger.seldon',\r\n",
      "     'user-agent': 'Go-http-client/1.1',\r\n",
      "     'content-length': '39',\r\n",
      "     'ce-endpoint': 'logging',\r\n",
      "     'ce-id': '81db97a8-d107-47a9-aa1c-62a1714e45c3',\r\n",
      "     'ce-inferenceservicename': 'model-logs',\r\n",
      "     'ce-modelid': 'classifier',\r\n",
      "     'ce-namespace': 'seldon',\r\n",
      "     'ce-requestid': '874a8ec4-6263-47f9-82c8-fc6f6904565e',\r\n",
      "     'ce-source': 'http://:8000/',\r\n",
      "     'ce-specversion': '1.0',\r\n",
      "     'ce-time': '2020-11-01T12:00:40.056998656Z',\r\n",
      "     'ce-traceparent': '00-2e8cd5e1f06bcac55c8850b7ba7d8391-5b51e75efa7618d1-00',\r\n",
      "     'ce-type': 'io.seldon.serving.inference.request',\r\n",
      "     'content-type': 'application/json',\r\n",
      "     traceparent: '00-2e8cd5e1f06bcac55c8850b7ba7d8391-04ae183d30af619d-00',\r\n",
      "     'accept-encoding': 'gzip' },\r\n",
      "  method: 'POST',\r\n",
      "  body: '{\"data\": {\"ndarray\":[[1.0, 2.0, 5.0]]}}',\r\n",
      "  cookies: undefined,\r\n",
      "  fresh: false,\r\n",
      "  hostname: 'logger.seldon',\r\n",
      "  ip: '::ffff:10.244.1.40',\r\n",
      "  ips: [],\r\n",
      "  protocol: 'http',\r\n",
      "  query: {},\r\n",
      "  subdomains: [],\r\n",
      "  xhr: false,\r\n",
      "  os: { hostname: 'logger-766f99b9b7-bfsh2' },\r\n",
      "  connection: { servername: undefined } }\r\n",
      "::ffff:10.244.1.40 - - [01/Nov/2020:12:00:40 +0000] \"POST / HTTP/1.1\" 200 1098 \"-\" \"Go-http-client/1.1\"\r\n",
      "-----------------\r\n",
      "{ path: '/',\r\n",
      "  headers: \r\n",
      "   { host: 'logger.seldon',\r\n",
      "     'user-agent': 'Go-http-client/1.1',\r\n",
      "     'content-length': '73',\r\n",
      "     'ce-endpoint': 'logging',\r\n",
      "     'ce-id': '6952385a-30bc-42b5-a662-0e2ed927911b',\r\n",
      "     'ce-inferenceservicename': 'model-logs',\r\n",
      "     'ce-modelid': 'classifier',\r\n",
      "     'ce-namespace': 'seldon',\r\n",
      "     'ce-requestid': '874a8ec4-6263-47f9-82c8-fc6f6904565e',\r\n",
      "     'ce-source': 'http://:8000/',\r\n",
      "     'ce-specversion': '1.0',\r\n",
      "     'ce-time': '2020-11-01T12:00:40.061558209Z',\r\n",
      "     'ce-traceparent': '00-81540bc96669219c2202a1ee11bd56b4-ad0a4a1b66e7aa69-00',\r\n",
      "     'ce-type': 'io.seldon.serving.inference.response',\r\n",
      "     'content-type': 'application/json',\r\n",
      "     traceparent: '00-81540bc96669219c2202a1ee11bd56b4-56677bf99b1ff435-00',\r\n",
      "     'accept-encoding': 'gzip' },\r\n",
      "  method: 'POST',\r\n",
      "  body: '{\"data\":{\"names\":[\"proba\"],\"ndarray\":[[0.43782349911420193]]},\"meta\":{}}\\n',\r\n",
      "  cookies: undefined,\r\n",
      "  fresh: false,\r\n",
      "  hostname: 'logger.seldon',\r\n",
      "  ip: '::ffff:10.244.1.40',\r\n",
      "  ips: [],\r\n",
      "  protocol: 'http',\r\n",
      "  query: {},\r\n",
      "  subdomains: [],\r\n",
      "  xhr: false,\r\n",
      "  os: { hostname: 'logger-766f99b9b7-bfsh2' },\r\n",
      "  connection: { servername: undefined } }\r\n",
      "::ffff:10.244.1.40 - - [01/Nov/2020:12:00:40 +0000] \"POST / HTTP/1.1\" 200 1140 \"-\" \"Go-http-client/1.1\"\r\n"
     ]
    }
   ],
   "source": [
    "!kubectl logs $(kubectl get pods -l run=logger -n seldon -o jsonpath='{.items[0].metadata.name}') logger"
   ]
  },
  {
   "cell_type": "code",
   "execution_count": 15,
   "metadata": {},
   "outputs": [
    {
     "name": "stdout",
     "output_type": "stream",
     "text": [
      "[\"     'ce-modelid': 'classifier',\", \"     'ce-modelid': 'classifier',\"]\n"
     ]
    }
   ],
   "source": [
    "modelids=!kubectl logs $(kubectl get pods -l run=logger -n seldon -o jsonpath='{.items[0].metadata.name}') logger | grep \"ce-modelid\"\n",
    "print(modelids)\n",
    "assert(modelids[0].strip()==\"'ce-modelid': 'classifier',\")"
   ]
  },
  {
   "cell_type": "markdown",
   "metadata": {},
   "source": [
    "## Clean Up"
   ]
  },
  {
   "cell_type": "code",
   "execution_count": 16,
   "metadata": {},
   "outputs": [
    {
     "name": "stdout",
     "output_type": "stream",
     "text": [
      "seldondeployment.machinelearning.seldon.io \"model-logs\" deleted\r\n"
     ]
    }
   ],
   "source": [
    "!kubectl delete -f model_logger.yaml -n seldon"
   ]
  },
  {
   "cell_type": "code",
   "execution_count": 17,
   "metadata": {},
   "outputs": [
    {
     "name": "stdout",
     "output_type": "stream",
     "text": [
      "deployment.apps \"logger\" deleted\n",
      "service \"logger\" deleted\n"
     ]
    }
   ],
   "source": [
    "!kubectl delete -f message-dumper.yaml -n seldon"
   ]
  },
  {
   "cell_type": "code",
   "execution_count": null,
   "metadata": {},
   "outputs": [],
   "source": []
  }
 ],
 "metadata": {
  "kernelspec": {
   "display_name": "Python 3",
   "language": "python",
   "name": "python3"
  },
  "language_info": {
   "codemirror_mode": {
    "name": "ipython",
    "version": 3
   },
   "file_extension": ".py",
   "mimetype": "text/x-python",
   "name": "python",
   "nbconvert_exporter": "python",
   "pygments_lexer": "ipython3",
   "version": "3.6.8"
  }
 },
 "nbformat": 4,
 "nbformat_minor": 2
}
