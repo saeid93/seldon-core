{
 "cells": [
  {
   "cell_type": "markdown",
   "metadata": {},
   "source": [
    "# Protecting against Cross-Site Scripting\n",
    "\n",
    "This notebook provides an example to showcase the methods we use to protect against Cross-Site Scripting (XSS).\n",
    "In particular, to protect against it we escape some symbols in the JSON output and we add some extra headers which further ensure that the browser won't misidentify the content.\n",
    "\n",
    "* **JSON serializer.** We escape any HTML symbols on the output, using their unicode sequences instead.\n",
    "* **Extra headers.** On every response, we set the `X-Content-Type-Options: nosniff;` header, which ensures that the browser won't try to guess the `Content-Type` from the content."
   ]
  },
  {
   "cell_type": "markdown",
   "metadata": {},
   "source": [
    "## Setup\n",
    "\n",
    "Before showing a couple examples on how the output is modified to protect against XSS attacks, we will setup the environment.\n",
    "\n",
    "Firstly, we will create a cluster using [kind](https://kind.sigs.k8s.io)."
   ]
  },
  {
   "cell_type": "code",
   "execution_count": 2,
   "metadata": {},
   "outputs": [
    {
     "name": "stdout",
     "output_type": "stream",
     "text": [
      "Creating cluster \"kind\" ...\n",
      " ✓ Ensuring node image (kindest/node:v1.15.3) 🖼 \n",
      " ✓ Preparing nodes 📦 \n",
      " ✓ Creating kubeadm config 📜 \n",
      " ✓ Starting control-plane 🕹️ \n",
      " ✓ Installing CNI 🔌 \n",
      " ✓ Installing StorageClass 💾 \n",
      "Cluster creation complete. You can now use the cluster with:\n",
      "\n",
      "export KUBECONFIG=\"$(kind get kubeconfig-path --name=\"kind\")\"\n",
      "kubectl cluster-info\n"
     ]
    }
   ],
   "source": [
    "!kind create cluster\n",
    "!export KUBECONFIG=\"$(kind get kubeconfig-path --name=kind)\""
   ]
  },
  {
   "cell_type": "markdown",
   "metadata": {},
   "source": [
    "We then install Helm and a corresponding service account."
   ]
  },
  {
   "cell_type": "code",
   "execution_count": 3,
   "metadata": {},
   "outputs": [
    {
     "name": "stdout",
     "output_type": "stream",
     "text": [
      "$HELM_HOME has been configured at /Users/kaseyo/.helm.\n",
      "\n",
      "Tiller (the Helm server-side component) has been installed into your Kubernetes Cluster.\n",
      "\n",
      "Please note: by default, Tiller is deployed with an insecure 'allow unauthenticated users' policy.\n",
      "To prevent this, run `helm init` with the --tiller-tls-verify flag.\n",
      "For more information on securing your installation see: https://docs.helm.sh/using_helm/#securing-your-helm-installation\n",
      "Waiting for deployment spec update to be observed...\n",
      "Waiting for deployment spec update to be observed...\n",
      "Waiting for deployment \"tiller-deploy\" rollout to finish: 0 of 1 updated replicas are available...\n",
      "deployment \"tiller-deploy\" successfully rolled out\n",
      "serviceaccount/tiller created\n",
      "clusterrolebinding.rbac.authorization.k8s.io/tiller-cluster-rule created\n",
      "deployment.extensions/tiller-deploy patched\n"
     ]
    }
   ],
   "source": [
    "!helm init --history-max 200\n",
    "!kubectl rollout status deploy/tiller-deploy -n kube-system\n",
    "!kubectl create serviceaccount --namespace kube-system tiller\n",
    "!kubectl create clusterrolebinding tiller-cluster-rule --clusterrole=cluster-admin --serviceaccount=kube-system:tiller\n",
    "!kubectl patch deploy --namespace kube-system tiller-deploy -p '{\"spec\":{\"template\":{\"spec\":{\"serviceAccount\":\"tiller\"}}}}'"
   ]
  },
  {
   "cell_type": "markdown",
   "metadata": {},
   "source": [
    "Next, we install `seldon-core` on the new cluster."
   ]
  },
  {
   "cell_type": "code",
   "execution_count": 7,
   "metadata": {},
   "outputs": [
    {
     "name": "stdout",
     "output_type": "stream",
     "text": [
      "NAME:   seldon-core\n",
      "LAST DEPLOYED: Wed Sep 18 11:17:36 2019\n",
      "NAMESPACE: seldon-system\n",
      "STATUS: DEPLOYED\n",
      "\n",
      "RESOURCES:\n",
      "==> v1/ClusterRole\n",
      "NAME                          AGE\n",
      "seldon-operator-manager-role  3s\n",
      "\n",
      "==> v1/ClusterRoleBinding\n",
      "NAME                                 AGE\n",
      "seldon-operator-manager-rolebinding  3s\n",
      "\n",
      "==> v1/ConfigMap\n",
      "NAME           DATA  AGE\n",
      "seldon-config  1     3s\n",
      "\n",
      "==> v1/Pod(related)\n",
      "NAME                                  READY  STATUS             RESTARTS  AGE\n",
      "seldon-operator-controller-manager-0  0/1    ContainerCreating  0         1s\n",
      "\n",
      "==> v1/Secret\n",
      "NAME                                   TYPE    DATA  AGE\n",
      "seldon-operator-webhook-server-secret  Opaque  0     3s\n",
      "\n",
      "==> v1/Service\n",
      "NAME                                        TYPE       CLUSTER-IP    EXTERNAL-IP  PORT(S)  AGE\n",
      "seldon-operator-controller-manager-service  ClusterIP  10.109.215.4  <none>       443/TCP  2s\n",
      "webhook-server-service                      ClusterIP  10.103.10.81  <none>       443/TCP  2s\n",
      "\n",
      "==> v1/ServiceAccount\n",
      "NAME                              SECRETS  AGE\n",
      "seldon-core-seldon-core-operator  1        3s\n",
      "\n",
      "==> v1/StatefulSet\n",
      "NAME                                READY  AGE\n",
      "seldon-operator-controller-manager  0/1    2s\n",
      "\n",
      "==> v1beta1/CustomResourceDefinition\n",
      "NAME                                         AGE\n",
      "seldondeployments.machinelearning.seldon.io  3s\n",
      "\n",
      "\n",
      "NOTES:\n",
      "NOTES: TODO\n",
      "\n",
      "\n",
      "Waiting for 1 pods to be ready...\n",
      "partitioned roll out complete: 1 new pods have been updated...\n"
     ]
    }
   ],
   "source": [
    "!helm install ../helm-charts/seldon-core-operator --name seldon-core --set usagemetrics.enabled=true --namespace seldon-system --set ambassador.enabled=true\n",
    "!kubectl rollout status statefulset.apps/seldon-operator-controller-manager -n seldon-system"
   ]
  },
  {
   "cell_type": "markdown",
   "metadata": {},
   "source": [
    "Finally, we install `ambassador` which will allow us to reach the Seldon engine in the cluster."
   ]
  },
  {
   "cell_type": "code",
   "execution_count": 8,
   "metadata": {},
   "outputs": [
    {
     "name": "stdout",
     "output_type": "stream",
     "text": [
      "NAME:   ambassador\n",
      "LAST DEPLOYED: Wed Sep 18 11:18:14 2019\n",
      "NAMESPACE: default\n",
      "STATUS: DEPLOYED\n",
      "\n",
      "RESOURCES:\n",
      "==> v1/Deployment\n",
      "NAME        READY  UP-TO-DATE  AVAILABLE  AGE\n",
      "ambassador  0/3    3           0          3s\n",
      "\n",
      "==> v1/Pod(related)\n",
      "NAME                         READY  STATUS             RESTARTS  AGE\n",
      "ambassador-5784b5cb9d-2jr8x  0/1    ContainerCreating  0         2s\n",
      "ambassador-5784b5cb9d-2tq48  0/1    ContainerCreating  0         2s\n",
      "ambassador-5784b5cb9d-j4k85  0/1    ContainerCreating  0         2s\n",
      "\n",
      "==> v1/Service\n",
      "NAME              TYPE          CLUSTER-IP     EXTERNAL-IP  PORT(S)                     AGE\n",
      "ambassador        LoadBalancer  10.110.97.64   <pending>    80:30872/TCP,443:32557/TCP  3s\n",
      "ambassador-admin  ClusterIP     10.105.105.80  <none>       8877/TCP                    3s\n",
      "\n",
      "==> v1/ServiceAccount\n",
      "NAME        SECRETS  AGE\n",
      "ambassador  1        3s\n",
      "\n",
      "==> v1beta1/ClusterRole\n",
      "NAME             AGE\n",
      "ambassador       3s\n",
      "ambassador-crds  3s\n",
      "\n",
      "==> v1beta1/ClusterRoleBinding\n",
      "NAME             AGE\n",
      "ambassador       3s\n",
      "ambassador-crds  3s\n",
      "\n",
      "==> v1beta1/CustomResourceDefinition\n",
      "NAME                                          AGE\n",
      "authservices.getambassador.io                 3s\n",
      "consulresolvers.getambassador.io              3s\n",
      "kubernetesendpointresolvers.getambassador.io  3s\n",
      "kubernetesserviceresolvers.getambassador.io   3s\n",
      "mappings.getambassador.io                     3s\n",
      "modules.getambassador.io                      3s\n",
      "ratelimitservices.getambassador.io            3s\n",
      "tcpmappings.getambassador.io                  3s\n",
      "tlscontexts.getambassador.io                  3s\n",
      "tracingservices.getambassador.io              3s\n",
      "\n",
      "\n",
      "NOTES:\n",
      "Congratuations! You've successfully installed Ambassador.\n",
      "\n",
      "For help, visit our Slack at https://d6e.co/slack or view the documentation online at https://www.getambassador.io.\n",
      "\n",
      "To get the IP address of Ambassador, run the following commands:\n",
      "NOTE: It may take a few minutes for the LoadBalancer IP to be available.\n",
      "     You can watch the status of by running 'kubectl get svc -w  --namespace default ambassador'\n",
      "\n",
      "  On GKE/Azure:\n",
      "  export SERVICE_IP=$(kubectl get svc --namespace default ambassador -o jsonpath='{.status.loadBalancer.ingress[0].ip}')\n",
      "\n",
      "  On AWS:\n",
      "  export SERVICE_IP=$(kubectl get svc --namespace default ambassador -o jsonpath='{.status.loadBalancer.ingress[0].hostname}')\n",
      "\n",
      "  echo http://$SERVICE_IP:\n",
      "\n",
      "Waiting for deployment \"ambassador\" rollout to finish: 0 of 3 updated replicas are available...\n",
      "Waiting for deployment \"ambassador\" rollout to finish: 1 of 3 updated replicas are available...\n",
      "Waiting for deployment \"ambassador\" rollout to finish: 2 of 3 updated replicas are available...\n",
      "deployment \"ambassador\" successfully rolled out\n"
     ]
    }
   ],
   "source": [
    "!helm install stable/ambassador --name ambassador --set crds.keep=false\n",
    "!kubectl rollout status deployment.apps/ambassador"
   ]
  },
  {
   "cell_type": "markdown",
   "metadata": {},
   "source": [
    "### Dummy Model\n",
    "\n",
    "To test how `seldon-core` processes the output to prevent XSS attacks we will use a dummy model which just replies with whatever input we send.\n",
    "The code for this model can be seen below."
   ]
  },
  {
   "cell_type": "code",
   "execution_count": 24,
   "metadata": {},
   "outputs": [
    {
     "name": "stdout",
     "output_type": "stream",
     "text": [
      "\u001b[34mclass\u001b[39;49;00m \u001b[04m\u001b[32mXSSModel\u001b[39;49;00m(\u001b[36mobject\u001b[39;49;00m):\r\n",
      "    \u001b[33m\"\"\"\u001b[39;49;00m\r\n",
      "\u001b[33m    Dummy model which just returns its input back.\u001b[39;49;00m\r\n",
      "\u001b[33m    \"\"\"\u001b[39;49;00m\r\n",
      "\r\n",
      "    \u001b[34mdef\u001b[39;49;00m \u001b[32mpredict\u001b[39;49;00m(\u001b[36mself\u001b[39;49;00m, X, feature_names):\r\n",
      "        \u001b[34mreturn\u001b[39;49;00m X\r\n"
     ]
    }
   ],
   "source": [
    "!pygmentize ./XSSModel.py"
   ]
  },
  {
   "cell_type": "markdown",
   "metadata": {},
   "source": [
    "Firstly, we will build an appropiate image using `s2i`.\n",
    "The name of this image will be `xss-model:0.1`."
   ]
  },
  {
   "cell_type": "code",
   "execution_count": 25,
   "metadata": {},
   "outputs": [
    {
     "name": "stdout",
     "output_type": "stream",
     "text": [
      "s2i build . seldonio/seldon-core-s2i-python3:0.7 xss-model:0.1\n",
      "error: Unable to load docker config: json: cannot unmarshal string into Go value of type docker.dockerConfig\n",
      "---> Installing application source...\n",
      "Build completed successfully\n"
     ]
    }
   ],
   "source": [
    "!make build_image"
   ]
  },
  {
   "cell_type": "markdown",
   "metadata": {},
   "source": [
    "We are now ready to spin up a service running our model.\n",
    "Note that before, we need to load the image into our `kind` cluster."
   ]
  },
  {
   "cell_type": "code",
   "execution_count": 26,
   "metadata": {},
   "outputs": [],
   "source": [
    "!kind load docker-image xss-model:0.1"
   ]
  },
  {
   "cell_type": "code",
   "execution_count": 27,
   "metadata": {},
   "outputs": [
    {
     "name": "stdout",
     "output_type": "stream",
     "text": [
      "{\r\n",
      "  \u001b[94m\"apiVersion\"\u001b[39;49;00m: \u001b[33m\"machinelearning.seldon.io/v1alpha2\"\u001b[39;49;00m,\r\n",
      "  \u001b[94m\"kind\"\u001b[39;49;00m: \u001b[33m\"SeldonDeployment\"\u001b[39;49;00m,\r\n",
      "  \u001b[94m\"metadata\"\u001b[39;49;00m: {\r\n",
      "    \u001b[94m\"labels\"\u001b[39;49;00m: {\r\n",
      "      \u001b[94m\"app\"\u001b[39;49;00m: \u001b[33m\"seldon\"\u001b[39;49;00m\r\n",
      "    },\r\n",
      "    \u001b[94m\"name\"\u001b[39;49;00m: \u001b[33m\"xss-example\"\u001b[39;49;00m\r\n",
      "  },\r\n",
      "  \u001b[94m\"spec\"\u001b[39;49;00m: {\r\n",
      "    \u001b[94m\"name\"\u001b[39;49;00m: \u001b[33m\"xss-example\"\u001b[39;49;00m,\r\n",
      "    \u001b[94m\"predictors\"\u001b[39;49;00m: [\r\n",
      "      {\r\n",
      "        \u001b[94m\"componentSpecs\"\u001b[39;49;00m: [\r\n",
      "          {\r\n",
      "            \u001b[94m\"spec\"\u001b[39;49;00m: {\r\n",
      "              \u001b[94m\"containers\"\u001b[39;49;00m: [\r\n",
      "                {\r\n",
      "                  \u001b[94m\"image\"\u001b[39;49;00m: \u001b[33m\"xss-model:0.1\"\u001b[39;49;00m,\r\n",
      "                  \u001b[94m\"imagePullPolicy\"\u001b[39;49;00m: \u001b[33m\"IfNotPresent\"\u001b[39;49;00m,\r\n",
      "                  \u001b[94m\"name\"\u001b[39;49;00m: \u001b[33m\"xss-model\"\u001b[39;49;00m\r\n",
      "                }\r\n",
      "              ]\r\n",
      "            }\r\n",
      "          }\r\n",
      "        ],\r\n",
      "        \u001b[94m\"graph\"\u001b[39;49;00m: {\r\n",
      "          \u001b[94m\"children\"\u001b[39;49;00m: [],\r\n",
      "          \u001b[94m\"name\"\u001b[39;49;00m: \u001b[33m\"xss-model\"\u001b[39;49;00m,\r\n",
      "          \u001b[94m\"endpoint\"\u001b[39;49;00m: {\r\n",
      "            \u001b[94m\"type\"\u001b[39;49;00m: \u001b[33m\"REST\"\u001b[39;49;00m\r\n",
      "          },\r\n",
      "          \u001b[94m\"type\"\u001b[39;49;00m: \u001b[33m\"MODEL\"\u001b[39;49;00m\r\n",
      "        },\r\n",
      "        \u001b[94m\"name\"\u001b[39;49;00m: \u001b[33m\"xss-model\"\u001b[39;49;00m,\r\n",
      "        \u001b[94m\"replicas\"\u001b[39;49;00m: \u001b[34m1\u001b[39;49;00m\r\n",
      "      }\r\n",
      "    ]\r\n",
      "  }\r\n",
      "}\r\n"
     ]
    }
   ],
   "source": [
    "!pygmentize ./xss-example.json"
   ]
  },
  {
   "cell_type": "code",
   "execution_count": 28,
   "metadata": {},
   "outputs": [
    {
     "name": "stdout",
     "output_type": "stream",
     "text": [
      "seldondeployment.machinelearning.seldon.io/xss-example created\r\n"
     ]
    }
   ],
   "source": [
    "!kubectl apply -f ./xss-example.json"
   ]
  },
  {
   "cell_type": "markdown",
   "metadata": {},
   "source": [
    "To visualise what the model does and verify that everything is working we can make an example request using `curl`.\n",
    "Note that, on the request we are passing a string field as `{\"strData\": \"hello world\"}`.\n",
    "On the output, we receive the same field after being returned as-is by `XSSModel`."
   ]
  },
  {
   "cell_type": "code",
   "execution_count": 33,
   "metadata": {},
   "outputs": [
    {
     "name": "stdout",
     "output_type": "stream",
     "text": [
      "{\r\n",
      "  \"meta\": {\r\n",
      "    \"puid\": \"nrveldbrqohm83bc9snld5ktn1\",\r\n",
      "    \"tags\": {\r\n",
      "    },\r\n",
      "    \"routing\": {\r\n",
      "    },\r\n",
      "    \"requestPath\": {\r\n",
      "      \"xss-model\": \"xss-model:0.1\"\r\n",
      "    },\r\n",
      "    \"metrics\": []\r\n",
      "  },\r\n",
      "  \"strData\": \"hello world\"\r\n",
      "}"
     ]
    }
   ],
   "source": [
    "!curl \\\n",
    "    -X POST \\\n",
    "    -H 'Content-Type: application/json' \\\n",
    "    -d '{\"strData\": \"hello world\"}' \\\n",
    "    localhost:8003/seldon/default/xss-example/api/v0.1/predictions"
   ]
  },
  {
   "cell_type": "markdown",
   "metadata": {},
   "source": [
    "## Checking the response"
   ]
  },
  {
   "cell_type": "code",
   "execution_count": null,
   "metadata": {},
   "outputs": [],
   "source": []
  }
 ],
 "metadata": {
  "kernelspec": {
   "display_name": "Python 3",
   "language": "python",
   "name": "python3"
  },
  "language_info": {
   "codemirror_mode": {
    "name": "ipython",
    "version": 3
   },
   "file_extension": ".py",
   "mimetype": "text/x-python",
   "name": "python",
   "nbconvert_exporter": "python",
   "pygments_lexer": "ipython3",
   "version": "3.6.4"
  }
 },
 "nbformat": 4,
 "nbformat_minor": 2
}
