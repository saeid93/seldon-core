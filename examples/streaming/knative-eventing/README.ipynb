{
 "cells": [
  {
   "cell_type": "markdown",
   "metadata": {},
   "source": [
    "# Seldon Core Real Time Stream Processing with KNative Eventing \n",
    "\n",
    "In this example we will show how you can enable real time stream processing in Seldon Core by leveraging the KNative Eventing integration.\n",
    "\n",
    "In this example we will deploy a simple model containerised with Seldon Core and we will leverage the basic Seldon Core  integration with KNative Eventing which will allow us to connect it so it can receive cloud events as requests and return a cloudevent-enabled response which can be collected by other components."
   ]
  },
  {
   "cell_type": "markdown",
   "metadata": {},
   "source": [
    "## Pre-requisites\n",
    "\n",
    "You will require the following in order to go ahead:\n",
    "* Istio 1.42+ Installed ([Documentation Instructions](https://istio.io/docs/setup/install/helm/))\n",
    "* KNative Eventing 0.13 installed ([Documentation Instructions](https://knative.dev/docs/install/any-kubernetes-cluster/))\n",
    "* Seldon Core v1.1+ installed with Istio Ingress Enabled ([Documentation Instructions](https://docs.seldon.io/projects/seldon-core/en/latest/workflow/install.html#ingress-support))"
   ]
  },
  {
   "cell_type": "markdown",
   "metadata": {},
   "source": [
    "## Deploy your Seldon Model\n",
    "\n",
    "We will first deploy our model using Seldon Core. In this case we'll use one of the [pre-packaged model servers](https://docs.seldon.io/projects/seldon-core/en/latest/servers/overview.html).\n",
    "\n",
    "We first createa  configuration file:"
   ]
  },
  {
   "cell_type": "code",
   "execution_count": 1,
   "metadata": {},
   "outputs": [
    {
     "name": "stdout",
     "output_type": "stream",
     "text": [
      "Overwriting ./assets/simple-iris-deployment.yaml\n"
     ]
    }
   ],
   "source": [
    "%%writefile ./assets/simple-iris-deployment.yaml\n",
    "\n",
    "apiVersion: machinelearning.seldon.io/v1\n",
    "kind: SeldonDeployment\n",
    "metadata:\n",
    "  name: simple-iris-deployment\n",
    "spec:\n",
    "  name: simple-iris-spec\n",
    "  predictors:\n",
    "  - graph:\n",
    "      implementation: SKLEARN_SERVER\n",
    "      modelUri: gs://seldon-models/sklearn/iris\n",
    "      name: simple-iris-model\n",
    "      children: []\n",
    "    name: simple-iris-predictor\n",
    "    replicas: 1\n"
   ]
  },
  {
   "cell_type": "markdown",
   "metadata": {},
   "source": [
    "### Run the model in our cluster\n",
    "\n",
    "Now we run the Seldon Deployment configuration file we just created."
   ]
  },
  {
   "cell_type": "code",
   "execution_count": 2,
   "metadata": {},
   "outputs": [
    {
     "name": "stdout",
     "output_type": "stream",
     "text": [
      "seldondeployment.machinelearning.seldon.io/simple-iris-deployment created\r\n"
     ]
    }
   ],
   "source": [
    "!kubectl apply -f assets/simple-iris-deployment.yaml"
   ]
  },
  {
   "cell_type": "markdown",
   "metadata": {},
   "source": [
    "### Check that the model has been deployed\n",
    "\n"
   ]
  },
  {
   "cell_type": "code",
   "execution_count": 3,
   "metadata": {},
   "outputs": [
    {
     "name": "stdout",
     "output_type": "stream",
     "text": [
      "NAME                                                              READY   STATUS      RESTARTS   AGE\r\n",
      "default-broker-filter-7ffddb5dcc-pdbdt                            1/1     Running     0          16d\r\n",
      "default-broker-ingress-5cfc4c8cbc-dqr82                           1/1     Running     0          16d\r\n",
      "event-display-7c69959598-txxdg                                    1/1     Running     0          5d21h\r\n",
      "seldon-controller-manager-5f8cfb4648-pfdqv                        1/1     Running     0          15h\r\n",
      "simple-iris-deployment-simple-iris-predictor-0-55d5578cc9-s9lt7   0/2     Running     0          5s\r\n",
      "steps-s5gh8-282828583                                             0/2     Completed   0          25h\r\n",
      "steps-s5gh8-460776080                                             0/2     Completed   0          25h\r\n",
      "steps-s5gh8-511108937                                             0/2     Completed   0          25h\r\n"
     ]
    }
   ],
   "source": [
    "!kubectl get pods"
   ]
  },
  {
   "cell_type": "markdown",
   "metadata": {},
   "source": [
    "## Create a Trigger to reach our model "
   ]
  },
  {
   "cell_type": "markdown",
   "metadata": {},
   "source": [
    "We want to create a trigger that is able to reach directly to the service.\n",
    "\n",
    "We will be using the following seldon deployment:"
   ]
  },
  {
   "cell_type": "code",
   "execution_count": 4,
   "metadata": {},
   "outputs": [
    {
     "name": "stdout",
     "output_type": "stream",
     "text": [
      "NAME                     AGE\r\n",
      "simple-iris-deployment   89s\r\n"
     ]
    }
   ],
   "source": [
    "!kubectl get sdep"
   ]
  },
  {
   "cell_type": "markdown",
   "metadata": {},
   "source": [
    "### Create trigger configuration"
   ]
  },
  {
   "cell_type": "code",
   "execution_count": 6,
   "metadata": {},
   "outputs": [
    {
     "name": "stdout",
     "output_type": "stream",
     "text": [
      "Overwriting ./assets/seldon-knative-trigger.yaml\n"
     ]
    }
   ],
   "source": [
    "%%writefile ./assets/seldon-knative-trigger.yaml\n",
    "\n",
    "apiVersion: eventing.knative.dev/v1beta1\n",
    "kind: Trigger\n",
    "metadata:\n",
    "  name: seldon-eventing-sklearn-trigger\n",
    "spec:\n",
    "  broker: default\n",
    "  filter:\n",
    "    attributes:\n",
    "      type: seldon.simple-iris-deployment.default.request\n",
    "  subscriber:\n",
    "    ref: \n",
    "      apiVersion: machinelearning.seldon.io/v1\n",
    "      kind: SeldonDeployment\n",
    "      name: simple-iris-deployment\n"
   ]
  },
  {
   "cell_type": "markdown",
   "metadata": {},
   "source": [
    "Create this trigger file which will send all cloudevents of type `\"seldon.<deploymentName>.request\"`."
   ]
  },
  {
   "cell_type": "code",
   "execution_count": 7,
   "metadata": {},
   "outputs": [
    {
     "name": "stdout",
     "output_type": "stream",
     "text": [
      "trigger.eventing.knative.dev/seldon-eventing-sklearn-trigger configured\r\n"
     ]
    }
   ],
   "source": [
    "!kubectl apply -f assets/seldon-knative-trigger.yaml"
   ]
  },
  {
   "cell_type": "markdown",
   "metadata": {},
   "source": [
    "CHeck that the trigger is working correctly (you should see \"Ready: True\"), together with the URL that will be reached."
   ]
  },
  {
   "cell_type": "code",
   "execution_count": 9,
   "metadata": {},
   "outputs": [
    {
     "name": "stdout",
     "output_type": "stream",
     "text": [
      "NAME                              READY   REASON   BROKER    SUBSCRIBER_URI                                                                                                          AGE\r\n",
      "event-display                     True             default   http://event-display.default.svc.cluster.local/                                                                         9d\r\n",
      "seldon-eventing-sklearn-trigger   True             default   http://istio-ingressgateway.istio-system.svc.cluster.local/seldon/default/simple-iris-deployment/api/v1.0/predictions   2d3h\r\n"
     ]
    }
   ],
   "source": [
    "!kubectl get trigger "
   ]
  },
  {
   "cell_type": "markdown",
   "metadata": {},
   "source": [
    "### Send a request to the KNative Eventing default broker\n",
    "\n",
    "To send requests we can do so by sending a curl command from a pod inside of the cluster."
   ]
  },
  {
   "cell_type": "code",
   "execution_count": 10,
   "metadata": {},
   "outputs": [
    {
     "name": "stdout",
     "output_type": "stream",
     "text": [
      "> POST / HTTP/1.1\r",
      "\r",
      "\r\n",
      "> User-Agent: curl/7.35.0\r",
      "\r",
      "\r\n",
      "> Host: default-broker.default.svc.cluster.local\r",
      "\r",
      "\r\n",
      "> Accept: */*\r",
      "\r",
      "\r\n",
      "> Ce-Id: 536808d3-88be-4077-9d7a-a3f162705f79\r",
      "\r",
      "\r\n",
      "> Ce-specversion: 0.3\r",
      "\r",
      "\r\n",
      "> Ce-Type: seldon.simple-iris-deployment.default.request\r",
      "\r",
      "\r\n",
      "> Ce-Source: seldon.examples.streaming.curl\r",
      "\r",
      "\r\n",
      "> Content-Type: application/json\r",
      "\r",
      "\r\n",
      "> Content-Length: 35\r",
      "\r",
      "\r\n",
      "> \r",
      "\r",
      "\r\n",
      "< HTTP/1.1 202 Accepted\r",
      "\r",
      "\r\n",
      "< Content-Length: 0\r",
      "\r",
      "\r\n",
      "< Date: Fri, 27 Mar 2020 00:10:24 GMT\r",
      "\r",
      "\r\n",
      "< \r",
      "\r",
      "\r\n"
     ]
    }
   ],
   "source": [
    "!kubectl run --quiet=true -it --rm curl --image=radial/busyboxplus:curl --restart=Never -- \\\n",
    "    curl -v \"default-broker.default.svc.cluster.local\" \\\n",
    "        -H \"Ce-Id: 536808d3-88be-4077-9d7a-a3f162705f79\" \\\n",
    "        -H \"Ce-specversion: 0.3\" \\\n",
    "        -H \"Ce-Type: seldon.simple-iris-deployment.default.request\" \\\n",
    "        -H \"Ce-Source: seldon.examples.streaming.curl\" \\\n",
    "        -H \"Content-Type: application/json\" \\\n",
    "        -d '{\"data\": { \"ndarray\": [[1,2,3,4]]}}'"
   ]
  },
  {
   "cell_type": "markdown",
   "metadata": {},
   "source": [
    "### Check our model has received it\n",
    "\n",
    "We can do this by checking the logs (we can query the logs through the service name) and see that the request has been processed"
   ]
  },
  {
   "cell_type": "code",
   "execution_count": 11,
   "metadata": {},
   "outputs": [
    {
     "name": "stdout",
     "output_type": "stream",
     "text": [
      "   WARNING: This is a development server. Do not use it in a production deployment.\r\n",
      "   Use a production WSGI server instead.\r\n",
      " * Debug mode: off\r\n",
      "2020-03-27 00:07:09,902 - werkzeug:_log:122 - INFO:   * Running on http://0.0.0.0:9000/ (Press CTRL+C to quit)\r\n",
      "2020-03-27 00:10:24,689 - SKLearnServer:predict:37 - INFO:  Calling predict_proba\r\n",
      "2020-03-27 00:10:24,690 - werkzeug:_log:122 - INFO:  127.0.0.1 - - [27/Mar/2020 00:10:24] \"\u001b[37mPOST /predict HTTP/1.1\u001b[0m\" 200 -\r\n"
     ]
    }
   ],
   "source": [
    "!kubectl logs svc/simple-iris-deployment-simple-iris-predictor simple-iris-model | tail -6"
   ]
  },
  {
   "cell_type": "markdown",
   "metadata": {},
   "source": [
    "## Connect a source to listen to the results of the seldon model\n",
    "\n",
    "Our Seldon Model is producing results which are sent back to KNative.\n",
    "\n",
    "This means that we can connect other subsequent services through a trigger that filters for those response cloudevents.\n",
    "\n",
    "### First create the service that willl print the results\n",
    "\n",
    "This is just a simple pod that prints all the request data into the console."
   ]
  },
  {
   "cell_type": "code",
   "execution_count": 12,
   "metadata": {},
   "outputs": [
    {
     "name": "stdout",
     "output_type": "stream",
     "text": [
      "Overwriting ./assets/event-display-deployment.yaml\n"
     ]
    }
   ],
   "source": [
    "%%writefile ./assets/event-display-deployment.yaml\n",
    "\n",
    "# event-display app deploment\n",
    "apiVersion: apps/v1\n",
    "kind: Deployment\n",
    "metadata:\n",
    "  name: event-display\n",
    "spec:\n",
    "  replicas: 1\n",
    "  selector:\n",
    "    matchLabels: &labels\n",
    "      app: event-display\n",
    "  template:\n",
    "    metadata:\n",
    "      labels: *labels\n",
    "    spec:\n",
    "      containers:\n",
    "        - name: helloworld-python\n",
    "          image: gcr.io/knative-releases/github.com/knative/eventing-sources/cmd/event_display\n",
    "---\n",
    "# Service that exposes event-display app.\n",
    "# This will be the subscriber for the Trigger\n",
    "kind: Service\n",
    "apiVersion: v1\n",
    "metadata:\n",
    "  name: event-display\n",
    "spec:\n",
    "  selector:\n",
    "    app: event-display\n",
    "  ports:\n",
    "    - protocol: TCP\n",
    "      port: 80\n",
    "      targetPort: 8080\n"
   ]
  },
  {
   "cell_type": "markdown",
   "metadata": {},
   "source": [
    "### Now run the event display resources"
   ]
  },
  {
   "cell_type": "code",
   "execution_count": 13,
   "metadata": {},
   "outputs": [
    {
     "name": "stdout",
     "output_type": "stream",
     "text": [
      "deployment.apps/event-display unchanged\r\n",
      "service/event-display unchanged\r\n"
     ]
    }
   ],
   "source": [
    "!kubectl apply -f assets/event-display-deployment.yaml"
   ]
  },
  {
   "cell_type": "markdown",
   "metadata": {},
   "source": [
    "### Check that the event display has been deployed"
   ]
  },
  {
   "cell_type": "code",
   "execution_count": 14,
   "metadata": {},
   "outputs": [
    {
     "name": "stdout",
     "output_type": "stream",
     "text": [
      "event-display-7c69959598-txxdg                                    1/1     Running     0          5d21h\r\n"
     ]
    }
   ],
   "source": [
    "!kubectl get pods | grep event"
   ]
  },
  {
   "cell_type": "markdown",
   "metadata": {},
   "source": [
    "### Create trigger for event display\n",
    "\n",
    "We now can create a trigger that sends all the requests of the type and source created by the seldon deployment to our event display pod"
   ]
  },
  {
   "cell_type": "code",
   "execution_count": 18,
   "metadata": {},
   "outputs": [
    {
     "name": "stdout",
     "output_type": "stream",
     "text": [
      "Overwriting ./assets/event-display-trigger.yaml\n"
     ]
    }
   ],
   "source": [
    "%%writefile ./assets/event-display-trigger.yaml\n",
    "\n",
    "# Trigger to send events to service above\n",
    "apiVersion: eventing.knative.dev/v1alpha1\n",
    "kind: Trigger\n",
    "metadata:\n",
    "  name: event-display\n",
    "spec:\n",
    "  broker: default\n",
    "  filter:\n",
    "    attributes:\n",
    "      type: seldon.simple-iris-deployment.default.response\n",
    "      source: seldon.simple-iris-deployment\n",
    "  subscriber:\n",
    "    ref:\n",
    "      apiVersion: v1\n",
    "      kind: Service\n",
    "      name: event-display\n"
   ]
  },
  {
   "cell_type": "markdown",
   "metadata": {},
   "source": [
    "### Apply that trigger"
   ]
  },
  {
   "cell_type": "code",
   "execution_count": 19,
   "metadata": {},
   "outputs": [
    {
     "name": "stdout",
     "output_type": "stream",
     "text": [
      "trigger.eventing.knative.dev/event-display configured\r\n"
     ]
    }
   ],
   "source": [
    "!kubectl apply -f assets/event-display-trigger.yaml"
   ]
  },
  {
   "cell_type": "markdown",
   "metadata": {},
   "source": [
    "### Check our triggers are correctly set up\n",
    "\n",
    "We now should see the event trigger available."
   ]
  },
  {
   "cell_type": "code",
   "execution_count": 20,
   "metadata": {},
   "outputs": [
    {
     "name": "stdout",
     "output_type": "stream",
     "text": [
      "NAME                              READY   REASON   BROKER    SUBSCRIBER_URI                                                                                                          AGE\r\n",
      "event-display                     True             default   http://event-display.default.svc.cluster.local/                                                                         9d\r\n",
      "seldon-eventing-sklearn-trigger   True             default   http://istio-ingressgateway.istio-system.svc.cluster.local/seldon/default/simple-iris-deployment/api/v1.0/predictions   2d3h\r\n"
     ]
    }
   ],
   "source": [
    "!kubectl get trigger"
   ]
  },
  {
   "cell_type": "markdown",
   "metadata": {},
   "source": [
    "## Send a couple of requests more\n",
    "\n",
    "We can use the same process we outlined above to send a couple more events.\n"
   ]
  },
  {
   "cell_type": "code",
   "execution_count": 56,
   "metadata": {},
   "outputs": [
    {
     "name": "stdout",
     "output_type": "stream",
     "text": [
      "> POST / HTTP/1.1\r",
      "\r",
      "\r\n",
      "> User-Agent: curl/7.35.0\r",
      "\r",
      "\r\n",
      "> Host: default-broker.default.svc.cluster.local\r",
      "\r",
      "\r\n",
      "> Accept: */*\r",
      "\r",
      "\r\n",
      "> Ce-Id: 536808d3-88be-4077-9d7a-a3f162705f79\r",
      "\r",
      "\r\n",
      "> Ce-Specversion: 0.3\r",
      "\r",
      "\r\n",
      "> Ce-Type: seldon.simple-iris-deployment.default.request\r",
      "\r",
      "\r\n",
      "> Ce-Source: dev.knative.samples/helloworldsource\r",
      "\r",
      "\r\n",
      "> Content-Type: application/json\r",
      "\r",
      "\r\n",
      "> Content-Length: 35\r",
      "\r",
      "\r\n",
      "> \r",
      "\r",
      "\r\n",
      "< HTTP/1.1 202 Accepted\r",
      "\r",
      "\r\n",
      "< Content-Length: 0\r",
      "\r",
      "\r\n",
      "< Date: Fri, 27 Mar 2020 03:31:41 GMT\r",
      "\r",
      "\r\n",
      "< \r",
      "\r",
      "\r\n"
     ]
    }
   ],
   "source": [
    "!kubectl run --quiet=true -it --rm curl --image=radial/busyboxplus:curl --restart=Never -- \\\n",
    "    curl -v \"default-broker.default.svc.cluster.local\" \\\n",
    "        -H \"Ce-Id: 536808d3-88be-4077-9d7a-a3f162705f79\" \\\n",
    "        -H \"Ce-Specversion: 0.3\" \\\n",
    "        -H \"Ce-Type: seldon.simple-iris-deployment.default.request\" \\\n",
    "        -H \"Ce-Source: dev.knative.samples/helloworldsource\" \\\n",
    "        -H \"Content-Type: application/json\" \\\n",
    "        -d '{\"data\": { \"ndarray\": [[1,2,3,4]]}}'"
   ]
  },
  {
   "cell_type": "markdown",
   "metadata": {},
   "source": [
    "### Visualise the requests that come from the service"
   ]
  },
  {
   "cell_type": "code",
   "execution_count": 49,
   "metadata": {},
   "outputs": [
    {
     "name": "stdout",
     "output_type": "stream",
     "text": [
      "          0.9956334415074478\r\n",
      "        ]\r\n",
      "      ]\r\n",
      "    },\r\n",
      "    \"meta\": {}\r\n",
      "  }\r\n",
      "\r\n",
      "☁️  cloudevents.Event\r\n",
      "Validation: valid\r\n",
      "Context Attributes,\r\n",
      "  specversion: 0.3\r\n",
      "  type: seldon.simple-iris-deployment.default.response\r\n",
      "  source: seldon.simple-iris-deployment\r\n",
      "  id: 4bd0a491-b1a8-4f85-a5e6-d3da747c939d\r\n",
      "  time: 2020-03-27T00:43:32.801881033Z\r\n",
      "  datacontenttype: application/json\r\n",
      "Extensions,\r\n",
      "  knativearrivaltime: 2020-03-27T00:43:32.804300441Z\r\n",
      "  knativehistory: default-kne-trigger-kn-channel.default.svc.cluster.local\r\n",
      "  path: /api/v1.0/predictions\r\n",
      "  traceparent: 00-054f70e1f0eeae112f0138019216500b-c692a208d475b9f0-00\r\n",
      "Data,\r\n",
      "  {\r\n",
      "    \"data\": {\r\n",
      "      \"names\": [\r\n",
      "        \"t:0\",\r\n",
      "        \"t:1\",\r\n",
      "        \"t:2\"\r\n",
      "      ],\r\n",
      "      \"ndarray\": [\r\n",
      "        [\r\n",
      "          0.8614284357776064,\r\n",
      "          0.13636332073414753,\r\n",
      "          0.002208243488246059\r\n",
      "        ]\r\n",
      "      ]\r\n",
      "    },\r\n",
      "    \"meta\": {}\r\n",
      "  }\r\n",
      "\r\n"
     ]
    }
   ],
   "source": [
    "!kubectl logs svc/event-display | tail -40"
   ]
  }
 ],
 "metadata": {
  "kernelspec": {
   "display_name": "Python 3",
   "language": "python",
   "name": "python3"
  },
  "language_info": {
   "codemirror_mode": {
    "name": "ipython",
    "version": 3
   },
   "file_extension": ".py",
   "mimetype": "text/x-python",
   "name": "python",
   "nbconvert_exporter": "python",
   "pygments_lexer": "ipython3",
   "version": "3.7.4"
  }
 },
 "nbformat": 4,
 "nbformat_minor": 2
}
