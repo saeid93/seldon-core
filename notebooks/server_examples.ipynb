{
 "cells": [
  {
   "cell_type": "markdown",
   "metadata": {},
   "source": [
    "# Example Model Servers with Seldon\n",
    "\n",
    "## Setup Seldon Core\n",
    "\n",
    "Use the setup notebook to [Setup Cluster](https://docs.seldon.io/projects/seldon-core/en/latest/examples/seldon_core_setup.html#Setup-Cluster) with [Ambassador Ingress](https://docs.seldon.io/projects/seldon-core/en/latest/examples/seldon_core_setup.html#Ambassador) and [Seldon Core](https://docs.seldon.io/projects/seldon-core/en/latest/examples/seldon_core_setup.html#Install-Seldon-Core). Instructions [also online](https://docs.seldon.io/projects/seldon-core/en/latest/examples/seldon_core_setup.html)."
   ]
  },
  {
   "cell_type": "code",
   "execution_count": 1,
   "metadata": {},
   "outputs": [
    {
     "name": "stdout",
     "output_type": "stream",
     "text": [
      "Error from server (AlreadyExists): namespaces \"seldon\" already exists\r\n"
     ]
    }
   ],
   "source": [
    "!kubectl create namespace seldon"
   ]
  },
  {
   "cell_type": "code",
   "execution_count": 16,
   "metadata": {},
   "outputs": [
    {
     "name": "stdout",
     "output_type": "stream",
     "text": [
      "Context \"kind-kind\" modified.\r\n"
     ]
    }
   ],
   "source": [
    "!kubectl config set-context $(kubectl config current-context) --namespace=seldon"
   ]
  },
  {
   "cell_type": "code",
   "execution_count": 3,
   "metadata": {},
   "outputs": [],
   "source": [
    "import json"
   ]
  },
  {
   "cell_type": "markdown",
   "metadata": {},
   "source": [
    "## Serve SKLearn Iris Model\n",
    "\n",
    "In order to deploy SKLearn artifacts, we can leverage the [pre-packaged SKLearn inference server](https://docs.seldon.io/projects/seldon-core/en/latest/servers/sklearn.html).\n",
    "The exposed API can follow either:\n",
    "\n",
    "- The default Seldon protocol. \n",
    "- The [KFServing V2 protocol](https://docs.seldon.io/projects/seldon-core/en/latest/servers/sklearn.html##v2-kfserving-protocol-incubating).\n",
    "\n",
    "For details on each of these protocols, you can check the [documentation section on API protocols](https://docs.seldon.io/projects/seldon-core/en/latest/graph/protocols.html#v2-kfserving-protocol).\n"
   ]
  },
  {
   "cell_type": "markdown",
   "metadata": {},
   "source": [
    "### Default Seldon protocol\n",
    "\n",
    "To deploy and start serving an SKLearn artifact using Seldon's default protocol, we can use a config like the one below:"
   ]
  },
  {
   "cell_type": "code",
   "execution_count": 25,
   "metadata": {},
   "outputs": [
    {
     "name": "stdout",
     "output_type": "stream",
     "text": [
      "Overwriting ../servers/sklearnserver/samples/iris.yaml\n"
     ]
    }
   ],
   "source": [
    "%%writefile ../servers/sklearnserver/samples/iris.yaml\n",
    "apiVersion: machinelearning.seldon.io/v1alpha2\n",
    "kind: SeldonDeployment\n",
    "metadata:\n",
    "  name: sklearn\n",
    "spec:\n",
    "  name: iris\n",
    "  predictors:\n",
    "  - graph:\n",
    "      children: []\n",
    "      implementation: SKLEARN_SERVER\n",
    "      modelUri: gs://seldon-models/sklearn/iris\n",
    "      name: classifier\n",
    "    name: default\n",
    "    replicas: 1\n",
    "    svcOrchSpec: \n",
    "      env: \n",
    "      - name: SELDON_LOG_LEVEL\n",
    "        value: DEBUG"
   ]
  },
  {
   "cell_type": "markdown",
   "metadata": {},
   "source": [
    "We can then apply it to deploy it to our Kubernetes cluster."
   ]
  },
  {
   "cell_type": "code",
   "execution_count": 26,
   "metadata": {},
   "outputs": [
    {
     "name": "stdout",
     "output_type": "stream",
     "text": [
      "seldondeployment.machinelearning.seldon.io/sklearn created\r\n"
     ]
    }
   ],
   "source": [
    "!kubectl apply -f ../servers/sklearnserver/samples/iris.yaml"
   ]
  },
  {
   "cell_type": "code",
   "execution_count": 27,
   "metadata": {},
   "outputs": [
    {
     "name": "stdout",
     "output_type": "stream",
     "text": [
      "deployment \"sklearn-default-0-classifier\" successfully rolled out\r\n"
     ]
    }
   ],
   "source": [
    "!kubectl rollout status deploy/$(kubectl get deploy -l seldon-deployment-id=sklearn -o jsonpath='{.items[0].metadata.name}')"
   ]
  },
  {
   "cell_type": "markdown",
   "metadata": {},
   "source": [
    "Once it's deployed we can send our sklearn model requests"
   ]
  },
  {
   "cell_type": "markdown",
   "metadata": {},
   "source": [
    "#### REST Requests"
   ]
  },
  {
   "cell_type": "code",
   "execution_count": 28,
   "metadata": {},
   "outputs": [
    {
     "name": "stdout",
     "output_type": "stream",
     "text": [
      "{'data': {'names': ['t:0', 't:1', 't:2'], 'ndarray': [[9.912315378486718e-07, 0.0007015931307743852, 0.9992974156376878]]}, 'meta': {}}\n"
     ]
    }
   ],
   "source": [
    "X=!curl -s -d '{\"data\": {\"ndarray\":[[1.0, 2.0, 5.0, 6.0]]}}' \\\n",
    "   -X POST http://localhost:8003/seldon/seldon/sklearn/api/v1.0/predictions \\\n",
    "   -H \"Content-Type: application/json\"\n",
    "d=json.loads(X[0])\n",
    "print(d)"
   ]
  },
  {
   "cell_type": "code",
   "execution_count": 29,
   "metadata": {},
   "outputs": [],
   "source": [
    "from seldon_core.seldon_client import SeldonClient\n",
    "sc = SeldonClient(deployment_name=\"sklearn\",namespace=\"seldon\")"
   ]
  },
  {
   "cell_type": "code",
   "execution_count": 30,
   "metadata": {},
   "outputs": [
    {
     "name": "stdout",
     "output_type": "stream",
     "text": [
      "Success:True message:\n",
      "Request:\n",
      "meta {\n",
      "}\n",
      "data {\n",
      "  tensor {\n",
      "    shape: 1\n",
      "    shape: 4\n",
      "    values: 0.6806334106409295\n",
      "    values: 0.28830360482888695\n",
      "    values: 0.8975654688578534\n",
      "    values: 0.24493223527153596\n",
      "  }\n",
      "}\n",
      "\n",
      "Response:\n",
      "{'data': {'names': ['t:0', 't:1', 't:2'], 'tensor': {'shape': [1, 3], 'values': [0.14449927217770223, 0.5104835080299303, 0.34501721979236755]}}, 'meta': {}}\n"
     ]
    }
   ],
   "source": [
    "r = sc.predict(gateway=\"ambassador\",transport=\"rest\",shape=(1,4))\n",
    "print(r)\n",
    "assert(r.success==True)"
   ]
  },
  {
   "cell_type": "markdown",
   "metadata": {},
   "source": [
    "#### gRPC Requests"
   ]
  },
  {
   "cell_type": "code",
   "execution_count": 31,
   "metadata": {},
   "outputs": [
    {
     "name": "stdout",
     "output_type": "stream",
     "text": [
      "Success:True message:\n",
      "Request:\n",
      "{'meta': {}, 'data': {'tensor': {'shape': [1, 4], 'values': [0.22157381246204433, 0.020827790786912548, 0.7633031884959527, 0.19217598516001178]}}}\n",
      "Response:\n",
      "{'meta': {}, 'data': {'names': ['t:0', 't:1', 't:2'], 'tensor': {'shape': [1, 3], 'values': [0.10758420949891327, 0.4796849750770796, 0.4127308154240072]}}}\n"
     ]
    }
   ],
   "source": [
    "r = sc.predict(gateway=\"ambassador\",transport=\"grpc\",shape=(1,4))\n",
    "print(r)\n",
    "assert(r.success==True)"
   ]
  },
  {
   "cell_type": "code",
   "execution_count": 32,
   "metadata": {
    "scrolled": true
   },
   "outputs": [
    {
     "name": "stdout",
     "output_type": "stream",
     "text": [
      "{'meta': {}, 'data': {'names': ['t:0', 't:1', 't:2'], 'ndarray': [[9.912315378486718e-07, 0.0007015931307743852, 0.9992974156376878]]}}\n"
     ]
    }
   ],
   "source": [
    "X=!cd ../executor/proto && grpcurl -d '{\"data\":{\"ndarray\":[[1.0,2.0,5.0,6.0]]}}' \\\n",
    "         -rpc-header seldon:sklearn -rpc-header namespace:seldon \\\n",
    "         -plaintext \\\n",
    "         -proto ./prediction.proto  0.0.0.0:8003 seldon.protos.Seldon/Predict\n",
    "d=json.loads(\"\".join(X))\n",
    "print(d)"
   ]
  },
  {
   "cell_type": "markdown",
   "metadata": {},
   "source": [
    "And delete the model we deployed"
   ]
  },
  {
   "cell_type": "code",
   "execution_count": 33,
   "metadata": {},
   "outputs": [
    {
     "name": "stdout",
     "output_type": "stream",
     "text": [
      "seldondeployment.machinelearning.seldon.io \"sklearn\" deleted\r\n"
     ]
    }
   ],
   "source": [
    "!kubectl delete -f ../servers/sklearnserver/samples/iris.yaml"
   ]
  },
  {
   "cell_type": "markdown",
   "metadata": {},
   "source": [
    "### KFServing V2 protocol\n",
    "\n",
    "We can deploy a SKLearn artifact, exposing an API compatible with [KFServing's V2 Protocol](https://docs.seldon.io/projects/seldon-core/en/latest/servers/sklearn.html##v2-kfserving-protocol-incubating) by specifying the `protocol` of our `SeldonDeployment` as `kfserving`.\n",
    "For example, we can consider the config below:"
   ]
  },
  {
   "cell_type": "code",
   "execution_count": 6,
   "metadata": {},
   "outputs": [
    {
     "name": "stdout",
     "output_type": "stream",
     "text": [
      "Overwriting ./resources/iris-sklearn-v2.yaml\n"
     ]
    }
   ],
   "source": [
    "%%writefile ./resources/iris-sklearn-v2.yaml\n",
    "apiVersion: machinelearning.seldon.io/v1\n",
    "kind: SeldonDeployment\n",
    "metadata:\n",
    "  name: sklearn\n",
    "spec:\n",
    "  name: iris\n",
    "  protocol: kfserving\n",
    "  predictors:\n",
    "  - graph:\n",
    "      children: []\n",
    "      implementation: SKLEARN_SERVER\n",
    "      modelUri: gs://seldon-models/sklearn/iris\n",
    "      name: classifier\n",
    "    name: default\n",
    "    replicas: 1"
   ]
  },
  {
   "cell_type": "markdown",
   "metadata": {},
   "source": [
    "We can then apply it to deploy our model to our Kubernetes cluster."
   ]
  },
  {
   "cell_type": "code",
   "execution_count": 2,
   "metadata": {},
   "outputs": [
    {
     "name": "stdout",
     "output_type": "stream",
     "text": [
      "seldondeployment.machinelearning.seldon.io/sklearn created\r\n"
     ]
    }
   ],
   "source": [
    "!kubectl apply -f resources/iris-sklearn-v2.yaml"
   ]
  },
  {
   "cell_type": "code",
   "execution_count": 3,
   "metadata": {},
   "outputs": [
    {
     "name": "stdout",
     "output_type": "stream",
     "text": [
      "Waiting for deployment \"sklearn-default-0-classifier\" rollout to finish: 0 of 1 updated replicas are available...\n",
      "deployment \"sklearn-default-0-classifier\" successfully rolled out\n"
     ]
    }
   ],
   "source": [
    "!kubectl rollout status deploy/$(kubectl get deploy -l seldon-deployment-id=sklearn -o jsonpath='{.items[0].metadata.name}')"
   ]
  },
  {
   "cell_type": "markdown",
   "metadata": {},
   "source": [
    "Once it's deployed, we can send inference requests to our model.\n",
    "Note that, since it's using the KFServing's V2 Protocol, these requests will be different to the ones using the default Seldon Protocol."
   ]
  },
  {
   "cell_type": "code",
   "execution_count": 4,
   "metadata": {},
   "outputs": [
    {
     "name": "stdout",
     "output_type": "stream",
     "text": [
      "{\n",
      "  \"model_name\": \"classifier\",\n",
      "  \"model_version\": \"v1\",\n",
      "  \"id\": \"5a0bce13-98e8-4588-9fc5-7c8b11140174\",\n",
      "  \"parameters\": null,\n",
      "  \"outputs\": [\n",
      "    {\n",
      "      \"name\": \"predict\",\n",
      "      \"shape\": [\n",
      "        1\n",
      "      ],\n",
      "      \"datatype\": \"FP32\",\n",
      "      \"parameters\": null,\n",
      "      \"data\": [\n",
      "        2\n",
      "      ]\n",
      "    }\n",
      "  ]\n",
      "}\n"
     ]
    }
   ],
   "source": [
    "import requests\n",
    "import json\n",
    "\n",
    "inference_request = {\n",
    "    \"inputs\": [\n",
    "        {\n",
    "          \"name\": \"predict\",\n",
    "          \"shape\": [1, 4],\n",
    "          \"datatype\": \"FP32\",\n",
    "          \"data\": [[1, 2, 3, 4]]\n",
    "        }\n",
    "    ]\n",
    "}\n",
    "\n",
    "endpoint = \"http://localhost:8003/seldon/seldon/sklearn/v2/models/infer\"\n",
    "response = requests.post(endpoint, json=inference_request)\n",
    "\n",
    "print(json.dumps(response.json(), indent=2))\n",
    "assert response.ok"
   ]
  },
  {
   "cell_type": "markdown",
   "metadata": {},
   "source": [
    "Finally, we can delete the model we deployed."
   ]
  },
  {
   "cell_type": "code",
   "execution_count": 5,
   "metadata": {},
   "outputs": [
    {
     "name": "stdout",
     "output_type": "stream",
     "text": [
      "seldondeployment.machinelearning.seldon.io \"sklearn\" deleted\r\n"
     ]
    }
   ],
   "source": [
    "!kubectl delete -f resources/iris-sklearn-v2.yaml"
   ]
  },
  {
   "cell_type": "markdown",
   "metadata": {},
   "source": [
    "## Serve XGBoost Iris Model\n",
    "\n",
    "In order to deploy XGBoost models, we can leverage the [pre-packaged XGBoost inference server](https://docs.seldon.io/projects/seldon-core/en/latest/servers/xgboost.html).\n",
    "The exposed API can follow either:\n",
    "\n",
    "- The default Seldon protocol. \n",
    "- The [KFServing V2 protocol](https://docs.seldon.io/projects/seldon-core/en/latest/servers/xgboost.html##v2-kfserving-protocol-incubating).\n",
    "\n",
    "For details on each of these protocols, you can check the [documentation section on API protocols](https://docs.seldon.io/projects/seldon-core/en/latest/graph/protocols.html#v2-kfserving-protocol)."
   ]
  },
  {
   "cell_type": "markdown",
   "metadata": {},
   "source": [
    "### Default Seldon protocol\n",
    "\n",
    "We can deploy a XGBoost model uploaded to an object store by using the XGBoost model server implementation as shown in the config below:"
   ]
  },
  {
   "cell_type": "code",
   "execution_count": 7,
   "metadata": {},
   "outputs": [
    {
     "name": "stdout",
     "output_type": "stream",
     "text": [
      "Writing resources/iris.yaml\n"
     ]
    }
   ],
   "source": [
    "%%writefile resources/iris.yaml\n",
    "apiVersion: machinelearning.seldon.io/v1\n",
    "kind: SeldonDeployment\n",
    "metadata:\n",
    "  name: xgboost\n",
    "spec:\n",
    "  name: iris\n",
    "  predictors:\n",
    "  - graph:\n",
    "      children: []\n",
    "      implementation: XGBOOST_SERVER\n",
    "      modelUri: gs://seldon-models/xgboost/iris\n",
    "      name: classifier\n",
    "    name: default\n",
    "    replicas: 1"
   ]
  },
  {
   "cell_type": "markdown",
   "metadata": {},
   "source": [
    "And then we apply it to deploy it to our kubernetes cluster"
   ]
  },
  {
   "cell_type": "code",
   "execution_count": 8,
   "metadata": {},
   "outputs": [
    {
     "name": "stdout",
     "output_type": "stream",
     "text": [
      "seldondeployment.machinelearning.seldon.io/xgboost created\r\n"
     ]
    }
   ],
   "source": [
    "!kubectl apply -f resources/iris.yaml"
   ]
  },
  {
   "cell_type": "code",
   "execution_count": 9,
   "metadata": {},
   "outputs": [
    {
     "name": "stdout",
     "output_type": "stream",
     "text": [
      "Waiting for deployment \"xgboost-default-0-classifier\" rollout to finish: 0 of 1 updated replicas are available...\n",
      "deployment \"xgboost-default-0-classifier\" successfully rolled out\n"
     ]
    }
   ],
   "source": [
    "!kubectl rollout status deploy/$(kubectl get deploy -l seldon-deployment-id=xgboost -o jsonpath='{.items[0].metadata.name}')"
   ]
  },
  {
   "cell_type": "markdown",
   "metadata": {},
   "source": [
    "#### Rest Requests"
   ]
  },
  {
   "cell_type": "code",
   "execution_count": 10,
   "metadata": {},
   "outputs": [
    {
     "name": "stdout",
     "output_type": "stream",
     "text": [
      "{'data': {'names': [], 'ndarray': [2.0]}, 'meta': {}}\n"
     ]
    }
   ],
   "source": [
    "X=!curl -s -d '{\"data\": {\"ndarray\":[[1.0, 2.0, 5.0, 6.0]]}}' \\\n",
    "   -X POST http://localhost:8003/seldon/seldon/xgboost/api/v1.0/predictions \\\n",
    "   -H \"Content-Type: application/json\"\n",
    "d=json.loads(X[0])\n",
    "print(d)"
   ]
  },
  {
   "cell_type": "code",
   "execution_count": 11,
   "metadata": {},
   "outputs": [],
   "source": [
    "from seldon_core.seldon_client import SeldonClient\n",
    "sc = SeldonClient(deployment_name=\"xgboost\",namespace=\"seldon\")"
   ]
  },
  {
   "cell_type": "code",
   "execution_count": 12,
   "metadata": {},
   "outputs": [
    {
     "name": "stdout",
     "output_type": "stream",
     "text": [
      "Success:True message:\n",
      "Request:\n",
      "meta {\n",
      "}\n",
      "data {\n",
      "  tensor {\n",
      "    shape: 1\n",
      "    shape: 4\n",
      "    values: 0.617330874549778\n",
      "    values: 0.4955768380888388\n",
      "    values: 0.8325074250157055\n",
      "    values: 0.29623988728724804\n",
      "  }\n",
      "}\n",
      "\n",
      "Response:\n",
      "{'data': {'names': [], 'tensor': {'shape': [1], 'values': [0.0]}}, 'meta': {}}\n"
     ]
    }
   ],
   "source": [
    "r = sc.predict(gateway=\"ambassador\",transport=\"rest\",shape=(1,4))\n",
    "print(r)\n",
    "assert(r.success==True)"
   ]
  },
  {
   "cell_type": "markdown",
   "metadata": {},
   "source": [
    "#### gRPC Requests"
   ]
  },
  {
   "cell_type": "code",
   "execution_count": 13,
   "metadata": {},
   "outputs": [
    {
     "name": "stdout",
     "output_type": "stream",
     "text": [
      "Success:True message:\n",
      "Request:\n",
      "{'meta': {}, 'data': {'tensor': {'shape': [1, 4], 'values': [0.7029137333313852, 0.9422923262038959, 0.7271094013077166, 0.18443703566724434]}}}\n",
      "Response:\n",
      "{'meta': {}, 'data': {'tensor': {'shape': [1], 'values': [0.0]}}}\n"
     ]
    }
   ],
   "source": [
    "r = sc.predict(gateway=\"ambassador\",transport=\"grpc\",shape=(1,4))\n",
    "print(r)\n",
    "assert(r.success==True)"
   ]
  },
  {
   "cell_type": "code",
   "execution_count": 14,
   "metadata": {
    "scrolled": true
   },
   "outputs": [
    {
     "name": "stdout",
     "output_type": "stream",
     "text": [
      "{'meta': {}, 'data': {'ndarray': [2]}}\n"
     ]
    }
   ],
   "source": [
    "X=!cd ../executor/proto && grpcurl -d '{\"data\":{\"ndarray\":[[1.0,2.0,5.0,6.0]]}}' \\\n",
    "         -rpc-header seldon:xgboost -rpc-header namespace:seldon \\\n",
    "         -plaintext \\\n",
    "         -proto ./prediction.proto  0.0.0.0:8003 seldon.protos.Seldon/Predict\n",
    "d=json.loads(\"\".join(X))\n",
    "print(d)"
   ]
  },
  {
   "cell_type": "markdown",
   "metadata": {},
   "source": [
    "And delete the model we deployed"
   ]
  },
  {
   "cell_type": "code",
   "execution_count": 15,
   "metadata": {},
   "outputs": [
    {
     "name": "stdout",
     "output_type": "stream",
     "text": [
      "seldondeployment.machinelearning.seldon.io \"xgboost\" deleted\r\n"
     ]
    }
   ],
   "source": [
    "!kubectl delete -f resources/iris.yaml"
   ]
  },
  {
   "cell_type": "markdown",
   "metadata": {},
   "source": [
    "### KFServing V2 protocol\n",
    "\n",
    "We can deploy a XGBoost model, exposing an API compatible with [KFServing's V2 Protocol](https://docs.seldon.io/projects/seldon-core/en/latest/servers/xgboost.html##v2-kfserving-protocol-incubating) by specifying the `protocol` of our `SeldonDeployment` as `kfserving`.\n",
    "For example, we can consider the config below:"
   ]
  },
  {
   "cell_type": "code",
   "execution_count": 29,
   "metadata": {},
   "outputs": [
    {
     "name": "stdout",
     "output_type": "stream",
     "text": [
      "Overwriting ../testing/resources/iris-xgboost-v2.yaml\n"
     ]
    }
   ],
   "source": [
    "%%writefile ./resources/iris-xgboost-v2.yaml\n",
    "apiVersion: machinelearning.seldon.io/v1\n",
    "kind: SeldonDeployment\n",
    "metadata:\n",
    "  name: xgboost\n",
    "spec:\n",
    "  name: iris\n",
    "  protocol: kfserving\n",
    "  predictors:\n",
    "  - graph:\n",
    "      children: []\n",
    "      implementation: XGBOOST_SERVER\n",
    "      modelUri: gs://seldon-models/xgboost/iris\n",
    "      name: classifier\n",
    "    name: default\n",
    "    replicas: 1"
   ]
  },
  {
   "cell_type": "markdown",
   "metadata": {},
   "source": [
    "We can then apply it to deploy our model to our Kubernetes cluster."
   ]
  },
  {
   "cell_type": "code",
   "execution_count": 30,
   "metadata": {},
   "outputs": [
    {
     "name": "stdout",
     "output_type": "stream",
     "text": [
      "seldondeployment.machinelearning.seldon.io/xgboost created\r\n"
     ]
    }
   ],
   "source": [
    "!kubectl apply -f ../testing/resources/iris-xgboost-v2.yaml"
   ]
  },
  {
   "cell_type": "code",
   "execution_count": 31,
   "metadata": {},
   "outputs": [
    {
     "name": "stdout",
     "output_type": "stream",
     "text": [
      "Waiting for deployment \"xgboost-default-0-classifier\" rollout to finish: 0 of 1 updated replicas are available...\n",
      "deployment \"xgboost-default-0-classifier\" successfully rolled out\n"
     ]
    }
   ],
   "source": [
    "!kubectl rollout status deploy/$(kubectl get deploy -l seldon-deployment-id=xgboost -o jsonpath='{.items[0].metadata.name}')"
   ]
  },
  {
   "cell_type": "markdown",
   "metadata": {},
   "source": [
    "Once it's deployed, we can send inference requests to our model.\n",
    "Note that, since it's using the KFServing's V2 Protocol, these requests will be different to the ones using the default Seldon Protocol."
   ]
  },
  {
   "cell_type": "code",
   "execution_count": 34,
   "metadata": {},
   "outputs": [
    {
     "name": "stdout",
     "output_type": "stream",
     "text": [
      "{\n",
      "  \"model_name\": \"classifier\",\n",
      "  \"model_version\": \"v1\",\n",
      "  \"id\": \"7b3fc4b1-bba1-4119-b19a-53649bb7b885\",\n",
      "  \"parameters\": null,\n",
      "  \"outputs\": [\n",
      "    {\n",
      "      \"name\": \"predict\",\n",
      "      \"shape\": [\n",
      "        1\n",
      "      ],\n",
      "      \"datatype\": \"FP32\",\n",
      "      \"parameters\": null,\n",
      "      \"data\": [\n",
      "        2.0\n",
      "      ]\n",
      "    }\n",
      "  ]\n",
      "}\n"
     ]
    }
   ],
   "source": [
    "import requests\n",
    "import json\n",
    "\n",
    "inference_request = {\n",
    "    \"inputs\": [\n",
    "        {\n",
    "          \"name\": \"predict\",\n",
    "          \"shape\": [1, 4],\n",
    "          \"datatype\": \"FP32\",\n",
    "          \"data\": [[1, 2, 3, 4]]\n",
    "        }\n",
    "    ]\n",
    "}\n",
    "\n",
    "endpoint = \"http://localhost:8003/seldon/seldon/xgboost/v2/models/infer\"\n",
    "response = requests.post(endpoint, json=inference_request)\n",
    "\n",
    "print(json.dumps(response.json(), indent=2))\n",
    "assert response.ok"
   ]
  },
  {
   "cell_type": "markdown",
   "metadata": {},
   "source": [
    "Finally, we can delete the model we deployed."
   ]
  },
  {
   "cell_type": "code",
   "execution_count": 35,
   "metadata": {},
   "outputs": [
    {
     "name": "stdout",
     "output_type": "stream",
     "text": [
      "seldondeployment.machinelearning.seldon.io \"xgboost\" deleted\r\n"
     ]
    }
   ],
   "source": [
    "!kubectl delete -f ../testing/resources/iris-xgboost-v2.yaml"
   ]
  },
  {
   "cell_type": "markdown",
   "metadata": {},
   "source": [
    "## Serve Tensorflow MNIST Model\n",
    "We can deploy a tensorflow model uploaded to an object store by using the\n",
    "tensorflow model server implementation as the config below.\n",
    "\n",
    "This notebook contains two examples, one which shows how you can use the\n",
    "TFServing prepackaged serve with the Seldon Protocol, and a second one which\n",
    "shows how you can deploy it using the tensorlfow protocol (so you can send\n",
    "requests of the exact format as you would to a tfserving server)."
   ]
  },
  {
   "cell_type": "markdown",
   "metadata": {},
   "source": [
    "### Serve Tensorflow MNIST Model with Seldon Protocol\n",
    "\n",
    "The config file below shows how you can deploy your Tensorflow model which\n",
    "exposes the Seldon protocol."
   ]
  },
  {
   "cell_type": "code",
   "execution_count": 16,
   "metadata": {},
   "outputs": [
    {
     "name": "stdout",
     "output_type": "stream",
     "text": [
      "Writing ./resources/mnist_rest.yaml\n"
     ]
    }
   ],
   "source": [
    "%%writefile ./resources/mnist_rest.yaml\n",
    "apiVersion: machinelearning.seldon.io/v1alpha2\n",
    "kind: SeldonDeployment\n",
    "metadata:\n",
    "  name: tfserving\n",
    "spec:\n",
    "  name: mnist\n",
    "  predictors:\n",
    "  - graph:\n",
    "      children: []\n",
    "      implementation: TENSORFLOW_SERVER\n",
    "      modelUri: gs://seldon-models/tfserving/mnist-model\n",
    "      name: mnist-model\n",
    "      parameters:\n",
    "        - name: signature_name\n",
    "          type: STRING\n",
    "          value: predict_images\n",
    "        - name: model_name\n",
    "          type: STRING\n",
    "          value: mnist-model\n",
    "        - name: model_input\n",
    "          type: STRING\n",
    "          value: images\n",
    "        - name: model_output\n",
    "          type: STRING\n",
    "          value: scores     \n",
    "    name: default\n",
    "    replicas: 1"
   ]
  },
  {
   "cell_type": "code",
   "execution_count": 17,
   "metadata": {},
   "outputs": [
    {
     "name": "stdout",
     "output_type": "stream",
     "text": [
      "seldondeployment.machinelearning.seldon.io/tfserving created\r\n"
     ]
    }
   ],
   "source": [
    "!kubectl apply -f ./resources/mnist_rest.yaml"
   ]
  },
  {
   "cell_type": "code",
   "execution_count": 19,
   "metadata": {},
   "outputs": [
    {
     "name": "stdout",
     "output_type": "stream",
     "text": [
      "deployment \"tfserving-default-0-mnist-model\" successfully rolled out\r\n"
     ]
    }
   ],
   "source": [
    "!kubectl rollout status deploy/$(kubectl get deploy -l seldon-deployment-id=tfserving -o jsonpath='{.items[0].metadata.name}')"
   ]
  },
  {
   "cell_type": "code",
   "execution_count": 20,
   "metadata": {},
   "outputs": [],
   "source": [
    "from seldon_core.seldon_client import SeldonClient\n",
    "sc = SeldonClient(deployment_name=\"tfserving\",namespace=\"seldon\")"
   ]
  },
  {
   "cell_type": "markdown",
   "metadata": {},
   "source": [
    "#### REST Request"
   ]
  },
  {
   "cell_type": "code",
   "execution_count": 21,
   "metadata": {},
   "outputs": [
    {
     "name": "stdout",
     "output_type": "stream",
     "text": [
      "Success:True message:\n",
      "Request:\n",
      "meta {\n",
      "}\n",
      "data {\n",
      "  tensor {\n",
      "    shape: 1\n",
      "    shape: 784\n",
      "    values: 0.5107023057212949\n",
      "    values: 0.5623608348950615\n",
      "    values: 0.6111380506359148\n",
      "    values: 0.8634274436475573\n",
      "    values: 0.7114740638344804\n",
      "    values: 0.02366400253262313\n",
      "    values: 0.05373980946064383\n",
      "    values: 0.6336957193832369\n",
      "    values: 0.31838237069205\n",
      "    values: 0.25523734153796973\n",
      "    values: 0.6494473416415116\n",
      "    values: 0.5178738677262822\n",
      "    values: 0.9978967930437133\n",
      "    values: 0.9865181169148434\n",
      "    values: 0.4372797278205718\n",
      "    values: 0.9999156261160458\n",
      "    values: 0.8649524372087054\n",
      "    values: 0.253189612086792\n",
      "    values: 0.7387007708037302\n",
      "    values: 0.10057112454365047\n",
      "    values: 0.4465099774527844\n",
      "    values: 0.48168923113488804\n",
      "    values: 0.07453770297813644\n",
      "    values: 0.8323663319531219\n",
      "    values: 0.5808100976724994\n",
      "    values: 0.2626055767227661\n",
      "    values: 0.4225917458365325\n",
      "    values: 0.8975728256665774\n",
      "    values: 0.06087186315458548\n",
      "    values: 0.6265728073492621\n",
      "    values: 0.7097999668005794\n",
      "    values: 0.6018092464185725\n",
      "    values: 0.5936677536708442\n",
      "    values: 0.005661116489995233\n",
      "    values: 0.01735648931328282\n",
      "    values: 0.5279058405854248\n",
      "    values: 0.35832707754667104\n",
      "    values: 0.7539870719377336\n",
      "    values: 0.6519201610307432\n",
      "    values: 0.6006484026280969\n",
      "    values: 0.46027393669911576\n",
      "    values: 0.6643888297943963\n",
      "    values: 0.6079219729180508\n",
      "    values: 0.9830520713023936\n",
      "    values: 0.5495253042602156\n",
      "    values: 0.8690906832425331\n",
      "    values: 0.6761591373459344\n",
      "    values: 0.3382961488536954\n",
      "    values: 0.08799791712696936\n",
      "    values: 0.24035373836325802\n",
      "    values: 0.802076042098044\n",
      "    values: 0.2881736401413182\n",
      "    values: 0.8760750629643099\n",
      "    values: 0.5138633512628851\n",
      "    values: 0.21767929823150367\n",
      "    values: 0.03846159431036866\n",
      "    values: 0.8319553695998605\n",
      "    values: 0.13261812287783847\n",
      "    values: 0.07960248280978433\n",
      "    values: 0.9605496696537952\n",
      "    values: 0.5643347517501095\n",
      "    values: 0.6525050537698226\n",
      "    values: 0.5601283893715608\n",
      "    values: 0.21565373039731872\n",
      "    values: 0.8361245822463428\n",
      "    values: 0.024213126448693223\n",
      "    values: 0.23754644314892337\n",
      "    values: 0.2377995575583115\n",
      "    values: 0.8045547467676306\n",
      "    values: 0.02545505035233042\n",
      "    values: 0.288844496837939\n",
      "    values: 0.10073205712927191\n",
      "    values: 0.511280151985227\n",
      "    values: 0.17384605397414166\n",
      "    values: 0.32574178589465796\n",
      "    values: 0.651767155849768\n",
      "    values: 0.1960484141175869\n",
      "    values: 0.1453859850998631\n",
      "    values: 0.8017142964996199\n",
      "    values: 0.31319276377116045\n",
      "    values: 0.0008447738915094982\n",
      "    values: 0.10043607548722477\n",
      "    values: 0.6349161783361251\n",
      "    values: 0.3934099944185777\n",
      "    values: 0.10514672875103304\n",
      "    values: 0.8644669394191983\n",
      "    values: 0.22676696991569245\n",
      "    values: 0.9249950837325878\n",
      "    values: 0.1162435707273588\n",
      "    values: 0.5444774795670829\n",
      "    values: 0.39425833595835347\n",
      "    values: 0.8709082859559809\n",
      "    values: 0.8285213984493992\n",
      "    values: 0.13398292207408857\n",
      "    values: 0.6765048018217165\n",
      "    values: 0.3482770106936435\n",
      "    values: 0.13213693618989608\n",
      "    values: 0.746992353726059\n",
      "    values: 0.14377803397093725\n",
      "    values: 0.5990638090668257\n",
      "    values: 0.8223129450062949\n",
      "    values: 0.6678676767748563\n",
      "    values: 0.17108822489135178\n",
      "    values: 0.2647759932838081\n",
      "    values: 0.19449751499811263\n",
      "    values: 0.3184756307075274\n",
      "    values: 0.4223804791195731\n",
      "    values: 0.49373465176731335\n",
      "    values: 0.11742720080087199\n",
      "    values: 0.2387207948178105\n",
      "    values: 0.26529368097303097\n",
      "    values: 0.30423091486504783\n",
      "    values: 0.3839593808852657\n",
      "    values: 0.6475192653876005\n",
      "    values: 0.30024582752161777\n",
      "    values: 0.20477523541467135\n",
      "    values: 0.9979696407591006\n",
      "    values: 0.929794633856619\n",
      "    values: 0.9065887077416037\n",
      "    values: 0.18329194049714226\n",
      "    values: 0.3384813920251717\n",
      "    values: 0.8175235987732903\n",
      "    values: 0.00040968354126924567\n",
      "    values: 0.517091871829943\n",
      "    values: 0.5383379045674784\n",
      "    values: 0.835312440128363\n",
      "    values: 0.6290939041545115\n",
      "    values: 0.6049468450120894\n",
      "    values: 0.747373022167957\n",
      "    values: 0.5988284086222708\n",
      "    values: 0.5482460114201446\n",
      "    values: 0.7523538567573566\n",
      "    values: 0.12782488237570588\n",
      "    values: 0.2720395557642775\n",
      "    values: 0.03686749985289928\n",
      "    values: 0.908804650647008\n",
      "    values: 0.8235223658177493\n",
      "    values: 0.5938032093912495\n",
      "    values: 0.459361752056606\n",
      "    values: 0.9741206764892317\n",
      "    values: 0.29028511562572556\n",
      "    values: 0.8922540041292621\n",
      "    values: 0.08968922745038932\n",
      "    values: 0.9602437974037319\n",
      "    values: 0.20513652666373017\n",
      "    values: 0.9027085460452671\n",
      "    values: 0.09381896500379594\n",
      "    values: 0.33546972435626743\n",
      "    values: 0.8546144021819878\n",
      "    values: 0.5287788578052739\n",
      "    values: 0.08612958460631359\n",
      "    values: 0.3706497603188892\n",
      "    values: 0.8531823398067253\n",
      "    values: 0.6627521461030321\n",
      "    values: 0.1837126183868627\n",
      "    values: 0.8735057827449049\n",
      "    values: 0.11709014763249304\n",
      "    values: 0.07047619188081522\n",
      "    values: 0.01800988472078502\n",
      "    values: 0.3195244043455847\n",
      "    values: 0.3419384409907622\n",
      "    values: 0.11784989622243203\n",
      "    values: 0.0386803041889211\n",
      "    values: 0.5485586773144957\n",
      "    values: 0.1468537355299161\n",
      "    values: 0.7489726944833136\n",
      "    values: 0.3505523237801289\n",
      "    values: 0.11073270241094468\n",
      "    values: 0.2338712861368223\n",
      "    values: 0.7375620643021084\n",
      "    values: 0.6598474370807609\n",
      "    values: 0.21706474393598663\n",
      "    values: 0.24198597952855205\n",
      "    values: 0.334111373017862\n",
      "    values: 0.6315259417718447\n",
      "    values: 0.42129900334183357\n",
      "    values: 0.5893512352119149\n",
      "    values: 0.20673851879042304\n",
      "    values: 0.5528681012151374\n",
      "    values: 0.4834836272172056\n",
      "    values: 0.4335868592442259\n",
      "    values: 0.8208737042136253\n",
      "    values: 0.6993378496920808\n",
      "    values: 0.5907860488395446\n",
      "    values: 0.40268289442817917\n",
      "    values: 0.1651146462576324\n",
      "    values: 0.21217650469831928\n",
      "    values: 0.8797787260543056\n",
      "    values: 0.38312386937299525\n",
      "    values: 0.826766966871459\n",
      "    values: 0.5255548751660073\n",
      "    values: 0.21047681021500253\n",
      "    values: 0.31201956269906794\n",
      "    values: 0.07990590891517779\n",
      "    values: 0.46456094497296474\n",
      "    values: 0.9458436448066092\n",
      "    values: 0.2544041654024395\n",
      "    values: 0.5614621997809233\n",
      "    values: 0.999140522501572\n",
      "    values: 0.8610985591237735\n",
      "    values: 0.6674592359292942\n",
      "    values: 0.6023079440466653\n",
      "    values: 0.5125593796061865\n",
      "    values: 0.7898999020456178\n",
      "    values: 0.5300836647333612\n",
      "    values: 0.5865923432327182\n",
      "    values: 0.18405019589632232\n",
      "    values: 0.8514047805935321\n",
      "    values: 0.59743033817659\n",
      "    values: 0.43191309027632063\n",
      "    values: 0.46425395599272445\n",
      "    values: 0.6441626445434468\n",
      "    values: 0.07476846423280548\n",
      "    values: 0.3022658419303269\n",
      "    values: 0.5563808145563036\n",
      "    values: 0.10830597550137833\n",
      "    values: 0.7895612606657421\n",
      "    values: 0.21614407617436526\n",
      "    values: 0.3789396432568013\n",
      "    values: 0.9943389472728801\n",
      "    values: 0.5584620923145623\n",
      "    values: 0.922468795940527\n",
      "    values: 0.08802070687475927\n",
      "    values: 0.5836385694990858\n",
      "    values: 0.9830547727213883\n",
      "    values: 0.6013538388733246\n",
      "    values: 0.015747413308423774\n",
      "    values: 0.6118464066765079\n",
      "    values: 0.42836010629712895\n",
      "    values: 0.28860066552842956\n",
      "    values: 0.12280506279401238\n",
      "    values: 0.142829315603213\n",
      "    values: 0.7580675119037231\n",
      "    values: 0.9655651249123068\n",
      "    values: 0.18785178272865422\n",
      "    values: 0.06159233691926502\n",
      "    values: 0.41961147837868984\n",
      "    values: 0.31012417353521293\n",
      "    values: 0.5388405501938073\n",
      "    values: 0.9014270858644767\n",
      "    values: 0.13483553585989028\n",
      "    values: 0.5627354562172762\n",
      "    values: 0.7863647233928116\n",
      "    values: 0.4912057276911753\n",
      "    values: 0.13123975116598285\n",
      "    values: 0.41198352056332954\n",
      "    values: 0.22919809049713902\n",
      "    values: 0.9547635928043086\n",
      "    values: 0.019552040381763724\n",
      "    values: 0.9873421410196733\n",
      "    values: 0.039292565038554605\n",
      "    values: 0.4657581021226076\n",
      "    values: 0.3357387544182452\n",
      "    values: 0.26235976811430406\n",
      "    values: 0.17677563824121245\n",
      "    values: 0.689199173174594\n",
      "    values: 0.17511165377601512\n",
      "    values: 0.42294169099240575\n",
      "    values: 0.7650671991481408\n",
      "    values: 0.43759331281316693\n",
      "    values: 0.9606088780384899\n",
      "    values: 0.574360552458084\n",
      "    values: 0.8340750438506801\n",
      "    values: 0.20573759961039662\n",
      "    values: 0.18957764278223477\n",
      "    values: 0.6773976496720566\n",
      "    values: 0.4361154884434053\n",
      "    values: 0.9707089905289158\n",
      "    values: 0.039195270676906646\n",
      "    values: 0.264991445309404\n",
      "    values: 0.37132990461473736\n",
      "    values: 0.41537484273897574\n",
      "    values: 0.13260345801495255\n",
      "    values: 0.43435436842741504\n",
      "    values: 0.8408412134270505\n",
      "    values: 0.6278180866572545\n",
      "    values: 0.5160741478961006\n",
      "    values: 0.7520668320061824\n",
      "    values: 0.6942911536015988\n",
      "    values: 0.6363845282636748\n",
      "    values: 0.40894210366063954\n",
      "    values: 0.01729476783398365\n",
      "    values: 0.8591002039937341\n",
      "    values: 0.6269793262666021\n",
      "    values: 0.716375682016899\n",
      "    values: 0.1810286338460505\n",
      "    values: 0.4714781662364621\n",
      "    values: 0.7331506954596001\n",
      "    values: 0.05025882460091702\n",
      "    values: 0.11133017488260233\n",
      "    values: 0.29113202317893894\n",
      "    values: 0.8345819104796809\n",
      "    values: 0.15575463030694192\n",
      "    values: 0.6150775921534642\n",
      "    values: 0.4659830869335795\n",
      "    values: 0.4060920208498561\n",
      "    values: 0.5158178002917679\n",
      "    values: 0.6780788911163258\n",
      "    values: 0.3321921754076319\n",
      "    values: 0.39872789421596944\n",
      "    values: 0.6424025396221994\n",
      "    values: 0.28570081187688634\n",
      "    values: 0.9098369014250942\n",
      "    values: 0.30342288896593306\n",
      "    values: 0.25311477393792825\n",
      "    values: 0.2774074250712927\n",
      "    values: 0.2649763688491167\n",
      "    values: 0.7004275682228369\n",
      "    values: 0.9561773236871081\n",
      "    values: 0.02191959331568738\n",
      "    values: 0.21492674168036996\n",
      "    values: 0.8563502142643719\n",
      "    values: 0.3702054321339988\n",
      "    values: 0.25147987738496735\n",
      "    values: 0.9727219024847144\n",
      "    values: 0.4584340496804933\n",
      "    values: 0.5349821640830944\n",
      "    values: 0.4522386225352464\n",
      "    values: 0.819970030142973\n",
      "    values: 0.6274074524439643\n",
      "    values: 0.291496896442035\n",
      "    values: 0.6992899097146331\n",
      "    values: 0.13201086659349925\n",
      "    values: 0.8757511387992962\n",
      "    values: 0.6161879886002183\n",
      "    values: 0.2982385383169808\n",
      "    values: 0.6032404059286333\n",
      "    values: 0.07454989728363282\n",
      "    values: 0.004445928701385937\n",
      "    values: 0.656211267071695\n",
      "    values: 0.1602069874064458\n",
      "    values: 0.9817392412595353\n",
      "    values: 0.9205841466795411\n",
      "    values: 0.30278961258302095\n",
      "    values: 0.31042729163802063\n",
      "    values: 0.1154980835553916\n",
      "    values: 0.16348282918026802\n",
      "    values: 0.9342852279043813\n",
      "    values: 0.9069108026963915\n",
      "    values: 0.8063053554112678\n",
      "    values: 0.28854275132787244\n",
      "    values: 0.6748819453262591\n",
      "    values: 0.43279475820552427\n",
      "    values: 0.49033193335456615\n",
      "    values: 0.7212139964927478\n",
      "    values: 0.26566481660384234\n",
      "    values: 0.19198591368089357\n",
      "    values: 0.085047539028128\n",
      "    values: 0.030113601908700383\n",
      "    values: 0.028195589465296544\n",
      "    values: 0.3459366695735637\n",
      "    values: 0.6943961836727686\n",
      "    values: 0.45896823834610334\n",
      "    values: 0.7491071809133851\n",
      "    values: 0.515806599004942\n",
      "    values: 0.570619689463277\n",
      "    values: 0.10877913833979291\n",
      "    values: 0.5476657041460166\n",
      "    values: 0.7206903921214216\n",
      "    values: 0.4241277741342214\n",
      "    values: 0.9868219273389265\n",
      "    values: 0.20804358930991118\n",
      "    values: 0.3852116307916592\n",
      "    values: 0.1942320665278997\n",
      "    values: 0.6340988117563344\n",
      "    values: 0.16107207207217966\n",
      "    values: 0.5270280495792234\n",
      "    values: 0.4053730861353534\n",
      "    values: 0.6960491143220202\n",
      "    values: 0.7911824656266416\n",
      "    values: 0.4108267114007269\n",
      "    values: 0.9850612048141434\n",
      "    values: 0.2270886017017658\n",
      "    values: 0.05280090842049012\n",
      "    values: 0.31827979039028464\n",
      "    values: 0.3604157676545975\n",
      "    values: 0.15326021272064316\n",
      "    values: 0.010795195032534899\n",
      "    values: 0.5709242797733232\n",
      "    values: 0.36132314405048327\n",
      "    values: 0.4433677763405598\n",
      "    values: 0.8237050486110694\n",
      "    values: 0.4719173591296265\n",
      "    values: 0.2865962855994806\n",
      "    values: 0.42502277492771745\n",
      "    values: 0.18774942407759265\n",
      "    values: 0.5336113827135572\n",
      "    values: 0.602905198993137\n",
      "    values: 0.8113684943160956\n",
      "    values: 0.2735440205409463\n",
      "    values: 0.1734805356370619\n",
      "    values: 0.8124774620090827\n",
      "    values: 0.5042503930316505\n",
      "    values: 0.43254137569681905\n",
      "    values: 0.7352948141201837\n",
      "    values: 0.776014857745763\n",
      "    values: 0.2635683182659143\n",
      "    values: 0.8172351034457966\n",
      "    values: 0.726552439546209\n",
      "    values: 0.9649254393816489\n",
      "    values: 0.5787064166974797\n",
      "    values: 0.9539690809760761\n",
      "    values: 0.18415597435300812\n",
      "    values: 0.8336943638246618\n",
      "    values: 0.14062381930892565\n",
      "    values: 0.5937324880309152\n",
      "    values: 0.017024342798909187\n",
      "    values: 0.6547161976763136\n",
      "    values: 0.40894258342908185\n",
      "    values: 0.46627889527031874\n",
      "    values: 0.34305793533287354\n",
      "    values: 0.6402060622661458\n",
      "    values: 0.21935847154481125\n",
      "    values: 0.3471482760993815\n",
      "    values: 0.2902685046635235\n",
      "    values: 0.2804519699071051\n",
      "    values: 0.5343915570875613\n",
      "    values: 0.04882383744369856\n",
      "    values: 0.922173964773923\n",
      "    values: 0.6251264995071725\n",
      "    values: 0.7820437989198565\n",
      "    values: 0.587216098742095\n",
      "    values: 0.9774523124032701\n",
      "    values: 0.17872933188020512\n",
      "    values: 0.7321173269520748\n",
      "    values: 0.788679969005269\n",
      "    values: 0.05006409562618652\n",
      "    values: 0.20313854123916564\n",
      "    values: 0.3832253949347427\n",
      "    values: 0.1990418130963787\n",
      "    values: 0.6584744454529071\n",
      "    values: 0.5832486755372268\n",
      "    values: 0.16323627470236446\n",
      "    values: 0.7384260597681817\n",
      "    values: 0.22457437235901556\n",
      "    values: 0.09418390578121683\n",
      "    values: 0.10628248487982261\n",
      "    values: 0.5785515042637714\n",
      "    values: 0.7234912747461657\n",
      "    values: 0.7841928293920223\n",
      "    values: 0.8753802298580708\n",
      "    values: 0.8961178952548005\n",
      "    values: 0.7751860095705863\n",
      "    values: 0.9780273398772876\n",
      "    values: 0.11606336485693336\n",
      "    values: 0.4126152619880423\n",
      "    values: 0.24905988325675532\n",
      "    values: 0.6224869644217919\n",
      "    values: 0.7212895161196464\n",
      "    values: 0.9574746462672628\n",
      "    values: 0.849098969288948\n",
      "    values: 0.7487215790960531\n",
      "    values: 0.42760271086957347\n",
      "    values: 0.469562334986358\n",
      "    values: 0.3262834170948947\n",
      "    values: 0.8569647649507338\n",
      "    values: 0.30977494700596564\n",
      "    values: 0.656200251870087\n",
      "    values: 0.7423397915681029\n",
      "    values: 0.19815795941961667\n",
      "    values: 0.651908185814198\n",
      "    values: 0.53361955346423\n",
      "    values: 0.6980627977117912\n",
      "    values: 0.7332614753196657\n",
      "    values: 0.8533612687152012\n",
      "    values: 0.5561760944584044\n",
      "    values: 0.6165350826247878\n",
      "    values: 0.9821402903320084\n",
      "    values: 0.36003387199974546\n",
      "    values: 0.7292133096915631\n",
      "    values: 0.8450405751550057\n",
      "    values: 0.3811211634606948\n",
      "    values: 0.9396447525553984\n",
      "    values: 0.048790948599547135\n",
      "    values: 0.08785843131768678\n",
      "    values: 0.04418105966496155\n",
      "    values: 0.22133775070758188\n",
      "    values: 0.6258412462820283\n",
      "    values: 0.8743211345829244\n",
      "    values: 0.3816900377424026\n",
      "    values: 0.40515571896032077\n",
      "    values: 0.23374716219740166\n",
      "    values: 0.23452566993382418\n",
      "    values: 0.4185692125815448\n",
      "    values: 0.7970345337633165\n",
      "    values: 0.6853966305237423\n",
      "    values: 0.7453104169490774\n",
      "    values: 0.8790454110994093\n",
      "    values: 0.07943293832599352\n",
      "    values: 0.47835723585541856\n",
      "    values: 0.7393022566002501\n",
      "    values: 0.6081367094681579\n",
      "    values: 0.15240880796629142\n",
      "    values: 0.1416456061300987\n",
      "    values: 0.3407058260598069\n",
      "    values: 0.772392366271753\n",
      "    values: 0.4696486162689323\n",
      "    values: 0.3175567332014857\n",
      "    values: 0.9824183527429553\n",
      "    values: 0.017562569587579402\n",
      "    values: 0.6622184885463969\n",
      "    values: 0.8178106858326119\n",
      "    values: 0.5965610170442851\n",
      "    values: 0.6479683207778004\n",
      "    values: 0.3925308858625456\n",
      "    values: 0.8835204907617537\n",
      "    values: 0.7138923556982308\n",
      "    values: 0.7125112464905512\n",
      "    values: 0.1410399229600594\n",
      "    values: 0.9648736909457104\n",
      "    values: 0.9417698975535879\n",
      "    values: 0.2112751949442232\n",
      "    values: 0.8760804255312851\n",
      "    values: 0.5419201976065733\n",
      "    values: 0.45182649431018296\n",
      "    values: 0.9165714577666763\n",
      "    values: 0.513510416958955\n",
      "    values: 0.8239591537726234\n",
      "    values: 0.6812935516722205\n",
      "    values: 0.9798110083018352\n",
      "    values: 0.43784945766826266\n",
      "    values: 0.21042233320902604\n",
      "    values: 0.22423366797737765\n",
      "    values: 0.014110380252910337\n",
      "    values: 0.8296209873009326\n",
      "    values: 0.12381532849536203\n",
      "    values: 0.2718976811509376\n",
      "    values: 0.03667399302288954\n",
      "    values: 0.76583143878473\n",
      "    values: 0.16872298726458568\n",
      "    values: 0.4122572821773943\n",
      "    values: 0.28480986177121026\n",
      "    values: 0.1998594169613741\n",
      "    values: 0.275700677236724\n",
      "    values: 0.8822393841663946\n",
      "    values: 0.8902899642948583\n",
      "    values: 0.5534062421709924\n",
      "    values: 0.986269618537809\n",
      "    values: 0.042558184913661146\n",
      "    values: 0.36548384718694704\n",
      "    values: 0.5405952276112646\n",
      "    values: 0.7104178847978548\n",
      "    values: 0.8423367621792022\n",
      "    values: 0.14815891591760366\n",
      "    values: 0.36109743911516945\n",
      "    values: 0.945594463771861\n",
      "    values: 0.008503373118760371\n",
      "    values: 0.19834189844181105\n",
      "    values: 0.5119575876195632\n",
      "    values: 0.5240501548771793\n",
      "    values: 0.9756882577231284\n",
      "    values: 0.20208779616361694\n",
      "    values: 0.9690138873713078\n",
      "    values: 0.25827985622909133\n",
      "    values: 0.09284666986737955\n",
      "    values: 0.1137028668211556\n",
      "    values: 0.8763533470251759\n",
      "    values: 0.890816581654857\n",
      "    values: 0.0957053570909594\n",
      "    values: 0.5322425112654534\n",
      "    values: 0.29402630933724505\n",
      "    values: 0.30511829132247825\n",
      "    values: 0.47165496172504073\n",
      "    values: 0.5519919814454429\n",
      "    values: 0.05896407884117216\n",
      "    values: 0.29541132717121354\n",
      "    values: 0.9522105510988295\n",
      "    values: 0.6039724700955365\n",
      "    values: 0.2395355925370526\n",
      "    values: 0.10940298813983917\n",
      "    values: 0.6467107690356365\n",
      "    values: 0.6809746434813327\n",
      "    values: 0.9796761878929728\n",
      "    values: 0.740615843542926\n",
      "    values: 0.52399751566614\n",
      "    values: 0.4993416162681923\n",
      "    values: 0.6773110037692841\n",
      "    values: 0.09553479024695088\n",
      "    values: 0.8496983473053884\n",
      "    values: 0.07553004876431668\n",
      "    values: 0.6016389960229375\n",
      "    values: 0.6329042030489541\n",
      "    values: 0.6132968486529157\n",
      "    values: 0.6622730352983882\n",
      "    values: 0.7818840527353109\n",
      "    values: 0.3027282339737214\n",
      "    values: 0.3478995883963827\n",
      "    values: 0.38700038730071673\n",
      "    values: 0.16698632905016453\n",
      "    values: 0.08909523713541978\n",
      "    values: 0.26953776795073103\n",
      "    values: 0.3464370702158268\n",
      "    values: 0.5592435875255746\n",
      "    values: 0.5126158155243358\n",
      "    values: 0.14338126664463902\n",
      "    values: 0.25199088522300195\n",
      "    values: 0.15021679515668318\n",
      "    values: 0.530388915828622\n",
      "    values: 0.5483622569519739\n",
      "    values: 0.6985177731479948\n",
      "    values: 0.5312544631971606\n",
      "    values: 0.40846887206808946\n",
      "    values: 0.33912909864995966\n",
      "    values: 0.7641641564902134\n",
      "    values: 0.6260315970306478\n",
      "    values: 0.8490530800143692\n",
      "    values: 0.4228180514506723\n",
      "    values: 0.35061165963958474\n",
      "    values: 0.44265728668022397\n",
      "    values: 0.38697896724405356\n",
      "    values: 0.08428524927619307\n",
      "    values: 0.26476153701679084\n",
      "    values: 0.9768071427040658\n",
      "    values: 0.5537539013441487\n",
      "    values: 0.33534685864521385\n",
      "    values: 0.8743417097082713\n",
      "    values: 0.26203744102089754\n",
      "    values: 0.008700471873887228\n",
      "    values: 0.9014329955050715\n",
      "    values: 0.5284509371980859\n",
      "    values: 0.8206401531104494\n",
      "    values: 0.8979053782530676\n",
      "    values: 0.3132715805736628\n",
      "    values: 0.9196449097836085\n",
      "    values: 0.45390039380031943\n",
      "    values: 0.4833681107877883\n",
      "    values: 0.46652018254685634\n",
      "    values: 0.5004427767829851\n",
      "    values: 0.3493435821518379\n",
      "    values: 0.5440691800302588\n",
      "    values: 0.7694300512896542\n",
      "    values: 0.2915311386370367\n",
      "    values: 0.5353979805144022\n",
      "    values: 0.7382445835979069\n",
      "    values: 0.3629729820319766\n",
      "    values: 0.10472063211900628\n",
      "    values: 0.04373311027809523\n",
      "    values: 0.857199127814752\n",
      "    values: 0.5013561244511355\n",
      "    values: 0.5037753817539924\n",
      "    values: 0.7510376525512389\n",
      "    values: 0.5933944308722544\n",
      "    values: 0.4058911209764825\n",
      "    values: 0.3316586561406448\n",
      "    values: 0.7747985864536001\n",
      "    values: 0.9709877781310874\n",
      "    values: 0.6834751909724939\n",
      "    values: 0.4763416348096601\n",
      "    values: 0.8265695465415293\n",
      "    values: 0.7973822367612807\n",
      "    values: 0.1584653171589846\n",
      "    values: 0.6788946720602983\n",
      "    values: 0.40342758758067754\n",
      "    values: 0.6774665940043272\n",
      "    values: 0.266280966612886\n",
      "    values: 0.18832297272188037\n",
      "    values: 0.006811724003046082\n",
      "    values: 0.5661400745836438\n",
      "    values: 0.4759228310126489\n",
      "    values: 0.3250632301119143\n",
      "    values: 0.06831465312447038\n",
      "    values: 0.9768002294597242\n",
      "    values: 0.25444376995042406\n",
      "    values: 0.17342231837572608\n",
      "    values: 0.7604885310682833\n",
      "    values: 0.42966042915224867\n",
      "    values: 0.10140575365439053\n",
      "    values: 0.9933979338791116\n",
      "    values: 0.6648945502557269\n",
      "    values: 0.46598962954849743\n",
      "    values: 0.7987795410224021\n",
      "    values: 0.4596419095957335\n",
      "    values: 0.7279685697691751\n",
      "    values: 0.5518704973437919\n",
      "    values: 0.7927574646696603\n",
      "    values: 0.2720947482118121\n",
      "    values: 0.5959113468096944\n",
      "    values: 0.9046582495384244\n",
      "    values: 0.07108504086152445\n",
      "    values: 0.35816219940750416\n",
      "    values: 0.38858669705450233\n",
      "    values: 0.37810102040920945\n",
      "    values: 0.6943576949279352\n",
      "    values: 0.11823926407031005\n",
      "    values: 0.6112947936231002\n",
      "    values: 0.5844156965142204\n",
      "    values: 0.5850079063866286\n",
      "    values: 0.6003939499481413\n",
      "    values: 0.20660445501585267\n",
      "    values: 0.5108077416426846\n",
      "    values: 0.3048505579322842\n",
      "    values: 0.9153358709383584\n",
      "    values: 0.9383931675239946\n",
      "    values: 0.8213856080914512\n",
      "    values: 0.49807899299248215\n",
      "    values: 0.06815719179628177\n",
      "    values: 0.9058519699097287\n",
      "    values: 0.4887060487039081\n",
      "    values: 0.18445442018634628\n",
      "    values: 0.1064488633673284\n",
      "    values: 0.3416459669349272\n",
      "    values: 0.33541701874828\n",
      "    values: 0.08640976005126899\n",
      "    values: 0.15695242589069114\n",
      "    values: 0.28579446184606305\n",
      "    values: 0.7247721454642032\n",
      "    values: 0.18907299541771927\n",
      "    values: 0.5668653019410814\n",
      "    values: 0.407176399775499\n",
      "    values: 0.0012020125244126545\n",
      "    values: 0.09549848590101995\n",
      "    values: 0.28195255640536543\n",
      "    values: 0.11030913590406177\n",
      "    values: 0.1422744421120905\n",
      "    values: 0.2559522751419786\n",
      "    values: 0.47090959867422155\n",
      "    values: 0.22225125337760387\n",
      "    values: 0.6963407842215985\n",
      "    values: 0.1671956182734735\n",
      "    values: 0.8481836618865124\n",
      "    values: 0.981486041011361\n",
      "    values: 0.7819976758951926\n",
      "    values: 0.5232176531128503\n",
      "    values: 0.9072048655268292\n",
      "    values: 0.2180286962233985\n",
      "    values: 0.24317529271798044\n",
      "    values: 0.11922043467322996\n",
      "    values: 0.8950473146323462\n",
      "    values: 0.25132074843153285\n",
      "    values: 0.5076469134658013\n",
      "    values: 0.13944602934918016\n",
      "    values: 0.5907011012881257\n",
      "    values: 0.6952942751068467\n",
      "    values: 0.9900005741876154\n",
      "    values: 0.8104124659612426\n",
      "    values: 0.4266122383592905\n",
      "    values: 0.1879723539579501\n",
      "    values: 0.04792862944476606\n",
      "    values: 0.610177494406397\n",
      "    values: 0.6501919946181118\n",
      "    values: 0.22175455402172828\n",
      "    values: 0.885688951918304\n",
      "    values: 0.7515855485943367\n",
      "    values: 0.2675780588234272\n",
      "    values: 0.1834922963554817\n",
      "    values: 0.591624659551366\n",
      "    values: 0.8989772879163987\n",
      "    values: 0.09225083630914443\n",
      "    values: 0.6050492474850014\n",
      "    values: 0.818559363849986\n",
      "    values: 0.9981632528476949\n",
      "    values: 0.44088019070852413\n",
      "    values: 0.2400274931032158\n",
      "    values: 0.30586855793450074\n",
      "    values: 0.48216961324692864\n",
      "    values: 0.10944310512898225\n",
      "    values: 0.127580963515867\n",
      "    values: 0.9938365893410939\n",
      "    values: 0.2680677327021419\n",
      "    values: 0.8863352172772685\n",
      "    values: 0.4482401719464322\n",
      "    values: 0.14271008932591467\n",
      "    values: 0.9151112913500424\n",
      "    values: 0.27439308670425466\n",
      "    values: 0.6996624018716439\n",
      "    values: 0.11874307374603832\n",
      "    values: 0.6546412177443139\n",
      "    values: 0.9178790129079059\n",
      "    values: 0.6120796658025784\n",
      "    values: 0.1824751375293585\n",
      "    values: 0.47638521459674443\n",
      "    values: 0.12802361749538227\n",
      "    values: 0.7930170659329745\n",
      "    values: 0.27504980126160894\n",
      "    values: 0.9979259878346949\n",
      "    values: 0.06094884640570508\n",
      "    values: 0.4826217931507436\n",
      "    values: 0.3576764745381904\n",
      "    values: 0.021947226137780218\n",
      "    values: 0.40653340818080963\n",
      "    values: 0.13213360178927192\n",
      "    values: 0.9630877872007287\n",
      "    values: 0.9639949483037871\n",
      "    values: 0.40773184520214434\n",
      "  }\n",
      "}\n",
      "\n",
      "Response:\n",
      "{'data': {'names': ['t:0', 't:1', 't:2', 't:3', 't:4', 't:5', 't:6', 't:7', 't:8', 't:9'], 'tensor': {'shape': [1, 10], 'values': [8.63861176e-17, 3.37732175e-31, 0.966169834, 0.0337051153, 3.75397955e-28, 0.000124941784, 1.6965455e-14, 1.78233174e-13, 1.30876856e-07, 1.57979933e-17]}}, 'meta': {}}\n"
     ]
    }
   ],
   "source": [
    "r = sc.predict(gateway=\"ambassador\",transport=\"rest\",shape=(1,784))\n",
    "print(r)\n",
    "assert(r.success==True)"
   ]
  },
  {
   "cell_type": "markdown",
   "metadata": {},
   "source": [
    "#### gRPC Request"
   ]
  },
  {
   "cell_type": "code",
   "execution_count": 22,
   "metadata": {},
   "outputs": [
    {
     "name": "stdout",
     "output_type": "stream",
     "text": [
      "Success:True message:\n",
      "Request:\n",
      "{'meta': {}, 'data': {'tensor': {'shape': [1, 784], 'values': [0.7905009272630374, 0.6899323067703929, 0.9907993896341335, 0.5895573126130481, 0.8422201754088949, 0.6760859565934112, 0.10368434337730892, 0.46328196059353166, 0.2506709392320108, 0.7389318630631916, 0.8401116551519511, 0.5106163021760177, 0.36876078106775634, 0.2615408924878697, 0.9707615391595129, 0.8796529018862914, 0.2331299015118644, 0.5739288446214379, 0.80967100025705, 0.8932752189547999, 0.6091482903772496, 0.0768058232716533, 0.037274095233411964, 0.018561294861397792, 0.73681851661838, 0.6747561699268244, 0.9148477760498436, 0.027060996015030647, 0.8001872111791688, 0.4865357110229812, 0.10865790274610398, 0.6655168488241036, 0.5796011267249119, 0.9112491513159809, 0.036783869439557915, 0.6612610807847592, 0.9127488438631093, 0.3060892921776468, 0.3088611370075066, 0.7149701978885464, 0.2720614878517995, 0.9264828466774991, 0.8166720961676797, 0.04845529063471321, 0.7553818219897975, 0.08207033977454292, 0.7598365900369126, 0.9969424749659557, 0.3279929073171527, 0.24416410951389345, 0.7033106331297899, 0.5839708838725494, 0.9052647212786273, 0.906191293240989, 0.2579549901009415, 0.447843162376242, 0.20328507797269935, 0.9684508787522603, 0.6729992929096298, 0.07503815974834438, 0.8622460675872184, 0.3739551484003679, 0.9789054996797437, 0.4415094765265245, 0.050382412302513946, 0.23508506785490713, 0.6593764689475684, 0.05516493817430035, 0.7745753088573162, 0.5894344820125687, 0.566056363080164, 0.5770268146540588, 0.23755606882105418, 0.07491544406306638, 0.1458885179714582, 0.8450337600776112, 0.8563470333330665, 0.755254984433921, 0.880916569593434, 0.13947123883061918, 0.7500479736187438, 0.09308439006956049, 0.8950996429346499, 0.576556104793032, 0.1306403372486158, 0.7644678655466822, 0.3565229041247465, 0.107533582633625, 0.06005956851322347, 0.8621961609352833, 0.060653537027465454, 0.37115630050376136, 0.2951558210820888, 0.9411853977180644, 0.3495208340352659, 0.5111576766569116, 0.6238784873386557, 0.36855952033072426, 0.9545902988995658, 0.1005210304917834, 0.6591278726356896, 0.17904199059554005, 0.9774650802955589, 0.6396899684001516, 0.5579557049835201, 0.05815886581909058, 0.7579123413394337, 0.8573459370381181, 0.26384221546351994, 0.15863236993731078, 0.5900396095754443, 0.6948215805623399, 0.8242150103496326, 0.5187570928038157, 0.4736667862011713, 0.860694171418835, 0.5411298954938959, 0.6341132367761784, 0.9569699163899396, 0.1845132607516251, 0.02241528208138588, 0.9850645423439415, 0.7034349295153275, 0.5245338367857225, 0.9461847874412745, 0.9761554950456218, 0.4935227828039941, 0.8346473929235741, 0.9456380568495152, 0.36069659342801097, 0.8912493090398713, 0.37258895347949583, 0.1601305345114249, 0.5011176682295134, 0.484991303530276, 0.8483845940330903, 0.30720530898697895, 0.28436117672153627, 0.6577010978415918, 0.9401876850994901, 0.880543543018605, 0.4676007546527312, 0.09781612331617306, 0.08570609863609802, 0.26056266745010903, 0.21717736768753437, 0.3259066154943173, 0.28800229172367087, 0.5529142196218568, 0.3531535182115393, 0.184098470851347, 0.0796480280340115, 0.7120821870248585, 0.42831954939149164, 0.5793241891664489, 0.6185069247501561, 0.40625706095014535, 0.35972574010558267, 0.4222166432294343, 0.7714146385431143, 0.6216627788480988, 0.0899814916331183, 0.5993774832412605, 0.6994770274281606, 0.8538879210476096, 0.8745983807180346, 0.31129966985789703, 0.03245045359147225, 0.9414940272156285, 0.22934580355884415, 0.9623913276886854, 0.2854627273294409, 0.43225696761187427, 0.12542341797420942, 0.5867866049630239, 0.7972192951715548, 0.6888075977489044, 0.05981121795882571, 0.37945442041997146, 0.08911231507723438, 0.5408497850939391, 0.593936331161998, 0.5403844103859073, 0.033614924055798245, 0.03869002342769645, 0.30176054050327905, 0.08348470507384453, 0.18006410091336167, 0.047557603183677966, 0.25004615053945667, 0.4794039264408918, 0.26133505396544543, 0.6598170223439359, 0.7862364864940985, 0.2639628305965718, 0.9644837880668469, 0.5765184101526346, 0.3748039617280112, 0.8574088204496068, 0.1733461486051434, 0.07831827269664482, 0.1889237403855193, 0.09266858443568671, 0.581684083339792, 0.7492079031112171, 0.48049956762698576, 0.17804772527632273, 0.3135940013456957, 0.05629468412160177, 0.6780920594047393, 0.9694663145137986, 0.19714298241436679, 0.32579309246340427, 0.2494143830199822, 0.015631749524233407, 0.016713724512339212, 0.7629331333368786, 0.6839529324616161, 0.5531129769547763, 0.431521919981134, 0.48331376964238826, 0.8637054367361111, 0.6975056923295326, 0.37763263555762927, 0.1842845785095515, 0.24210899643117834, 0.5788963399297923, 0.5143802316399091, 0.09718210690235218, 0.7092222064264696, 0.813599595302325, 0.279750778342457, 0.902217528744901, 0.37001600286787706, 0.712255587919056, 0.020213011687835514, 0.46519522021896154, 0.6634828951093079, 0.30849589227743834, 0.8443829220512351, 0.8636115682531118, 0.2120175736853802, 0.76258632059622, 0.6869958646140266, 0.6184303361176448, 0.8110906541955454, 0.4291999844311495, 0.5745847512034264, 0.2684800098639185, 0.1473958432268373, 0.13553638167799698, 0.027972038632581575, 0.44749837594328723, 0.5918827395216499, 0.5909069295600973, 0.9311127782940491, 0.44024161292211006, 0.8969169983592703, 0.5272257642959366, 0.7636863126679136, 0.1438652697324707, 0.5693635166862967, 0.09901497573078744, 0.9197827052812987, 0.30953211727067564, 0.24207383484037215, 0.2949837988041869, 0.7227347641763976, 0.09645528968235284, 0.6554620420872866, 0.17143145418132488, 0.7753603510621817, 0.07790529125365997, 0.24912908819820978, 0.4700271372225482, 0.3934288033325679, 0.8551302437490623, 0.849709395953695, 0.5547582485284572, 0.8984497929361213, 0.7195556681153535, 0.22687855288406722, 0.9889543493788049, 0.6844331174463971, 0.841067761380476, 0.33950860169547614, 0.9859204114880413, 0.013440468071117762, 0.9918613474885553, 0.7510142622716771, 0.5678016772677461, 0.025882758661175842, 0.08665510340966232, 0.8147881810704757, 0.08545447194180456, 0.420691543359496, 0.1139900402776921, 0.6522552742946107, 0.17571538705028011, 0.2907661070869507, 0.04468469217798898, 0.32422178924384626, 0.9667576862227383, 0.11842395646299009, 0.15260253976874194, 0.9251043404718632, 0.9143287865176069, 0.23920586365265317, 0.8729803164993637, 0.46106743443184217, 0.9906879581132072, 0.1713122314486133, 0.18369195281065842, 0.85308608296371, 0.16028612163172506, 0.81319965219926, 0.1705760116048527, 0.2762300553757254, 0.20997626734524466, 0.6629445247210163, 0.0584946035635292, 0.31926025244515266, 0.3326433449093634, 0.8311197265340645, 0.03764640357165949, 0.1603128968643147, 0.5871926676579546, 0.4949622336302595, 0.9481193199392399, 0.37018876270108814, 0.47831197390583036, 0.3057641964068797, 0.09711592082936693, 0.11263871325292729, 0.249939416973203, 0.06976459441048788, 0.6988005008845052, 0.7185461132829624, 0.45350319887039636, 0.107252558720216, 0.20220777993858796, 0.5131161715382001, 0.48543724973293023, 0.9233222009597155, 0.07387333632983184, 0.32332080177147327, 0.3860598897045705, 0.4194310080297847, 0.5525073507121833, 0.8258122348523448, 0.09119244111593205, 0.7307795684718309, 0.1307105455821329, 0.4051623684742731, 0.5140902428868912, 0.004774164578621898, 0.35483375895325053, 0.7058627027574972, 0.9340576444663619, 0.31276301037211884, 0.9302704036053261, 0.8394667044116872, 0.2482822599537201, 0.4357608763013001, 0.5710799207646604, 0.5040263813237752, 0.5129618963039932, 0.10731230662207358, 0.07489723801533898, 0.2990729341765679, 0.4504777981572752, 0.8739012285471898, 0.057192117698861566, 0.7753547121644722, 0.6927633113607771, 0.06433345799353896, 0.8956562377471554, 0.7733300845258558, 0.1939669932357594, 0.8640985818193938, 0.6204883166864692, 0.7086650463953347, 0.5596890577175915, 0.590739821602117, 0.8608628172175062, 0.17762190477274808, 0.63153933537532, 0.9676352337446438, 0.14899125101103738, 0.3649685147075026, 0.5320340611938027, 0.5327970631009276, 0.7592511808144639, 0.9284720625845388, 0.7063512904832161, 0.6138638081671907, 0.9913807122418546, 0.8334506281936737, 0.8593275533596137, 0.8295305455808294, 0.8644149080172733, 0.7051428739409702, 0.8931509403612777, 0.2394715577553289, 0.24083879619370396, 0.7165850551365129, 0.4666961855760461, 0.7533136973506065, 0.139949121975956, 0.2812571978632338, 0.22029391461755965, 0.7835982057847823, 0.4251943504175488, 0.02129331985602534, 0.8605416410885655, 0.9168565291252309, 0.24265528765514022, 0.8739500491288913, 0.9682899973049034, 0.447740775431659, 0.8724528034509751, 0.21810218645375423, 0.895405524634928, 0.5361383956893523, 0.9301482140386539, 0.9415907524265795, 0.8325883379958064, 0.7998867421536878, 0.4766153258047682, 0.8837854589093751, 0.9109745033675417, 0.21083987214148758, 0.853653044631583, 0.9472244375293043, 0.45174683834954055, 0.39909732276256826, 0.07582073764960984, 0.01156775562508261, 0.9367870349852992, 0.13976523375735328, 0.9249744690992996, 0.08790788471665534, 0.8985734444703836, 0.9917980525775066, 0.5457981355185025, 0.8437191684547956, 0.8272770665226152, 0.06686115769528667, 0.21131039873558177, 0.389185841590198, 0.6678643260625993, 0.11955810241929787, 0.9449274134679903, 0.02824629526039868, 0.021719075219284067, 0.35758755356592997, 0.9866375149046398, 0.7151035630292195, 0.6036855572853418, 0.7847120555523034, 0.28768182576127743, 0.2383251235576952, 0.6212487612276875, 0.6092123776529315, 0.4042393322361677, 0.7896211690425248, 0.5706501745425002, 0.12900818237009204, 0.9218406259931271, 0.030744960050393066, 0.3882979174194755, 0.3321913978520893, 0.08899645506129106, 0.8447953543155994, 0.40456314850514274, 0.9423203996250635, 0.10957549388182108, 0.23145948641420822, 0.475465851568023, 0.21913976785053324, 0.5634928236790764, 0.22872205034821003, 0.16680493682230557, 0.6345979831313373, 0.9768512806398766, 0.34940548604447863, 0.2172761690416838, 0.19920021678097855, 0.5759253344629194, 0.6729954471229923, 0.3732039256647788, 0.12177601078461153, 0.9830460914228519, 0.061731743561798114, 0.46340112606953954, 0.2164627130587352, 0.8093518016891856, 0.08266348870191886, 0.11535857954575612, 0.742723504416577, 0.5250624448154588, 0.827816356978258, 0.5462856740965737, 0.1787638421763419, 0.5608499496874743, 0.09633856211274439, 0.6903497296313216, 0.5261863182381233, 0.2705061654900841, 0.7852084191074172, 0.4306970244515689, 0.0966234741464298, 0.9779432343052226, 0.03816821624346389, 0.6587704622819185, 0.9451760257304881, 0.9568332901030298, 0.7295119195480165, 0.5739341902632125, 0.35608099581251185, 0.6647977694147876, 0.4302306289543447, 0.1678933744808112, 0.8890227864598309, 0.005657389040183536, 0.3750717209051895, 0.8426143294236749, 0.20144623906103887, 0.2569041721569312, 0.31444033820551054, 0.37315037313140764, 0.7338205986731587, 0.8776774798265431, 0.831808485824737, 0.1417450143747936, 0.16217781891626504, 0.7776697734789731, 0.328980523550375, 0.29673935889047154, 0.7133525717703841, 0.9250404632905554, 0.17741304606006547, 0.4687071045375175, 0.5136309679174881, 0.019274420739690545, 0.30586003166367093, 0.5753016776535924, 0.6119324851943742, 0.5740068562778899, 0.5221755640888449, 0.16533254028043776, 0.6168189781046203, 0.3012291908467559, 0.01853479931925961, 0.3939572905929978, 0.9311064597212193, 0.8089755474494916, 0.43174182905065295, 0.7537706539647134, 0.7238552740533444, 0.892798467736926, 0.6127411829758901, 0.24755829528072837, 0.47773019366131775, 0.8896950481135919, 0.838755419216232, 0.5968733951157401, 0.49021240799158505, 0.11826690356527714, 0.8937623021379312, 0.06560825484604871, 0.21033760917711386, 0.4465719131799325, 0.5441804318441283, 0.7557016690235663, 0.9946708029075804, 0.6205741231152895, 0.6647335160063177, 0.5503996739553798, 0.7410610387757939, 0.867177991620083, 0.36783128417036615, 0.9686186534112622, 0.7941028056359279, 0.5013249231634984, 0.6921831206678322, 0.16573049386910654, 0.4407942831752899, 0.7229393395770587, 0.14014975211112546, 0.5256164568152133, 0.34277707979181216, 0.5467545665244191, 0.522577493327764, 0.017670336031693545, 0.49961469612076403, 0.3013695333477413, 0.21885324168605602, 0.15733282114312908, 0.6000391882630118, 0.5118770010600421, 0.6102421190014533, 0.3067561230794733, 0.19956215323929472, 0.7746859494470799, 0.5543535696567073, 0.07030411345779985, 0.4509192203709782, 0.05146512236010725, 0.9071808904257848, 0.3529068697434712, 0.6850739336441524, 0.9973476405914439, 0.44415973439236134, 0.36102313764863014, 0.13022329860428172, 0.08337731478975396, 0.8810916174431028, 0.7855002162923781, 0.7202136583615356, 0.7916970554876481, 0.009831161586613457, 0.9827488148392816, 0.7324405455471131, 0.4929770883781871, 0.6710356623816406, 0.7108766194357452, 0.31871968247393945, 0.24121718256530666, 0.21752546882153667, 0.9740072745035497, 0.8884561983035385, 0.461572257972926, 0.5021999139714619, 0.21814218015216325, 0.810588969492855, 0.18222734204335722, 0.7578575297140279, 0.05973263047907951, 0.41124902303314903, 0.4356444268419003, 0.6321156814367757, 0.7812766836722675, 0.9187168490450768, 0.9410642396359071, 0.9241784224604218, 0.8215877621744226, 0.8821301111555343, 0.18003001108272765, 0.887715101879161, 0.40724775123887424, 0.4207954651336945, 0.7847965371847319, 0.5664570101420625, 0.2402056719046437, 0.11035725991220324, 0.764342654664237, 0.01809538228789276, 0.9546809024560754, 0.9508467859041398, 0.11298479632076219, 0.0398419759205525, 0.8850344440497079, 0.6993087644643168, 0.9444856621799068, 0.8499186046456529, 0.49997496011412623, 0.508583927496895, 0.16926653957745352, 0.4487519520587945, 0.7652599298085118, 0.06191691873654037, 0.8528030435202802, 0.33325964199978786, 0.21329207427026797, 0.5960929719332991, 0.9112821707717769, 0.015823751140567555, 0.8569468376202128, 0.20449775121746006, 0.5971643690770111, 0.8172719086550632, 0.5834315915779688, 0.6411331687011061, 0.9995299884679214, 0.37138965846593763, 0.7651458396576005, 0.24865661535795114, 0.7682520707485462, 0.17812292926558093, 0.9750072829046659, 0.09625774876047166, 0.0765181371805177, 0.9136565909798542, 0.6528835136284027, 0.1459659409938976, 0.800017459029615, 0.20884460833703833, 0.9381265922023339, 0.08075873674634537, 0.49178987308441646, 0.027935721688879367, 0.7840219844384708, 0.24808697478358532, 0.417719679653176, 0.32939413421993413, 0.013767563494496038, 0.42340142068656894, 0.11193901318165489, 0.002123402299552213, 0.7772232942480791, 0.08705315111946277, 0.9070761066927078, 0.8444469858728593, 0.2176417520487034, 0.1854818097594816, 0.09131184021273042, 0.2936037843753865, 0.49320448322870436, 0.3657378920896065, 0.44663661395410215, 0.9553922031231331, 0.5239753904610484, 0.044619155670473254, 0.017925507372637095, 0.48186408229590605, 0.6441926798298959, 0.5375391671231167, 0.6982621002548098, 0.2851358478114294, 0.6449142289017301, 0.9827474959613358, 0.7372097514427323, 0.2504783500198601, 0.8991555519048472, 0.7360483395864745, 0.5248482494084477, 0.6460390166328439, 0.9349122421196981, 0.20805752863357163, 0.18600372151989275, 0.4000391231937075, 0.6601039567651789, 0.7143071051428117, 0.15148506975682008, 0.7949577986072942, 0.7044534276808843, 0.4544961939928407, 0.8356737652574104, 0.0764884155280916, 0.4204725651951904, 0.9581170568673478, 0.5604971654104158, 0.453617229111446, 0.8134189513052646, 0.389967639740636, 0.4470969687534343, 0.07486408374795483, 0.27051493341195476, 0.9730372308546189, 0.7649424738680648, 0.05530436909840364, 0.5156979266302751, 0.11514256523646782, 0.4959634048438504, 0.6742268486590035, 0.16918718262382315, 0.23592525410977028, 0.22454476238140075, 0.443764140841199, 0.39289251646893375, 0.8622237396074329, 0.5393013443620529, 0.2634371517619716, 0.31074662766357275, 0.4697148643166409, 0.031008242342247527, 0.4275595766354675, 0.6784415378559795, 0.6759135922208944, 0.28975043320661387, 0.6702591922885748, 0.5064837238908282, 0.9861761395682839]}}}\n",
      "Response:\n",
      "{'data': {'tftensor': {'dtype': 'DT_FLOAT', 'tensorShape': {'dim': [{'size': '1'}, {'size': '10'}]}, 'floatVal': [6.8955006e-22, 9.1529225e-35, 0.9999759, 2.2782599e-05, 2.5597026e-29, 1.3067478e-06, 1.5452058e-14, 2.924497e-23, 3.714747e-10, 1.19007355e-20]}}}\n"
     ]
    }
   ],
   "source": [
    "r = sc.predict(gateway=\"ambassador\",transport=\"grpc\",shape=(1,784))\n",
    "print(r)\n",
    "assert(r.success==True)"
   ]
  },
  {
   "cell_type": "markdown",
   "metadata": {},
   "source": [
    "And delete the model we deployed"
   ]
  },
  {
   "cell_type": "code",
   "execution_count": 23,
   "metadata": {},
   "outputs": [
    {
     "name": "stdout",
     "output_type": "stream",
     "text": [
      "seldondeployment.machinelearning.seldon.io \"tfserving\" deleted\r\n"
     ]
    }
   ],
   "source": [
    "!kubectl delete -f ./resources/mnist_rest.yaml"
   ]
  },
  {
   "cell_type": "markdown",
   "metadata": {},
   "source": [
    "### Serve Tensorflow Model with Tensorflow protocol\n",
    "\n",
    "The config file below shows how you can deploy your Tensorflow model which\n",
    "exposes the Tensorflow protocol."
   ]
  },
  {
   "cell_type": "code",
   "execution_count": 24,
   "metadata": {},
   "outputs": [
    {
     "name": "stdout",
     "output_type": "stream",
     "text": [
      "Writing ./resources/halfplustwo_rest.yaml\n"
     ]
    }
   ],
   "source": [
    "%%writefile ./resources/halfplustwo_rest.yaml\n",
    "apiVersion: machinelearning.seldon.io/v1alpha2\n",
    "kind: SeldonDeployment\n",
    "metadata:\n",
    "  name: hpt\n",
    "spec:\n",
    "  name: hpt\n",
    "  protocol: tensorflow\n",
    "  transport: rest\n",
    "  predictors:\n",
    "  - graph:\n",
    "      children: []\n",
    "      implementation: TENSORFLOW_SERVER\n",
    "      modelUri: gs://seldon-models/tfserving/half_plus_two\n",
    "      name:  halfplustwo\n",
    "      parameters:\n",
    "        - name: model_name\n",
    "          type: STRING\n",
    "          value: halfplustwo\n",
    "    name: default\n",
    "    replicas: 1"
   ]
  },
  {
   "cell_type": "code",
   "execution_count": 25,
   "metadata": {},
   "outputs": [
    {
     "name": "stdout",
     "output_type": "stream",
     "text": [
      "seldondeployment.machinelearning.seldon.io/hpt created\r\n"
     ]
    }
   ],
   "source": [
    "!kubectl apply -f ./resources/halfplustwo_rest.yaml"
   ]
  },
  {
   "cell_type": "code",
   "execution_count": 26,
   "metadata": {},
   "outputs": [
    {
     "name": "stdout",
     "output_type": "stream",
     "text": [
      "Waiting for deployment \"hpt-default-0-halfplustwo\" rollout to finish: 0 of 1 updated replicas are available...\n",
      "deployment \"hpt-default-0-halfplustwo\" successfully rolled out\n"
     ]
    }
   ],
   "source": [
    "!kubectl rollout status deploy/$(kubectl get deploy -l seldon-deployment-id=hpt -o jsonpath='{.items[0].metadata.name}')"
   ]
  },
  {
   "cell_type": "code",
   "execution_count": 27,
   "metadata": {},
   "outputs": [
    {
     "name": "stdout",
     "output_type": "stream",
     "text": [
      "{'predictions': [2.5, 3.0, 4.5]}\n"
     ]
    }
   ],
   "source": [
    "import json\n",
    "X=!curl -s -d '{\"instances\": [1.0, 2.0, 5.0]}' \\\n",
    "   -X POST http://localhost:8003/seldon/seldon/hpt/v1/models/halfplustwo/:predict \\\n",
    "   -H \"Content-Type: application/json\"\n",
    "d=json.loads(\"\".join(X))\n",
    "print(d)\n",
    "assert(d[\"predictions\"][0] == 2.5)"
   ]
  },
  {
   "cell_type": "code",
   "execution_count": 28,
   "metadata": {},
   "outputs": [
    {
     "name": "stdout",
     "output_type": "stream",
     "text": [
      "{'outputs': {'x': {'dtype': 'DT_FLOAT', 'tensorShape': {'dim': [{'size': '3'}]}, 'floatVal': [2.5, 3, 3.5]}}, 'modelSpec': {'name': 'halfplustwo', 'version': '123', 'signatureName': 'serving_default'}}\n"
     ]
    }
   ],
   "source": [
    "X=!cd ../executor/proto && grpcurl \\\n",
    "   -d '{\"model_spec\":{\"name\":\"halfplustwo\"},\"inputs\":{\"x\":{\"dtype\": 1, \"tensor_shape\": {\"dim\":[{\"size\": 3}]}, \"floatVal\" : [1.0, 2.0, 3.0]}}}' \\\n",
    "   -rpc-header seldon:hpt -rpc-header namespace:seldon \\\n",
    "   -plaintext -proto ./prediction_service.proto \\\n",
    "   0.0.0.0:8003 tensorflow.serving.PredictionService/Predict\n",
    "d=json.loads(\"\".join(X))\n",
    "print(d)\n",
    "assert(d[\"outputs\"][\"x\"][\"floatVal\"][0] == 2.5)"
   ]
  },
  {
   "cell_type": "code",
   "execution_count": 29,
   "metadata": {},
   "outputs": [
    {
     "name": "stdout",
     "output_type": "stream",
     "text": [
      "seldondeployment.machinelearning.seldon.io \"hpt\" deleted\r\n"
     ]
    }
   ],
   "source": [
    "!kubectl delete -f ./resources/halfplustwo_rest.yaml"
   ]
  },
  {
   "cell_type": "markdown",
   "metadata": {},
   "source": [
    "## Serve MLFlow Elasticnet Wines Model\n",
    "We can deploy an MLFlow model uploaded to an object store by using the MLFlow\n",
    "model server implementation as the config below:"
   ]
  },
  {
   "cell_type": "code",
   "execution_count": 31,
   "metadata": {},
   "outputs": [
    {
     "name": "stdout",
     "output_type": "stream",
     "text": [
      "Writing ./resources/elasticnet_wine.yaml\n"
     ]
    }
   ],
   "source": [
    "%%writefile ./resources/elasticnet_wine.yaml\n",
    "apiVersion: machinelearning.seldon.io/v1alpha2\n",
    "kind: SeldonDeployment\n",
    "metadata:\n",
    "  name: mlflow\n",
    "spec:\n",
    "  name: wines\n",
    "  predictors:\n",
    "  - componentSpecs:\n",
    "    - spec:\n",
    "        # We are setting high failureThreshold as installing conda dependencies\n",
    "        # can take long time and we want to avoid k8s killing the container prematurely\n",
    "        containers:\n",
    "        - name: classifier\n",
    "          livenessProbe:\n",
    "            initialDelaySeconds: 80\n",
    "            failureThreshold: 200\n",
    "            periodSeconds: 5\n",
    "            successThreshold: 1\n",
    "            httpGet:\n",
    "              path: /health/ping\n",
    "              port: http\n",
    "              scheme: HTTP\n",
    "          readinessProbe:\n",
    "            initialDelaySeconds: 80\n",
    "            failureThreshold: 200\n",
    "            periodSeconds: 5\n",
    "            successThreshold: 1\n",
    "            httpGet:\n",
    "              path: /health/ping\n",
    "              port: http\n",
    "              scheme: HTTP\n",
    "    graph:\n",
    "      children: []\n",
    "      implementation: MLFLOW_SERVER\n",
    "      modelUri: gs://seldon-models/mlflow/elasticnet_wine\n",
    "      name: classifier\n",
    "    name: default\n",
    "    replicas: 1"
   ]
  },
  {
   "cell_type": "code",
   "execution_count": 32,
   "metadata": {},
   "outputs": [
    {
     "name": "stdout",
     "output_type": "stream",
     "text": [
      "seldondeployment.machinelearning.seldon.io/mlflow created\r\n"
     ]
    }
   ],
   "source": [
    "!kubectl apply -f ./resources/elasticnet_wine.yaml"
   ]
  },
  {
   "cell_type": "code",
   "execution_count": 36,
   "metadata": {},
   "outputs": [
    {
     "name": "stdout",
     "output_type": "stream",
     "text": [
      "deployment \"mlflow-default-0-classifier\" successfully rolled out\r\n"
     ]
    }
   ],
   "source": [
    "!kubectl rollout status deploy/$(kubectl get deploy -l seldon-deployment-id=mlflow -o jsonpath='{.items[0].metadata.name}')"
   ]
  },
  {
   "cell_type": "markdown",
   "metadata": {},
   "source": [
    "#### REST requests"
   ]
  },
  {
   "cell_type": "code",
   "execution_count": 37,
   "metadata": {},
   "outputs": [
    {
     "name": "stdout",
     "output_type": "stream",
     "text": [
      "{'data': {'names': [], 'ndarray': [5.275558760255382]}, 'meta': {}}\n"
     ]
    }
   ],
   "source": [
    "X=!curl -s -d '{\"data\": {\"ndarray\":[[0.1,0.2,0.3,0.4,0.5,0.6,0.7,0.8,0.9,1.0,1.1]]}}' \\\n",
    "   -X POST http://localhost:8003/seldon/seldon/mlflow/api/v1.0/predictions \\\n",
    "   -H \"Content-Type: application/json\"\n",
    "d=json.loads(X[0])\n",
    "print(d)"
   ]
  },
  {
   "cell_type": "code",
   "execution_count": 38,
   "metadata": {},
   "outputs": [],
   "source": [
    "from seldon_core.seldon_client import SeldonClient\n",
    "sc = SeldonClient(deployment_name=\"mlflow\",namespace=\"seldon\")"
   ]
  },
  {
   "cell_type": "code",
   "execution_count": 39,
   "metadata": {},
   "outputs": [
    {
     "name": "stdout",
     "output_type": "stream",
     "text": [
      "Success:True message:\n",
      "Request:\n",
      "meta {\n",
      "}\n",
      "data {\n",
      "  tensor {\n",
      "    shape: 1\n",
      "    shape: 11\n",
      "    values: 0.6222322767587957\n",
      "    values: 0.39577565785887203\n",
      "    values: 0.2685673770421858\n",
      "    values: 0.19681199557736495\n",
      "    values: 0.900537501354123\n",
      "    values: 0.10493672254410757\n",
      "    values: 0.2277284525811598\n",
      "    values: 0.09690877934175901\n",
      "    values: 0.11267963142067294\n",
      "    values: 0.5974612300649484\n",
      "    values: 0.4557584572877905\n",
      "  }\n",
      "}\n",
      "\n",
      "Response:\n",
      "{'data': {'names': [], 'tensor': {'shape': [1], 'values': [5.211586546809321]}}, 'meta': {}}\n"
     ]
    }
   ],
   "source": [
    "r = sc.predict(gateway=\"ambassador\",transport=\"rest\",shape=(1,11))\n",
    "print(r)\n",
    "assert(r.success==True)"
   ]
  },
  {
   "cell_type": "markdown",
   "metadata": {},
   "source": [
    "#### gRPC Requests"
   ]
  },
  {
   "cell_type": "code",
   "execution_count": 40,
   "metadata": {},
   "outputs": [
    {
     "name": "stdout",
     "output_type": "stream",
     "text": [
      "{'meta': {}, 'data': {'ndarray': [5.275558760255382]}}\n"
     ]
    }
   ],
   "source": [
    "X=!cd ../executor/proto && grpcurl -d '{\"data\":{\"ndarray\":[[0.1,0.2,0.3,0.4,0.5,0.6,0.7,0.8,0.9,1.0,1.1]]}}' \\\n",
    "         -rpc-header seldon:mlflow -rpc-header namespace:seldon \\\n",
    "         -plaintext \\\n",
    "         -proto ./prediction.proto  0.0.0.0:8003 seldon.protos.Seldon/Predict\n",
    "d=json.loads(\"\".join(X))\n",
    "print(d)"
   ]
  },
  {
   "cell_type": "code",
   "execution_count": 41,
   "metadata": {},
   "outputs": [
    {
     "name": "stdout",
     "output_type": "stream",
     "text": [
      "Success:True message:\n",
      "Request:\n",
      "{'meta': {}, 'data': {'tensor': {'shape': [1, 11], 'values': [0.6028454766973937, 0.6516403205650613, 0.9043459156703918, 0.8688722250485928, 0.3441794352036055, 0.5410399292355342, 0.7568715878119939, 0.29364411275420144, 0.09646033584332869, 0.08618732258687511, 0.3550782101827542]}}}\n",
      "Response:\n",
      "{'meta': {}, 'data': {'tensor': {'shape': [1], 'values': [5.203227537378]}}}\n"
     ]
    }
   ],
   "source": [
    "r = sc.predict(gateway=\"ambassador\",transport=\"grpc\",shape=(1,11))\n",
    "print(r)\n",
    "assert(r.success==True)"
   ]
  },
  {
   "cell_type": "code",
   "execution_count": 42,
   "metadata": {},
   "outputs": [
    {
     "name": "stdout",
     "output_type": "stream",
     "text": [
      "seldondeployment.machinelearning.seldon.io \"mlflow\" deleted\r\n"
     ]
    }
   ],
   "source": [
    "!kubectl delete -f ./resources/elasticnet_wine.yaml"
   ]
  },
  {
   "cell_type": "code",
   "execution_count": null,
   "metadata": {},
   "outputs": [],
   "source": []
  }
 ],
 "metadata": {
  "kernelspec": {
   "display_name": "Python 3",
   "language": "python",
   "name": "python3"
  },
  "language_info": {
   "codemirror_mode": {
    "name": "ipython",
    "version": 3
   },
   "file_extension": ".py",
   "mimetype": "text/x-python",
   "name": "python",
   "nbconvert_exporter": "python",
   "pygments_lexer": "ipython3",
   "version": "3.6.8"
  },
  "varInspector": {
   "cols": {
    "lenName": 16,
    "lenType": 16,
    "lenVar": 40
   },
   "kernels_config": {
    "python": {
     "delete_cmd_postfix": "",
     "delete_cmd_prefix": "del ",
     "library": "var_list.py",
     "varRefreshCmd": "print(var_dic_list())"
    },
    "r": {
     "delete_cmd_postfix": ") ",
     "delete_cmd_prefix": "rm(",
     "library": "var_list.r",
     "varRefreshCmd": "cat(var_dic_list()) "
    }
   },
   "types_to_exclude": [
    "module",
    "function",
    "builtin_function_or_method",
    "instance",
    "_Feature"
   ],
   "window_display": false
  }
 },
 "nbformat": 4,
 "nbformat_minor": 4
}
